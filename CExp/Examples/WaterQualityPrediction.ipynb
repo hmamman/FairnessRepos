{
 "cells": [
  {
   "cell_type": "code",
   "execution_count": 1,
   "id": "6c36f9a5-618b-469f-b2f7-56bd83082489",
   "metadata": {},
   "outputs": [],
   "source": [
    "import pandas as pd\n",
    "from sklearn.datasets import fetch_california_housing\n",
    "from sklearn.model_selection import train_test_split\n",
    "from sklearn.tree import DecisionTreeRegressor\n",
    "import tensorflow as tf"
   ]
  },
  {
   "cell_type": "code",
   "execution_count": 39,
   "id": "26a67ea8-c66b-4520-8b42-5d8417e27616",
   "metadata": {},
   "outputs": [
    {
     "data": {
      "text/plain": [
       "DecisionTreeRegressor(max_depth=5, random_state=42)"
      ]
     },
     "execution_count": 39,
     "metadata": {},
     "output_type": "execute_result"
    }
   ],
   "source": [
    "# Load the data\n",
    "# df = pd.read_csv(\"california_housing.csv\")\n",
    "\n",
    "# Split the data into training and test sets\n",
    "# X = df.drop(\"median_house_value\", axis=1)\n",
    "# y = df[\"median_house_value\"]\n",
    "data = fetch_california_housing()\n",
    "X = pd.DataFrame(data['data'], columns=data['feature_names'])\n",
    "y = pd.DataFrame(data['target'], columns=['median_house_value'])\n",
    "# X, y = fetch_california_housing(return_X_y=True)\n",
    "X_train, X_test, y_train, y_test = train_test_split(X, y, test_size=0.2, random_state=42)\n",
    "\n",
    "# Define the tree structure\n",
    "tree = DecisionTreeRegressor(random_state=42, max_depth=5)\n",
    "tree.fit(X_train, y_train)"
   ]
  },
  {
   "cell_type": "code",
   "execution_count": 40,
   "id": "e60f0bf7-0088-41f9-8c3a-0d6a8532668f",
   "metadata": {},
   "outputs": [],
   "source": [
    "# Define the Neural Networks for the leaf nodes\n",
    "nn = tf.keras.Sequential()\n",
    "nn.add(tf.keras.layers.Dense(8, input_dim=X_train.shape[1], activation='relu'))\n",
    "nn.add(tf.keras.layers.Dense(1, activation='linear'))\n",
    "nn.compile(optimizer='adam', loss='mean_squared_error')"
   ]
  },
  {
   "cell_type": "code",
   "execution_count": 58,
   "id": "1fe49af8-35c8-4a6a-b18e-5dcf43e2c0dd",
   "metadata": {},
   "outputs": [
    {
     "ename": "KeyError",
     "evalue": "27",
     "output_type": "error",
     "traceback": [
      "\u001b[1;31m---------------------------------------------------------------------------\u001b[0m",
      "\u001b[1;31mKeyError\u001b[0m                                  Traceback (most recent call last)",
      "File \u001b[1;32m~\\Anaconda3\\lib\\site-packages\\pandas\\core\\indexes\\base.py:3629\u001b[0m, in \u001b[0;36mIndex.get_loc\u001b[1;34m(self, key, method, tolerance)\u001b[0m\n\u001b[0;32m   3628\u001b[0m \u001b[38;5;28;01mtry\u001b[39;00m:\n\u001b[1;32m-> 3629\u001b[0m     \u001b[38;5;28;01mreturn\u001b[39;00m \u001b[38;5;28;43mself\u001b[39;49m\u001b[38;5;241;43m.\u001b[39;49m\u001b[43m_engine\u001b[49m\u001b[38;5;241;43m.\u001b[39;49m\u001b[43mget_loc\u001b[49m\u001b[43m(\u001b[49m\u001b[43mcasted_key\u001b[49m\u001b[43m)\u001b[49m\n\u001b[0;32m   3630\u001b[0m \u001b[38;5;28;01mexcept\u001b[39;00m \u001b[38;5;167;01mKeyError\u001b[39;00m \u001b[38;5;28;01mas\u001b[39;00m err:\n",
      "File \u001b[1;32m~\\Anaconda3\\lib\\site-packages\\pandas\\_libs\\index.pyx:136\u001b[0m, in \u001b[0;36mpandas._libs.index.IndexEngine.get_loc\u001b[1;34m()\u001b[0m\n",
      "File \u001b[1;32m~\\Anaconda3\\lib\\site-packages\\pandas\\_libs\\index.pyx:163\u001b[0m, in \u001b[0;36mpandas._libs.index.IndexEngine.get_loc\u001b[1;34m()\u001b[0m\n",
      "File \u001b[1;32mpandas\\_libs\\hashtable_class_helper.pxi:5198\u001b[0m, in \u001b[0;36mpandas._libs.hashtable.PyObjectHashTable.get_item\u001b[1;34m()\u001b[0m\n",
      "File \u001b[1;32mpandas\\_libs\\hashtable_class_helper.pxi:5206\u001b[0m, in \u001b[0;36mpandas._libs.hashtable.PyObjectHashTable.get_item\u001b[1;34m()\u001b[0m\n",
      "\u001b[1;31mKeyError\u001b[0m: 27",
      "\nThe above exception was the direct cause of the following exception:\n",
      "\u001b[1;31mKeyError\u001b[0m                                  Traceback (most recent call last)",
      "Cell \u001b[1;32mIn [58], line 3\u001b[0m\n\u001b[0;32m      1\u001b[0m \u001b[38;5;66;03m# Assign each leaf node with a neural network\u001b[39;00m\n\u001b[0;32m      2\u001b[0m \u001b[38;5;28;01mfor\u001b[39;00m i, leaf_idx \u001b[38;5;129;01min\u001b[39;00m \u001b[38;5;28menumerate\u001b[39m(tree\u001b[38;5;241m.\u001b[39mapply(X_train)):\n\u001b[1;32m----> 3\u001b[0m     \u001b[38;5;28mprint\u001b[39m(\u001b[43mX_train\u001b[49m\u001b[43m[\u001b[49m\u001b[43mleaf_idx\u001b[49m\u001b[43m]\u001b[49m)\n\u001b[0;32m      4\u001b[0m     nn\u001b[38;5;241m.\u001b[39mfit(X_train[leaf_idx]\u001b[38;5;241m.\u001b[39mreshape(\u001b[38;5;241m-\u001b[39m\u001b[38;5;241m1\u001b[39m, X_train\u001b[38;5;241m.\u001b[39mshape[\u001b[38;5;241m1\u001b[39m]), y_train[leaf_idx]\u001b[38;5;241m.\u001b[39mreshape(\u001b[38;5;241m-\u001b[39m\u001b[38;5;241m1\u001b[39m,\u001b[38;5;241m1\u001b[39m))\n\u001b[0;32m      5\u001b[0m     tree\u001b[38;5;241m.\u001b[39mtree_\u001b[38;5;241m.\u001b[39mvalue[leaf_idx] \u001b[38;5;241m=\u001b[39m nn\u001b[38;5;241m.\u001b[39mpredict(X_train[leaf_idx]\u001b[38;5;241m.\u001b[39mreshape(\u001b[38;5;241m-\u001b[39m\u001b[38;5;241m1\u001b[39m, X_train\u001b[38;5;241m.\u001b[39mshape[\u001b[38;5;241m1\u001b[39m]))\n",
      "File \u001b[1;32m~\\Anaconda3\\lib\\site-packages\\pandas\\core\\frame.py:3505\u001b[0m, in \u001b[0;36mDataFrame.__getitem__\u001b[1;34m(self, key)\u001b[0m\n\u001b[0;32m   3503\u001b[0m \u001b[38;5;28;01mif\u001b[39;00m \u001b[38;5;28mself\u001b[39m\u001b[38;5;241m.\u001b[39mcolumns\u001b[38;5;241m.\u001b[39mnlevels \u001b[38;5;241m>\u001b[39m \u001b[38;5;241m1\u001b[39m:\n\u001b[0;32m   3504\u001b[0m     \u001b[38;5;28;01mreturn\u001b[39;00m \u001b[38;5;28mself\u001b[39m\u001b[38;5;241m.\u001b[39m_getitem_multilevel(key)\n\u001b[1;32m-> 3505\u001b[0m indexer \u001b[38;5;241m=\u001b[39m \u001b[38;5;28;43mself\u001b[39;49m\u001b[38;5;241;43m.\u001b[39;49m\u001b[43mcolumns\u001b[49m\u001b[38;5;241;43m.\u001b[39;49m\u001b[43mget_loc\u001b[49m\u001b[43m(\u001b[49m\u001b[43mkey\u001b[49m\u001b[43m)\u001b[49m\n\u001b[0;32m   3506\u001b[0m \u001b[38;5;28;01mif\u001b[39;00m is_integer(indexer):\n\u001b[0;32m   3507\u001b[0m     indexer \u001b[38;5;241m=\u001b[39m [indexer]\n",
      "File \u001b[1;32m~\\Anaconda3\\lib\\site-packages\\pandas\\core\\indexes\\base.py:3631\u001b[0m, in \u001b[0;36mIndex.get_loc\u001b[1;34m(self, key, method, tolerance)\u001b[0m\n\u001b[0;32m   3629\u001b[0m     \u001b[38;5;28;01mreturn\u001b[39;00m \u001b[38;5;28mself\u001b[39m\u001b[38;5;241m.\u001b[39m_engine\u001b[38;5;241m.\u001b[39mget_loc(casted_key)\n\u001b[0;32m   3630\u001b[0m \u001b[38;5;28;01mexcept\u001b[39;00m \u001b[38;5;167;01mKeyError\u001b[39;00m \u001b[38;5;28;01mas\u001b[39;00m err:\n\u001b[1;32m-> 3631\u001b[0m     \u001b[38;5;28;01mraise\u001b[39;00m \u001b[38;5;167;01mKeyError\u001b[39;00m(key) \u001b[38;5;28;01mfrom\u001b[39;00m \u001b[38;5;21;01merr\u001b[39;00m\n\u001b[0;32m   3632\u001b[0m \u001b[38;5;28;01mexcept\u001b[39;00m \u001b[38;5;167;01mTypeError\u001b[39;00m:\n\u001b[0;32m   3633\u001b[0m     \u001b[38;5;66;03m# If we have a listlike key, _check_indexing_error will raise\u001b[39;00m\n\u001b[0;32m   3634\u001b[0m     \u001b[38;5;66;03m#  InvalidIndexError. Otherwise we fall through and re-raise\u001b[39;00m\n\u001b[0;32m   3635\u001b[0m     \u001b[38;5;66;03m#  the TypeError.\u001b[39;00m\n\u001b[0;32m   3636\u001b[0m     \u001b[38;5;28mself\u001b[39m\u001b[38;5;241m.\u001b[39m_check_indexing_error(key)\n",
      "\u001b[1;31mKeyError\u001b[0m: 27"
     ]
    }
   ],
   "source": [
    "# Assign each leaf node with a neural network\n",
    "for i, leaf_idx in enumerate(tree.apply(X_train)):\n",
    "    print(X_train[leaf_idx])\n",
    "    nn.fit(X_train[leaf_idx].reshape(-1, X_train.shape[1]), y_train[leaf_idx].reshape(-1,1))\n",
    "    tree.tree_.value[leaf_idx] = nn.predict(X_train[leaf_idx].reshape(-1, X_train.shape[1]))\n"
   ]
  },
  {
   "cell_type": "code",
   "execution_count": 31,
   "id": "549b0cc8-3122-476a-92f8-4eb8862a2d7f",
   "metadata": {},
   "outputs": [
    {
     "ename": "IndexError",
     "evalue": "invalid index to scalar variable.",
     "output_type": "error",
     "traceback": [
      "\u001b[1;31m---------------------------------------------------------------------------\u001b[0m",
      "\u001b[1;31mIndexError\u001b[0m                                Traceback (most recent call last)",
      "Cell \u001b[1;32mIn [31], line 4\u001b[0m\n\u001b[0;32m      2\u001b[0m \u001b[38;5;28;01mfor\u001b[39;00m i, leaf_idx \u001b[38;5;129;01min\u001b[39;00m \u001b[38;5;28menumerate\u001b[39m(tree\u001b[38;5;241m.\u001b[39mapply(X_train)):\n\u001b[0;32m      3\u001b[0m     leaf_idx_valid \u001b[38;5;241m=\u001b[39m np\u001b[38;5;241m.\u001b[39mwhere(leaf_idx\u001b[38;5;241m<\u001b[39m\u001b[38;5;28mlen\u001b[39m(X_train))[\u001b[38;5;241m0\u001b[39m]\n\u001b[1;32m----> 4\u001b[0m     nn\u001b[38;5;241m.\u001b[39mfit(X_train[\u001b[43mleaf_idx\u001b[49m\u001b[43m[\u001b[49m\u001b[43mleaf_idx_valid\u001b[49m\u001b[43m]\u001b[49m], y_train[leaf_idx[leaf_idx_valid]])\n\u001b[0;32m      5\u001b[0m     tree\u001b[38;5;241m.\u001b[39mtree_\u001b[38;5;241m.\u001b[39mvalue[leaf_idx[leaf_idx_valid]]\n\u001b[0;32m      7\u001b[0m \u001b[38;5;66;03m# Use the tree to make predictions on the test set\u001b[39;00m\n",
      "\u001b[1;31mIndexError\u001b[0m: invalid index to scalar variable."
     ]
    }
   ],
   "source": [
    "# Assign each leaf node with a neural network\n",
    "for i, leaf_idx in enumerate(tree.apply(X_train)):\n",
    "    leaf_idx_valid = np.where(leaf_idx<len(X_train))[0]\n",
    "    nn.fit(X_train[leaf_idx[leaf_idx_valid]], y_train[leaf_idx[leaf_idx_valid]])\n",
    "    tree.tree_.value[leaf_idx[leaf_idx_valid]]\n",
    "\n",
    "# Use the tree to make predictions on the test set\n",
    "y_pred = tree.predict(X_test)\n",
    "\n",
    "# Evaluate the performance of the model\n",
    "from sklearn.metrics import mean_squared_error\n",
    "print(\"MSE:\", mean_squared_error(y_test, y_pred))"
   ]
  },
  {
   "cell_type": "code",
   "execution_count": null,
   "id": "d53a9ba6-59c8-4f2a-8454-cc1bdd708c9f",
   "metadata": {},
   "outputs": [],
   "source": [
    "\n",
    "# Assign each leaf node with a neural network\n",
    "for i, leaf_idx in enumerate(tree.apply(X_train)):\n",
    "    nn.fit(X_train.iloc[leaf_idx], y_train.iloc[leaf_idx])\n",
    "    tree.tree_.value[leaf_idx] = nn.predict(X_train.iloc[leaf_idx])"
   ]
  },
  {
   "cell_type": "code",
   "execution_count": null,
   "id": "faecc84b-5177-476e-bf51-cac2929e06f4",
   "metadata": {},
   "outputs": [],
   "source": []
  }
 ],
 "metadata": {
  "kernelspec": {
   "display_name": "Python 3 (ipykernel)",
   "language": "python",
   "name": "python3"
  },
  "language_info": {
   "codemirror_mode": {
    "name": "ipython",
    "version": 3
   },
   "file_extension": ".py",
   "mimetype": "text/x-python",
   "name": "python",
   "nbconvert_exporter": "python",
   "pygments_lexer": "ipython3",
   "version": "3.9.15"
  }
 },
 "nbformat": 4,
 "nbformat_minor": 5
}
