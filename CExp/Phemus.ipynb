{
 "cells": [
  {
   "cell_type": "code",
   "execution_count": 153,
   "id": "8971e427-b216-42b8-b33d-c7fcdc2c267b",
   "metadata": {
    "pycharm": {
     "is_executing": true
    }
   },
   "outputs": [],
   "source": [
    "import os\n",
    "import random\n",
    "import sys\n",
    "\n",
    "import joblib\n",
    "import numpy as np\n",
    "\n",
    "from sklearn.preprocessing import LabelEncoder\n",
    "le=LabelEncoder()\n",
    "from sklearn.model_selection import train_test_split\n",
    "from sklearn.metrics import f1_score\n",
    "from sklearn.ensemble import RandomForestClassifier\n",
    "from sklearn.svm import SVC\n",
    "from sklearn.tree import DecisionTreeClassifier\n",
    "from sklearn.neural_network import MLPClassifier\n",
    "\n",
    "from Phemus.Dataset import Dataset\n",
    "from Phemus.Aequitas_Fully_Directed_Sklearn import Fully_Direct\n",
    "from scipy.optimize import basinhopping\n",
    "from Phemus.mpFully_Direct import mp_basinhopping\n",
    "# import DiCE\n",
    "import dice_ml\n",
    "from dice_ml.utils import helpers  # helper functions\n",
    "from sdv.metadata import SingleTableMetadata\n",
    "from sdv.single_table import CopulaGANSynthesizer, CTGANSynthesizer\n",
    "from utils.config import bank, census, credit"
   ]
  },
  {
   "cell_type": "code",
   "execution_count": 151,
   "id": "4d7c4d21",
   "metadata": {},
   "outputs": [
    {
     "data": {
      "text/plain": [
       "[[1, 9],\n",
       " [0, 11],\n",
       " [0, 2],\n",
       " [0, 3],\n",
       " [0, 1],\n",
       " [-20, 179],\n",
       " [0, 1],\n",
       " [0, 1],\n",
       " [0, 2],\n",
       " [1, 31],\n",
       " [0, 11],\n",
       " [0, 99],\n",
       " [1, 63],\n",
       " [-1, 39],\n",
       " [0, 1],\n",
       " [0, 3]]"
      ]
     },
     "execution_count": 151,
     "metadata": {},
     "output_type": "execute_result"
    }
   ],
   "source": [
    "bank.input_bounds"
   ]
  },
  {
   "cell_type": "code",
   "execution_count": 154,
   "id": "4bd4a3e8",
   "metadata": {},
   "outputs": [
    {
     "data": {
      "text/plain": [
       "'C:\\\\Users\\\\hussaini_21000736\\\\OneDrive - Universiti Teknologi PETRONAS\\\\PhD Dissertation\\\\Experiments\\\\Fairness\\\\Phemus'"
      ]
     },
     "execution_count": 154,
     "metadata": {},
     "output_type": "execute_result"
    }
   ],
   "source": [
    "# Get the current working directory\n",
    "current_path = os.getcwd()\n",
    "\n",
    "# Add the directory to the PATH environment variable\n",
    "os.environ['PATH'] = f\"{current_path};\" + os.environ['PATH']\n",
    "\n",
    "# Add the directory to the Python sys.path list\n",
    "sys.path.append(current_path)\n",
    "current_path"
   ]
  },
  {
   "cell_type": "code",
   "execution_count": 155,
   "id": "87601b61-4c6a-4c63-9ea5-d707c82a2b7c",
   "metadata": {},
   "outputs": [],
   "source": [
    "def generate_sklearn_classifier(dataset: Dataset, output_pkl_dir):\n",
    "    input_csv_dir = dataset.dataset_dir\n",
    "    col_to_be_predicted = dataset.col_to_be_predicted\n",
    "    model_type = dataset.model_type\n",
    "\n",
    "    df = pd.read_csv(input_csv_dir)\n",
    "    cat_feature = list(df.columns)\n",
    "\n",
    "    for col in cat_feature:\n",
    "        df[col] = le.fit_transform(df[col])\n",
    "\n",
    "    X = df.drop([col_to_be_predicted], axis=1)\n",
    "    y = df[col_to_be_predicted]\n",
    "\n",
    "    X_train, X_test, y_train, y_test = train_test_split(X, y, test_size=0.2, random_state=12)\n",
    "\n",
    "    if model_type == \"DecisionTree\":\n",
    "        model = DecisionTreeClassifier(random_state=42, criterion='entropy', splitter='random')\n",
    "        model_name = 'DecisionTreeClassifier'\n",
    "    elif model_type == \"MLPC\":\n",
    "        model = MLPClassifier(solver='lbfgs', alpha=1e-5, hidden_layer_sizes=(7, 5), random_state=1)\n",
    "        model_name = 'MLPClassifier'\n",
    "    elif model_type == \"SVM\":\n",
    "        model = SVC(gamma=0.0025)\n",
    "        model_name = 'SVC'\n",
    "    elif model_type == \"RandomForest\":\n",
    "        model = RandomForestClassifier(n_estimators=10)\n",
    "        model_name = 'RandomForestClassifier'\n",
    "    else:\n",
    "        error_message = 'The chosen types of model is not supported yet. Please choose from one of the following: \\\n",
    "                            DecisionTree, MLPC, SVM and RandomForest'\n",
    "        raise ValueError(error_message)\n",
    "\n",
    "    model.fit(X_train, y_train)\n",
    "    pred = model.predict(X_test)\n",
    "\n",
    "    scores = []\n",
    "    scores.append({\n",
    "        'model': model_name,\n",
    "        'score': model.score(X_test, y_test),\n",
    "        'f1_score': f1_score(y_test, pred)\n",
    "    })\n",
    "\n",
    "    model.score(X_test, y_test)\n",
    "\n",
    "    joblib.dump(model, output_pkl_dir)"
   ]
  },
  {
   "cell_type": "code",
   "execution_count": 81,
   "id": "efc2e6e3-b761-44c2-aa13-609b64fdb8ea",
   "metadata": {},
   "outputs": [],
   "source": [
    "num_params = 8\n",
    "sensitive_param_idx = 5  # Starts at O\n",
    "sensitive_param_name = \"Gender\"\n",
    "col_to_be_predicted = \"LeaveOrNot\"\n",
    "dataset_dir = f\"{current_path}\\dataset\\Employee.csv\"\n",
    "model_type = \"DecisionTree\"\n",
    "\n",
    "\n",
    "dataset = Dataset(num_params=num_params, sensitive_param_idx=sensitive_param_idx, \\\n",
    "                  model_type=model_type, sensitive_param_name=sensitive_param_name, \\\n",
    "                  col_to_be_predicted=col_to_be_predicted, dataset_dir=dataset_dir)\n",
    "\n",
    "pkl_dir = 'Employee_DecisionTree_Original.pkl'\n",
    "improved_pkl_dir = 'Employee_DecisionTree_Original_Improved.pkl'\n",
    "retrain_csv_dir = 'Employee_Retraining_Dataset.csv'\n",
    "plot_dir = 'Employee_Fairness_Plot.png'\n",
    "\n",
    "perturbation_unit = 1\n",
    "\n",
    "num_trials = 1000\n",
    "samples = 100\n",
    "global_iteration_limit = 1000  # needs to be at least 1000 to be effective\n",
    "local_iteration_limit = 100\n",
    "threshold = 0\n",
    "\n",
    "retrain_csv_dir = 'Employee_Retraining_Dataset.csv'\n",
    "\n",
    "# num_params = 8\n",
    "# sensitive_param_idx = 5  # Starts at O\n",
    "# sensitive_param_name = \"Gender\"\n",
    "# col_to_be_predicted = \"LeaveOrNot\"\n",
    "# dataset_dir = f\"{current_path}\\dataset\\Employee.csv\"\n",
    "# model_type = \"DecisionTree\"\n",
    "\n",
    "\n",
    "# dataset = Dataset(num_params=num_params, sensitive_param_idx=sensitive_param_idx, \\\n",
    "#                   model_type=model_type, sensitive_param_name=sensitive_param_name, \\\n",
    "#                   col_to_be_predicted=col_to_be_predicted, dataset_dir=dataset_dir)\n",
    "\n",
    "# pkl_dir = 'Employee_DecisionTree_Original.pkl'\n",
    "# improved_pkl_dir = 'Employee_DecisionTree_Original_Improved.pkl'\n",
    "# retrain_csv_dir = 'Employee_Retraining_Dataset.csv'\n",
    "# plot_dir = 'Employee_Fairness_Plot.png'\n",
    "\n",
    "# perturbation_unit = 1\n",
    "\n",
    "# num_trials = 1000\n",
    "# samples = 100\n",
    "# global_iteration_limit = 1000  # needs to be at least 1000 to be effective\n",
    "# local_iteration_limit = 100\n",
    "# threshold = 0\n",
    "\n",
    "# retrain_csv_dir = 'Employee_Retraining_Dataset.csv'"
   ]
  },
  {
   "cell_type": "code",
   "execution_count": 5,
   "id": "260b53fb-8b29-4633-b586-00030398c745",
   "metadata": {},
   "outputs": [],
   "source": [
    "import pandas as pd\n",
    "generate_sklearn_classifier(dataset, pkl_dir)"
   ]
  },
  {
   "cell_type": "code",
   "execution_count": 6,
   "id": "c2fd3018",
   "metadata": {},
   "outputs": [],
   "source": [
    "def get_features_range(df):\n",
    "    columns = df.columns\n",
    "    features = {}\n",
    "    for c in columns:\n",
    "        min_value = df[c].min()\n",
    "        max_value = df[c].max()\n",
    "        values = list(range(min_value, max_value+1))\n",
    "        features[c] = values\n",
    "    return features\n",
    "# dfc = pd.read_csv(dataset_dir)\n",
    "# featureget_features_range(dfc)"
   ]
  },
  {
   "cell_type": "code",
   "execution_count": 18,
   "id": "8c99957d",
   "metadata": {},
   "outputs": [],
   "source": [
    "import json\n",
    "\n",
    "def aequitas_fully_directed_sklearn(dataset: Dataset, perturbation_unit, threshold, global_iteration_limit, \\\n",
    "                                    local_iteration_limit, input_pkl_dir, retrain_csv_dir):\n",
    "    print(\"Aequitas Fully Directed Started...\\n\")\n",
    "    initial_input = [random.randint(low, high) for [low, high] in dataset.input_bounds]\n",
    "    minimizer = {\"method\": \"L-BFGS-B\"}\n",
    "\n",
    "    fully_direct = Fully_Direct(dataset, perturbation_unit, threshold, global_iteration_limit, \\\n",
    "                                local_iteration_limit, input_pkl_dir, retrain_csv_dir)\n",
    "\n",
    "    basinhopping(fully_direct.evaluate_global, initial_input, stepsize=1.0, take_step=fully_direct.global_discovery,\n",
    "                 minimizer_kwargs=minimizer,\n",
    "                 niter=global_iteration_limit)\n",
    "\n",
    "    df = pd.DataFrame(fully_direct.global_disc_inputs_list, columns=list(dataset.column_names))\n",
    "    \n",
    "    print('Global discrimination:', len(df))\n",
    "\n",
    "    df.to_csv('global_discrimination.csv', header=list(dataset.column_names), index=False)\n",
    "\n",
    "    print(\"Finished Global Search\")\n",
    "    print(\"Percentage discriminatory inputs - \" + str(float(len(fully_direct.global_disc_inputs_list)\n",
    "                                                            + len(fully_direct.local_disc_inputs_list)) / float(\n",
    "        len(fully_direct.tot_inputs)) * 100))"
   ]
  },
  {
   "cell_type": "code",
   "execution_count": 19,
   "id": "d921cc07-b0aa-4b69-ae03-c5a5fd0330d2",
   "metadata": {},
   "outputs": [
    {
     "name": "stdout",
     "output_type": "stream",
     "text": [
      "Aequitas Fully Directed Started...\n",
      "\n",
      "Global discrimination: 206\n",
      "Finished Global Search\n",
      "Percentage discriminatory inputs - 39.163498098859314\n"
     ]
    }
   ],
   "source": [
    "aequitas_fully_directed_sklearn(\n",
    "    dataset,\n",
    "    perturbation_unit,\n",
    "    threshold,\n",
    "    global_iteration_limit,\n",
    "    local_iteration_limit,\n",
    "    pkl_dir,\n",
    "    improved_pkl_dir)"
   ]
  },
  {
   "cell_type": "code",
   "execution_count": 20,
   "id": "0a4edb5c",
   "metadata": {},
   "outputs": [],
   "source": [
    "df = pd.read_csv('global_discrimination.csv')"
   ]
  },
  {
   "cell_type": "code",
   "execution_count": 37,
   "id": "4ce2ede5",
   "metadata": {},
   "outputs": [
    {
     "name": "stdout",
     "output_type": "stream",
     "text": [
      "[0]\n",
      "[0]\n",
      "[0]\n",
      "[0]\n",
      "[1]\n"
     ]
    }
   ],
   "source": [
    "model = joblib.load(pkl_dir)\n",
    "\n",
    "m = dice_ml.Model(model=model, backend=\"sklearn\")\n",
    "DiCE explanation instance\n",
    "exp = dice_ml.Dice(d,m, method=\"random\")\n",
    "\n",
    "count = 0\n",
    "for count in range(5):\n",
    "    data_point = df.iloc[count]\n",
    "    data = np.array(data_point)[:-1]\n",
    "    print(model.predict(data.reshape(1, -1)))\n",
    "    count += count"
   ]
  },
  {
   "cell_type": "code",
   "execution_count": 82,
   "id": "66c5bbd2",
   "metadata": {},
   "outputs": [
    {
     "name": "stdout",
     "output_type": "stream",
     "text": [
      "{'Education': [0, 1, 2], 'JoiningYear': [0, 1, 2, 3, 4, 5, 6], 'City': [0, 1, 2], 'PaymentTier': [0, 1, 2], 'Age': [0, 1, 2, 3, 4, 5, 6, 7, 8, 9, 10, 11, 12, 13, 14, 15, 16, 17, 18, 19], 'Gender': [-1, 0, 1], 'EverBenched': [0, 1], 'ExperienceInCurrentDomain': [0, 1, 2, 3, 4, 5, 6, 7]}\n"
     ]
    }
   ],
   "source": [
    "m = dice_ml.Model(model=model, backend=\"sklearn\")\n",
    "X_train_all = pd.read_csv(dataset.dataset_dir)\n",
    "data = pd.DataFrame(np.array(df), columns=X_train_all.columns)\n",
    "X = data.drop(col_to_be_predicted, axis=1)\n",
    "\n",
    "#     d = dice_ml.Data(dataframe=X_train_all,\n",
    "#                      continuous_features=[],\n",
    "#                     outcome_name='LeaveOrNot')\n",
    "# Pre-trained ML model\n",
    "model = joblib.load(pkl_dir)\n",
    "features = get_features_range(X_train_all.drop(col_to_be_predicted, axis=1))\n",
    "print(features)\n",
    "d = dice_ml.data.Data(features=features, continuous_features=[], outcome_name=col_to_be_predicted)\n",
    "m = dice_ml.Model(model=model, backend=\"sklearn\")\n",
    "# DiCE explanation instance\n",
    "exp = dice_ml.Dice(d,m, method=\"random\")"
   ]
  },
  {
   "cell_type": "code",
   "execution_count": 66,
   "id": "cec6a260",
   "metadata": {},
   "outputs": [
    {
     "name": "stderr",
     "output_type": "stream",
     "text": [
      "100%|██████████| 1/1 [00:00<00:00,  6.67it/s]"
     ]
    },
    {
     "name": "stdout",
     "output_type": "stream",
     "text": [
      "Only 747 (required 1000)  Diverse Counterfactuals found for the given configuration, perhaps try with different parameters... ; total time taken: 00 min 00 sec\n"
     ]
    },
    {
     "name": "stderr",
     "output_type": "stream",
     "text": [
      "\n"
     ]
    }
   ],
   "source": [
    "exp_dataset = df.drop('LeaveOrNot', axis=1)\n",
    "dice_exp = exp.generate_counterfactuals(dataset.iloc[0:1], total_CFs=1000, desired_class=f'opposite')"
   ]
  },
  {
   "cell_type": "code",
   "execution_count": 141,
   "id": "e89455e9",
   "metadata": {},
   "outputs": [
    {
     "name": "stdout",
     "output_type": "stream",
     "text": [
      "5\n"
     ]
    },
    {
     "name": "stderr",
     "output_type": "stream",
     "text": [
      "100%|██████████| 1/1 [00:00<00:00,  7.06it/s]"
     ]
    },
    {
     "name": "stdout",
     "output_type": "stream",
     "text": [
      "Only 334 (required 1000)  Diverse Counterfactuals found for the given configuration, perhaps try with different parameters... ; total time taken: 00 min 00 sec\n"
     ]
    },
    {
     "name": "stderr",
     "output_type": "stream",
     "text": [
      "\n",
      "100%|██████████| 1/1 [00:00<00:00,  6.55it/s]\n"
     ]
    },
    {
     "name": "stdout",
     "output_type": "stream",
     "text": [
      "Only 454 (required 1000)  Diverse Counterfactuals found for the given configuration, perhaps try with different parameters... ; total time taken: 00 min 00 sec\n"
     ]
    },
    {
     "name": "stderr",
     "output_type": "stream",
     "text": [
      "100%|██████████| 1/1 [00:00<00:00,  7.03it/s]\n"
     ]
    },
    {
     "name": "stdout",
     "output_type": "stream",
     "text": [
      "Only 467 (required 1000)  Diverse Counterfactuals found for the given configuration, perhaps try with different parameters... ; total time taken: 00 min 00 sec\n"
     ]
    },
    {
     "name": "stderr",
     "output_type": "stream",
     "text": [
      "100%|██████████| 1/1 [00:00<00:00,  7.30it/s]\n"
     ]
    },
    {
     "name": "stdout",
     "output_type": "stream",
     "text": [
      "Only 328 (required 1000)  Diverse Counterfactuals found for the given configuration, perhaps try with different parameters... ; total time taken: 00 min 00 sec\n"
     ]
    },
    {
     "name": "stderr",
     "output_type": "stream",
     "text": [
      "100%|██████████| 1/1 [00:00<00:00,  6.32it/s]\n"
     ]
    },
    {
     "name": "stdout",
     "output_type": "stream",
     "text": [
      "Only 331 (required 1000)  Diverse Counterfactuals found for the given configuration, perhaps try with different parameters... ; total time taken: 00 min 00 sec\n"
     ]
    },
    {
     "name": "stderr",
     "output_type": "stream",
     "text": [
      "100%|██████████| 1/1 [00:00<00:00,  6.68it/s]\n"
     ]
    },
    {
     "name": "stdout",
     "output_type": "stream",
     "text": [
      "Only 601 (required 1000)  Diverse Counterfactuals found for the given configuration, perhaps try with different parameters... ; total time taken: 00 min 00 sec\n"
     ]
    },
    {
     "name": "stderr",
     "output_type": "stream",
     "text": [
      "100%|██████████| 1/1 [00:00<00:00,  6.43it/s]\n"
     ]
    },
    {
     "name": "stdout",
     "output_type": "stream",
     "text": [
      "Only 403 (required 1000)  Diverse Counterfactuals found for the given configuration, perhaps try with different parameters... ; total time taken: 00 min 00 sec\n"
     ]
    },
    {
     "name": "stderr",
     "output_type": "stream",
     "text": [
      "100%|██████████| 1/1 [00:00<00:00,  6.53it/s]\n"
     ]
    },
    {
     "name": "stdout",
     "output_type": "stream",
     "text": [
      "Only 323 (required 1000)  Diverse Counterfactuals found for the given configuration, perhaps try with different parameters... ; total time taken: 00 min 00 sec\n"
     ]
    },
    {
     "name": "stderr",
     "output_type": "stream",
     "text": [
      "100%|██████████| 1/1 [00:00<00:00,  6.90it/s]\n"
     ]
    },
    {
     "name": "stdout",
     "output_type": "stream",
     "text": [
      "Only 274 (required 1000)  Diverse Counterfactuals found for the given configuration, perhaps try with different parameters... ; total time taken: 00 min 00 sec\n"
     ]
    },
    {
     "name": "stderr",
     "output_type": "stream",
     "text": [
      "100%|██████████| 1/1 [00:00<00:00,  6.29it/s]\n"
     ]
    },
    {
     "name": "stdout",
     "output_type": "stream",
     "text": [
      "Only 288 (required 1000)  Diverse Counterfactuals found for the given configuration, perhaps try with different parameters... ; total time taken: 00 min 00 sec\n"
     ]
    },
    {
     "name": "stderr",
     "output_type": "stream",
     "text": [
      "100%|██████████| 1/1 [00:00<00:00,  6.21it/s]\n"
     ]
    },
    {
     "name": "stdout",
     "output_type": "stream",
     "text": [
      "Only 430 (required 1000)  Diverse Counterfactuals found for the given configuration, perhaps try with different parameters... ; total time taken: 00 min 00 sec\n"
     ]
    },
    {
     "name": "stderr",
     "output_type": "stream",
     "text": [
      "100%|██████████| 1/1 [00:00<00:00,  6.88it/s]\n"
     ]
    },
    {
     "name": "stdout",
     "output_type": "stream",
     "text": [
      "Only 398 (required 1000)  Diverse Counterfactuals found for the given configuration, perhaps try with different parameters... ; total time taken: 00 min 00 sec\n"
     ]
    },
    {
     "name": "stderr",
     "output_type": "stream",
     "text": [
      "100%|██████████| 1/1 [00:00<00:00,  6.36it/s]\n"
     ]
    },
    {
     "name": "stdout",
     "output_type": "stream",
     "text": [
      "Only 559 (required 1000)  Diverse Counterfactuals found for the given configuration, perhaps try with different parameters... ; total time taken: 00 min 00 sec\n"
     ]
    },
    {
     "name": "stderr",
     "output_type": "stream",
     "text": [
      "100%|██████████| 1/1 [00:00<00:00,  6.68it/s]\n"
     ]
    },
    {
     "name": "stdout",
     "output_type": "stream",
     "text": [
      "Only 525 (required 1000)  Diverse Counterfactuals found for the given configuration, perhaps try with different parameters... ; total time taken: 00 min 00 sec\n"
     ]
    },
    {
     "name": "stderr",
     "output_type": "stream",
     "text": [
      "100%|██████████| 1/1 [00:00<00:00,  6.71it/s]\n"
     ]
    },
    {
     "name": "stdout",
     "output_type": "stream",
     "text": [
      "Only 519 (required 1000)  Diverse Counterfactuals found for the given configuration, perhaps try with different parameters... ; total time taken: 00 min 00 sec\n"
     ]
    },
    {
     "name": "stderr",
     "output_type": "stream",
     "text": [
      "100%|██████████| 1/1 [00:00<00:00,  6.90it/s]\n"
     ]
    },
    {
     "name": "stdout",
     "output_type": "stream",
     "text": [
      "Only 353 (required 1000)  Diverse Counterfactuals found for the given configuration, perhaps try with different parameters... ; total time taken: 00 min 00 sec\n"
     ]
    },
    {
     "name": "stderr",
     "output_type": "stream",
     "text": [
      "100%|██████████| 1/1 [00:00<00:00,  6.61it/s]\n"
     ]
    },
    {
     "name": "stdout",
     "output_type": "stream",
     "text": [
      "Only 496 (required 1000)  Diverse Counterfactuals found for the given configuration, perhaps try with different parameters... ; total time taken: 00 min 00 sec\n"
     ]
    },
    {
     "name": "stderr",
     "output_type": "stream",
     "text": [
      "100%|██████████| 1/1 [00:00<00:00,  6.99it/s]\n"
     ]
    },
    {
     "name": "stdout",
     "output_type": "stream",
     "text": [
      "Only 317 (required 1000)  Diverse Counterfactuals found for the given configuration, perhaps try with different parameters... ; total time taken: 00 min 00 sec\n"
     ]
    },
    {
     "name": "stderr",
     "output_type": "stream",
     "text": [
      "100%|██████████| 1/1 [00:00<00:00,  6.49it/s]\n"
     ]
    },
    {
     "name": "stdout",
     "output_type": "stream",
     "text": [
      "Only 358 (required 1000)  Diverse Counterfactuals found for the given configuration, perhaps try with different parameters... ; total time taken: 00 min 00 sec\n"
     ]
    },
    {
     "name": "stderr",
     "output_type": "stream",
     "text": [
      "100%|██████████| 1/1 [00:00<00:00,  6.83it/s]\n"
     ]
    },
    {
     "name": "stdout",
     "output_type": "stream",
     "text": [
      "Only 531 (required 1000)  Diverse Counterfactuals found for the given configuration, perhaps try with different parameters... ; total time taken: 00 min 00 sec\n"
     ]
    },
    {
     "name": "stderr",
     "output_type": "stream",
     "text": [
      "100%|██████████| 1/1 [00:00<00:00,  7.59it/s]\n"
     ]
    },
    {
     "name": "stdout",
     "output_type": "stream",
     "text": [
      "Only 345 (required 1000)  Diverse Counterfactuals found for the given configuration, perhaps try with different parameters... ; total time taken: 00 min 00 sec\n"
     ]
    },
    {
     "name": "stderr",
     "output_type": "stream",
     "text": [
      "100%|██████████| 1/1 [00:00<00:00,  6.67it/s]\n"
     ]
    },
    {
     "name": "stdout",
     "output_type": "stream",
     "text": [
      "Only 271 (required 1000)  Diverse Counterfactuals found for the given configuration, perhaps try with different parameters... ; total time taken: 00 min 00 sec\n"
     ]
    },
    {
     "name": "stderr",
     "output_type": "stream",
     "text": [
      "100%|██████████| 1/1 [00:00<00:00,  6.38it/s]\n"
     ]
    },
    {
     "name": "stdout",
     "output_type": "stream",
     "text": [
      "Only 431 (required 1000)  Diverse Counterfactuals found for the given configuration, perhaps try with different parameters... ; total time taken: 00 min 00 sec\n"
     ]
    },
    {
     "name": "stderr",
     "output_type": "stream",
     "text": [
      "100%|██████████| 1/1 [00:00<00:00,  7.41it/s]\n"
     ]
    },
    {
     "name": "stdout",
     "output_type": "stream",
     "text": [
      "Only 329 (required 1000)  Diverse Counterfactuals found for the given configuration, perhaps try with different parameters... ; total time taken: 00 min 00 sec\n"
     ]
    },
    {
     "name": "stderr",
     "output_type": "stream",
     "text": [
      "100%|██████████| 1/1 [00:00<00:00,  7.43it/s]"
     ]
    },
    {
     "name": "stdout",
     "output_type": "stream",
     "text": [
      "Only 303 (required 1000)  Diverse Counterfactuals found for the given configuration, perhaps try with different parameters... ; total time taken: 00 min 00 sec\n"
     ]
    },
    {
     "name": "stderr",
     "output_type": "stream",
     "text": [
      "100%|██████████| 1/1 [00:00<00:00,  7.43it/s]\n",
      "100%|██████████| 1/1 [00:00<00:00,  7.16it/s]\n"
     ]
    },
    {
     "name": "stdout",
     "output_type": "stream",
     "text": [
      "Only 538 (required 1000)  Diverse Counterfactuals found for the given configuration, perhaps try with different parameters... ; total time taken: 00 min 00 sec\n"
     ]
    },
    {
     "name": "stderr",
     "output_type": "stream",
     "text": [
      "100%|██████████| 1/1 [00:00<00:00,  7.40it/s]\n"
     ]
    },
    {
     "name": "stdout",
     "output_type": "stream",
     "text": [
      "Only 606 (required 1000)  Diverse Counterfactuals found for the given configuration, perhaps try with different parameters... ; total time taken: 00 min 00 sec\n"
     ]
    },
    {
     "name": "stderr",
     "output_type": "stream",
     "text": [
      "100%|██████████| 1/1 [00:00<00:00,  7.31it/s]\n"
     ]
    },
    {
     "name": "stdout",
     "output_type": "stream",
     "text": [
      "Only 241 (required 1000)  Diverse Counterfactuals found for the given configuration, perhaps try with different parameters... ; total time taken: 00 min 00 sec\n"
     ]
    },
    {
     "name": "stderr",
     "output_type": "stream",
     "text": [
      "100%|██████████| 1/1 [00:00<00:00,  7.26it/s]"
     ]
    },
    {
     "name": "stdout",
     "output_type": "stream",
     "text": [
      "Only 395 (required 1000)  Diverse Counterfactuals found for the given configuration, perhaps try with different parameters... ; total time taken: 00 min 00 sec\n"
     ]
    },
    {
     "name": "stderr",
     "output_type": "stream",
     "text": [
      "100%|██████████| 1/1 [00:00<00:00,  7.26it/s]\n",
      "100%|██████████| 1/1 [00:00<00:00,  7.49it/s]\n"
     ]
    },
    {
     "name": "stdout",
     "output_type": "stream",
     "text": [
      "Only 247 (required 1000)  Diverse Counterfactuals found for the given configuration, perhaps try with different parameters... ; total time taken: 00 min 00 sec\n"
     ]
    },
    {
     "name": "stderr",
     "output_type": "stream",
     "text": [
      "100%|██████████| 1/1 [00:00<00:00,  7.14it/s]"
     ]
    },
    {
     "name": "stdout",
     "output_type": "stream",
     "text": [
      "Only 573 (required 1000)  Diverse Counterfactuals found for the given configuration, perhaps try with different parameters... ; total time taken: 00 min 00 sec\n"
     ]
    },
    {
     "name": "stderr",
     "output_type": "stream",
     "text": [
      "100%|██████████| 1/1 [00:00<00:00,  7.09it/s]\n",
      "100%|██████████| 1/1 [00:00<00:00,  7.20it/s]\n"
     ]
    },
    {
     "name": "stdout",
     "output_type": "stream",
     "text": [
      "Only 190 (required 1000)  Diverse Counterfactuals found for the given configuration, perhaps try with different parameters... ; total time taken: 00 min 00 sec\n"
     ]
    },
    {
     "name": "stderr",
     "output_type": "stream",
     "text": [
      "100%|██████████| 1/1 [00:00<00:00,  7.11it/s]"
     ]
    },
    {
     "name": "stdout",
     "output_type": "stream",
     "text": [
      "Only 400 (required 1000)  Diverse Counterfactuals found for the given configuration, perhaps try with different parameters... ; total time taken: 00 min 00 sec\n"
     ]
    },
    {
     "name": "stderr",
     "output_type": "stream",
     "text": [
      "100%|██████████| 1/1 [00:00<00:00,  7.06it/s]\n",
      "100%|██████████| 1/1 [00:00<00:00,  7.60it/s]\n"
     ]
    },
    {
     "name": "stdout",
     "output_type": "stream",
     "text": [
      "Only 394 (required 1000)  Diverse Counterfactuals found for the given configuration, perhaps try with different parameters... ; total time taken: 00 min 00 sec\n"
     ]
    },
    {
     "name": "stderr",
     "output_type": "stream",
     "text": [
      "100%|██████████| 1/1 [00:00<00:00,  7.35it/s]\n"
     ]
    },
    {
     "name": "stdout",
     "output_type": "stream",
     "text": [
      "Only 202 (required 1000)  Diverse Counterfactuals found for the given configuration, perhaps try with different parameters... ; total time taken: 00 min 00 sec\n"
     ]
    },
    {
     "name": "stderr",
     "output_type": "stream",
     "text": [
      "100%|██████████| 1/1 [00:00<00:00,  7.30it/s]"
     ]
    },
    {
     "name": "stdout",
     "output_type": "stream",
     "text": [
      "Only 457 (required 1000)  Diverse Counterfactuals found for the given configuration, perhaps try with different parameters... ; total time taken: 00 min 00 sec\n"
     ]
    },
    {
     "name": "stderr",
     "output_type": "stream",
     "text": [
      "100%|██████████| 1/1 [00:00<00:00,  7.25it/s]\n",
      "100%|██████████| 1/1 [00:00<00:00,  6.99it/s]\n"
     ]
    },
    {
     "name": "stdout",
     "output_type": "stream",
     "text": [
      "Only 574 (required 1000)  Diverse Counterfactuals found for the given configuration, perhaps try with different parameters... ; total time taken: 00 min 00 sec\n"
     ]
    },
    {
     "name": "stderr",
     "output_type": "stream",
     "text": [
      "100%|██████████| 1/1 [00:00<00:00,  7.56it/s]\n"
     ]
    },
    {
     "name": "stdout",
     "output_type": "stream",
     "text": [
      "Only 334 (required 1000)  Diverse Counterfactuals found for the given configuration, perhaps try with different parameters... ; total time taken: 00 min 00 sec\n"
     ]
    },
    {
     "name": "stderr",
     "output_type": "stream",
     "text": [
      "100%|██████████| 1/1 [00:00<00:00,  7.36it/s]\n"
     ]
    },
    {
     "name": "stdout",
     "output_type": "stream",
     "text": [
      "Only 389 (required 1000)  Diverse Counterfactuals found for the given configuration, perhaps try with different parameters... ; total time taken: 00 min 00 sec\n"
     ]
    },
    {
     "name": "stderr",
     "output_type": "stream",
     "text": [
      "100%|██████████| 1/1 [00:00<00:00,  7.37it/s]\n"
     ]
    },
    {
     "name": "stdout",
     "output_type": "stream",
     "text": [
      "Only 434 (required 1000)  Diverse Counterfactuals found for the given configuration, perhaps try with different parameters... ; total time taken: 00 min 00 sec\n"
     ]
    },
    {
     "name": "stderr",
     "output_type": "stream",
     "text": [
      "100%|██████████| 1/1 [00:00<00:00,  7.30it/s]\n"
     ]
    },
    {
     "name": "stdout",
     "output_type": "stream",
     "text": [
      "Only 606 (required 1000)  Diverse Counterfactuals found for the given configuration, perhaps try with different parameters... ; total time taken: 00 min 00 sec\n"
     ]
    },
    {
     "name": "stderr",
     "output_type": "stream",
     "text": [
      "100%|██████████| 1/1 [00:00<00:00,  7.16it/s]\n"
     ]
    },
    {
     "name": "stdout",
     "output_type": "stream",
     "text": [
      "Only 533 (required 1000)  Diverse Counterfactuals found for the given configuration, perhaps try with different parameters... ; total time taken: 00 min 00 sec\n"
     ]
    },
    {
     "name": "stderr",
     "output_type": "stream",
     "text": [
      "100%|██████████| 1/1 [00:00<00:00,  7.60it/s]\n"
     ]
    },
    {
     "name": "stdout",
     "output_type": "stream",
     "text": [
      "Only 312 (required 1000)  Diverse Counterfactuals found for the given configuration, perhaps try with different parameters... ; total time taken: 00 min 00 sec\n"
     ]
    },
    {
     "name": "stderr",
     "output_type": "stream",
     "text": [
      "100%|██████████| 1/1 [00:00<00:00,  7.10it/s]\n"
     ]
    },
    {
     "name": "stdout",
     "output_type": "stream",
     "text": [
      "Only 563 (required 1000)  Diverse Counterfactuals found for the given configuration, perhaps try with different parameters... ; total time taken: 00 min 00 sec\n"
     ]
    },
    {
     "name": "stderr",
     "output_type": "stream",
     "text": [
      "100%|██████████| 1/1 [00:00<00:00,  7.06it/s]\n"
     ]
    },
    {
     "name": "stdout",
     "output_type": "stream",
     "text": [
      "Only 297 (required 1000)  Diverse Counterfactuals found for the given configuration, perhaps try with different parameters... ; total time taken: 00 min 00 sec\n"
     ]
    },
    {
     "name": "stderr",
     "output_type": "stream",
     "text": [
      "100%|██████████| 1/1 [00:00<00:00,  7.02it/s]\n"
     ]
    },
    {
     "name": "stdout",
     "output_type": "stream",
     "text": [
      "Only 323 (required 1000)  Diverse Counterfactuals found for the given configuration, perhaps try with different parameters... ; total time taken: 00 min 00 sec\n"
     ]
    },
    {
     "name": "stderr",
     "output_type": "stream",
     "text": [
      "100%|██████████| 1/1 [00:00<00:00,  7.12it/s]\n"
     ]
    },
    {
     "name": "stdout",
     "output_type": "stream",
     "text": [
      "Only 606 (required 1000)  Diverse Counterfactuals found for the given configuration, perhaps try with different parameters... ; total time taken: 00 min 00 sec\n"
     ]
    },
    {
     "name": "stderr",
     "output_type": "stream",
     "text": [
      "100%|██████████| 1/1 [00:00<00:00,  7.65it/s]\n"
     ]
    },
    {
     "name": "stdout",
     "output_type": "stream",
     "text": [
      "Only 434 (required 1000)  Diverse Counterfactuals found for the given configuration, perhaps try with different parameters... ; total time taken: 00 min 00 sec\n"
     ]
    },
    {
     "name": "stderr",
     "output_type": "stream",
     "text": [
      "100%|██████████| 1/1 [00:00<00:00,  7.31it/s]\n"
     ]
    },
    {
     "name": "stdout",
     "output_type": "stream",
     "text": [
      "Only 627 (required 1000)  Diverse Counterfactuals found for the given configuration, perhaps try with different parameters... ; total time taken: 00 min 00 sec\n"
     ]
    },
    {
     "name": "stderr",
     "output_type": "stream",
     "text": [
      "100%|██████████| 1/1 [00:00<00:00,  7.27it/s]\n"
     ]
    },
    {
     "name": "stdout",
     "output_type": "stream",
     "text": [
      "Only 336 (required 1000)  Diverse Counterfactuals found for the given configuration, perhaps try with different parameters... ; total time taken: 00 min 00 sec\n"
     ]
    },
    {
     "name": "stderr",
     "output_type": "stream",
     "text": [
      "100%|██████████| 1/1 [00:00<00:00,  7.61it/s]\n"
     ]
    },
    {
     "name": "stdout",
     "output_type": "stream",
     "text": [
      "Only 523 (required 1000)  Diverse Counterfactuals found for the given configuration, perhaps try with different parameters... ; total time taken: 00 min 00 sec\n"
     ]
    },
    {
     "name": "stderr",
     "output_type": "stream",
     "text": [
      "100%|██████████| 1/1 [00:00<00:00,  7.70it/s]\n"
     ]
    },
    {
     "name": "stdout",
     "output_type": "stream",
     "text": [
      "Only 383 (required 1000)  Diverse Counterfactuals found for the given configuration, perhaps try with different parameters... ; total time taken: 00 min 00 sec\n"
     ]
    },
    {
     "name": "stderr",
     "output_type": "stream",
     "text": [
      "100%|██████████| 1/1 [00:00<00:00,  7.37it/s]\n"
     ]
    },
    {
     "name": "stdout",
     "output_type": "stream",
     "text": [
      "Only 392 (required 1000)  Diverse Counterfactuals found for the given configuration, perhaps try with different parameters... ; total time taken: 00 min 00 sec\n"
     ]
    },
    {
     "name": "stderr",
     "output_type": "stream",
     "text": [
      "100%|██████████| 1/1 [00:00<00:00,  6.68it/s]\n"
     ]
    },
    {
     "name": "stdout",
     "output_type": "stream",
     "text": [
      "Only 711 (required 1000)  Diverse Counterfactuals found for the given configuration, perhaps try with different parameters... ; total time taken: 00 min 00 sec\n"
     ]
    },
    {
     "name": "stderr",
     "output_type": "stream",
     "text": [
      "100%|██████████| 1/1 [00:00<00:00,  7.79it/s]\n"
     ]
    },
    {
     "name": "stdout",
     "output_type": "stream",
     "text": [
      "Only 235 (required 1000)  Diverse Counterfactuals found for the given configuration, perhaps try with different parameters... ; total time taken: 00 min 00 sec\n"
     ]
    },
    {
     "name": "stderr",
     "output_type": "stream",
     "text": [
      "100%|██████████| 1/1 [00:00<00:00,  7.19it/s]"
     ]
    },
    {
     "name": "stdout",
     "output_type": "stream",
     "text": [
      "Only 534 (required 1000)  Diverse Counterfactuals found for the given configuration, perhaps try with different parameters... ; total time taken: 00 min 00 sec\n"
     ]
    },
    {
     "name": "stderr",
     "output_type": "stream",
     "text": [
      "100%|██████████| 1/1 [00:00<00:00,  7.19it/s]\n",
      "100%|██████████| 1/1 [00:00<00:00,  6.94it/s]\n"
     ]
    },
    {
     "name": "stdout",
     "output_type": "stream",
     "text": [
      "Only 371 (required 1000)  Diverse Counterfactuals found for the given configuration, perhaps try with different parameters... ; total time taken: 00 min 00 sec\n"
     ]
    },
    {
     "name": "stderr",
     "output_type": "stream",
     "text": [
      "100%|██████████| 1/1 [00:00<00:00,  7.81it/s]\n"
     ]
    },
    {
     "name": "stdout",
     "output_type": "stream",
     "text": [
      "Only 110 (required 1000)  Diverse Counterfactuals found for the given configuration, perhaps try with different parameters... ; total time taken: 00 min 00 sec\n"
     ]
    },
    {
     "name": "stderr",
     "output_type": "stream",
     "text": [
      "100%|██████████| 1/1 [00:00<00:00,  7.29it/s]\n"
     ]
    },
    {
     "name": "stdout",
     "output_type": "stream",
     "text": [
      "Only 332 (required 1000)  Diverse Counterfactuals found for the given configuration, perhaps try with different parameters... ; total time taken: 00 min 00 sec\n"
     ]
    },
    {
     "name": "stderr",
     "output_type": "stream",
     "text": [
      "100%|██████████| 1/1 [00:00<00:00,  7.07it/s]\n"
     ]
    },
    {
     "name": "stdout",
     "output_type": "stream",
     "text": [
      "Only 199 (required 1000)  Diverse Counterfactuals found for the given configuration, perhaps try with different parameters... ; total time taken: 00 min 00 sec\n"
     ]
    },
    {
     "name": "stderr",
     "output_type": "stream",
     "text": [
      "100%|██████████| 1/1 [00:00<00:00,  7.35it/s]"
     ]
    },
    {
     "name": "stdout",
     "output_type": "stream",
     "text": [
      "Only 295 (required 1000)  Diverse Counterfactuals found for the given configuration, perhaps try with different parameters... ; total time taken: 00 min 00 sec\n"
     ]
    },
    {
     "name": "stderr",
     "output_type": "stream",
     "text": [
      "100%|██████████| 1/1 [00:00<00:00,  7.29it/s]\n",
      "100%|██████████| 1/1 [00:00<00:00,  6.84it/s]\n"
     ]
    },
    {
     "name": "stdout",
     "output_type": "stream",
     "text": [
      "Only 205 (required 1000)  Diverse Counterfactuals found for the given configuration, perhaps try with different parameters... ; total time taken: 00 min 00 sec\n"
     ]
    },
    {
     "name": "stderr",
     "output_type": "stream",
     "text": [
      "100%|██████████| 1/1 [00:00<00:00,  7.54it/s]"
     ]
    },
    {
     "name": "stdout",
     "output_type": "stream",
     "text": [
      "Only 685 (required 1000)  Diverse Counterfactuals found for the given configuration, perhaps try with different parameters... ; total time taken: 00 min 00 sec\n"
     ]
    },
    {
     "name": "stderr",
     "output_type": "stream",
     "text": [
      "100%|██████████| 1/1 [00:00<00:00,  7.54it/s]\n",
      "100%|██████████| 1/1 [00:00<00:00,  7.30it/s]\n"
     ]
    },
    {
     "name": "stdout",
     "output_type": "stream",
     "text": [
      "Only 455 (required 1000)  Diverse Counterfactuals found for the given configuration, perhaps try with different parameters... ; total time taken: 00 min 00 sec\n"
     ]
    },
    {
     "name": "stderr",
     "output_type": "stream",
     "text": [
      "100%|██████████| 1/1 [00:00<00:00,  7.15it/s]\n"
     ]
    },
    {
     "name": "stdout",
     "output_type": "stream",
     "text": [
      "Only 535 (required 1000)  Diverse Counterfactuals found for the given configuration, perhaps try with different parameters... ; total time taken: 00 min 00 sec\n"
     ]
    },
    {
     "name": "stderr",
     "output_type": "stream",
     "text": [
      "100%|██████████| 1/1 [00:00<00:00,  7.16it/s]\n"
     ]
    },
    {
     "name": "stdout",
     "output_type": "stream",
     "text": [
      "Only 585 (required 1000)  Diverse Counterfactuals found for the given configuration, perhaps try with different parameters... ; total time taken: 00 min 00 sec\n"
     ]
    },
    {
     "name": "stderr",
     "output_type": "stream",
     "text": [
      "100%|██████████| 1/1 [00:00<00:00,  7.48it/s]\n"
     ]
    },
    {
     "name": "stdout",
     "output_type": "stream",
     "text": [
      "Only 412 (required 1000)  Diverse Counterfactuals found for the given configuration, perhaps try with different parameters... ; total time taken: 00 min 00 sec\n"
     ]
    },
    {
     "name": "stderr",
     "output_type": "stream",
     "text": [
      "100%|██████████| 1/1 [00:00<00:00,  7.27it/s]\n"
     ]
    },
    {
     "name": "stdout",
     "output_type": "stream",
     "text": [
      "Only 521 (required 1000)  Diverse Counterfactuals found for the given configuration, perhaps try with different parameters... ; total time taken: 00 min 00 sec\n"
     ]
    },
    {
     "name": "stderr",
     "output_type": "stream",
     "text": [
      "100%|██████████| 1/1 [00:00<00:00,  7.11it/s]\n"
     ]
    },
    {
     "name": "stdout",
     "output_type": "stream",
     "text": [
      "Only 338 (required 1000)  Diverse Counterfactuals found for the given configuration, perhaps try with different parameters... ; total time taken: 00 min 00 sec\n"
     ]
    },
    {
     "name": "stderr",
     "output_type": "stream",
     "text": [
      "100%|██████████| 1/1 [00:00<00:00,  6.92it/s]\n"
     ]
    },
    {
     "name": "stdout",
     "output_type": "stream",
     "text": [
      "Only 513 (required 1000)  Diverse Counterfactuals found for the given configuration, perhaps try with different parameters... ; total time taken: 00 min 00 sec\n"
     ]
    },
    {
     "name": "stderr",
     "output_type": "stream",
     "text": [
      "100%|██████████| 1/1 [00:00<00:00,  6.33it/s]\n"
     ]
    },
    {
     "name": "stdout",
     "output_type": "stream",
     "text": [
      "Only 577 (required 1000)  Diverse Counterfactuals found for the given configuration, perhaps try with different parameters... ; total time taken: 00 min 00 sec\n"
     ]
    },
    {
     "name": "stderr",
     "output_type": "stream",
     "text": [
      "100%|██████████| 1/1 [00:00<00:00,  6.66it/s]\n"
     ]
    },
    {
     "name": "stdout",
     "output_type": "stream",
     "text": [
      "Only 372 (required 1000)  Diverse Counterfactuals found for the given configuration, perhaps try with different parameters... ; total time taken: 00 min 00 sec\n"
     ]
    },
    {
     "name": "stderr",
     "output_type": "stream",
     "text": [
      "100%|██████████| 1/1 [00:00<00:00,  7.08it/s]\n"
     ]
    },
    {
     "name": "stdout",
     "output_type": "stream",
     "text": [
      "Only 238 (required 1000)  Diverse Counterfactuals found for the given configuration, perhaps try with different parameters... ; total time taken: 00 min 00 sec\n"
     ]
    },
    {
     "name": "stderr",
     "output_type": "stream",
     "text": [
      "100%|██████████| 1/1 [00:00<00:00,  6.53it/s]\n"
     ]
    },
    {
     "name": "stdout",
     "output_type": "stream",
     "text": [
      "Only 599 (required 1000)  Diverse Counterfactuals found for the given configuration, perhaps try with different parameters... ; total time taken: 00 min 00 sec\n"
     ]
    },
    {
     "name": "stderr",
     "output_type": "stream",
     "text": [
      "100%|██████████| 1/1 [00:00<00:00,  6.41it/s]\n"
     ]
    },
    {
     "name": "stdout",
     "output_type": "stream",
     "text": [
      "Only 479 (required 1000)  Diverse Counterfactuals found for the given configuration, perhaps try with different parameters... ; total time taken: 00 min 00 sec\n"
     ]
    },
    {
     "name": "stderr",
     "output_type": "stream",
     "text": [
      "100%|██████████| 1/1 [00:00<00:00,  6.55it/s]\n"
     ]
    },
    {
     "name": "stdout",
     "output_type": "stream",
     "text": [
      "Only 433 (required 1000)  Diverse Counterfactuals found for the given configuration, perhaps try with different parameters... ; total time taken: 00 min 00 sec\n"
     ]
    },
    {
     "name": "stderr",
     "output_type": "stream",
     "text": [
      "100%|██████████| 1/1 [00:00<00:00,  6.94it/s]\n"
     ]
    },
    {
     "name": "stdout",
     "output_type": "stream",
     "text": [
      "Only 646 (required 1000)  Diverse Counterfactuals found for the given configuration, perhaps try with different parameters... ; total time taken: 00 min 00 sec\n"
     ]
    },
    {
     "name": "stderr",
     "output_type": "stream",
     "text": [
      "100%|██████████| 1/1 [00:00<00:00,  6.80it/s]\n"
     ]
    },
    {
     "name": "stdout",
     "output_type": "stream",
     "text": [
      "Only 256 (required 1000)  Diverse Counterfactuals found for the given configuration, perhaps try with different parameters... ; total time taken: 00 min 00 sec\n"
     ]
    },
    {
     "name": "stderr",
     "output_type": "stream",
     "text": [
      "100%|██████████| 1/1 [00:00<00:00,  6.80it/s]\n"
     ]
    },
    {
     "name": "stdout",
     "output_type": "stream",
     "text": [
      "Only 298 (required 1000)  Diverse Counterfactuals found for the given configuration, perhaps try with different parameters... ; total time taken: 00 min 00 sec\n"
     ]
    },
    {
     "name": "stderr",
     "output_type": "stream",
     "text": [
      "100%|██████████| 1/1 [00:00<00:00,  7.25it/s]"
     ]
    },
    {
     "name": "stdout",
     "output_type": "stream",
     "text": [
      "Only 369 (required 1000)  Diverse Counterfactuals found for the given configuration, perhaps try with different parameters... ; total time taken: 00 min 00 sec\n"
     ]
    },
    {
     "name": "stderr",
     "output_type": "stream",
     "text": [
      "100%|██████████| 1/1 [00:00<00:00,  7.20it/s]\n",
      "100%|██████████| 1/1 [00:00<00:00,  7.33it/s]\n"
     ]
    },
    {
     "name": "stdout",
     "output_type": "stream",
     "text": [
      "Only 316 (required 1000)  Diverse Counterfactuals found for the given configuration, perhaps try with different parameters... ; total time taken: 00 min 00 sec\n"
     ]
    },
    {
     "name": "stderr",
     "output_type": "stream",
     "text": [
      "100%|██████████| 1/1 [00:00<00:00,  7.19it/s]\n"
     ]
    },
    {
     "name": "stdout",
     "output_type": "stream",
     "text": [
      "Only 301 (required 1000)  Diverse Counterfactuals found for the given configuration, perhaps try with different parameters... ; total time taken: 00 min 00 sec\n"
     ]
    },
    {
     "name": "stderr",
     "output_type": "stream",
     "text": [
      "100%|██████████| 1/1 [00:00<00:00,  7.40it/s]\n"
     ]
    },
    {
     "name": "stdout",
     "output_type": "stream",
     "text": [
      "Only 336 (required 1000)  Diverse Counterfactuals found for the given configuration, perhaps try with different parameters... ; total time taken: 00 min 00 sec\n"
     ]
    },
    {
     "name": "stderr",
     "output_type": "stream",
     "text": [
      "100%|██████████| 1/1 [00:00<00:00,  6.54it/s]\n"
     ]
    },
    {
     "name": "stdout",
     "output_type": "stream",
     "text": [
      "Only 333 (required 1000)  Diverse Counterfactuals found for the given configuration, perhaps try with different parameters... ; total time taken: 00 min 00 sec\n"
     ]
    },
    {
     "name": "stderr",
     "output_type": "stream",
     "text": [
      "100%|██████████| 1/1 [00:00<00:00,  6.67it/s]\n"
     ]
    },
    {
     "name": "stdout",
     "output_type": "stream",
     "text": [
      "Only 318 (required 1000)  Diverse Counterfactuals found for the given configuration, perhaps try with different parameters... ; total time taken: 00 min 00 sec\n"
     ]
    },
    {
     "name": "stderr",
     "output_type": "stream",
     "text": [
      "100%|██████████| 1/1 [00:00<00:00,  7.34it/s]"
     ]
    },
    {
     "name": "stdout",
     "output_type": "stream",
     "text": [
      "Only 478 (required 1000)  Diverse Counterfactuals found for the given configuration, perhaps try with different parameters... ; total time taken: 00 min 00 sec\n"
     ]
    },
    {
     "name": "stderr",
     "output_type": "stream",
     "text": [
      "100%|██████████| 1/1 [00:00<00:00,  7.29it/s]\n",
      "100%|██████████| 1/1 [00:00<00:00,  7.40it/s]\n"
     ]
    },
    {
     "name": "stdout",
     "output_type": "stream",
     "text": [
      "Only 253 (required 1000)  Diverse Counterfactuals found for the given configuration, perhaps try with different parameters... ; total time taken: 00 min 00 sec\n"
     ]
    },
    {
     "name": "stderr",
     "output_type": "stream",
     "text": [
      "100%|██████████| 1/1 [00:00<00:00,  7.71it/s]"
     ]
    },
    {
     "name": "stdout",
     "output_type": "stream",
     "text": [
      "Only 150 (required 1000)  Diverse Counterfactuals found for the given configuration, perhaps try with different parameters... ; total time taken: 00 min 00 sec\n"
     ]
    },
    {
     "name": "stderr",
     "output_type": "stream",
     "text": [
      "100%|██████████| 1/1 [00:00<00:00,  7.64it/s]\n",
      "100%|██████████| 1/1 [00:00<00:00,  7.70it/s]\n"
     ]
    },
    {
     "name": "stdout",
     "output_type": "stream",
     "text": [
      "Only 281 (required 1000)  Diverse Counterfactuals found for the given configuration, perhaps try with different parameters... ; total time taken: 00 min 00 sec\n"
     ]
    },
    {
     "name": "stderr",
     "output_type": "stream",
     "text": [
      "100%|██████████| 1/1 [00:00<00:00,  6.76it/s]\n"
     ]
    },
    {
     "name": "stdout",
     "output_type": "stream",
     "text": [
      "Only 433 (required 1000)  Diverse Counterfactuals found for the given configuration, perhaps try with different parameters... ; total time taken: 00 min 00 sec\n"
     ]
    },
    {
     "name": "stderr",
     "output_type": "stream",
     "text": [
      "100%|██████████| 1/1 [00:00<00:00,  7.16it/s]\n"
     ]
    },
    {
     "name": "stdout",
     "output_type": "stream",
     "text": [
      "Only 367 (required 1000)  Diverse Counterfactuals found for the given configuration, perhaps try with different parameters... ; total time taken: 00 min 00 sec\n"
     ]
    },
    {
     "name": "stderr",
     "output_type": "stream",
     "text": [
      "100%|██████████| 1/1 [00:00<00:00,  6.81it/s]\n"
     ]
    },
    {
     "name": "stdout",
     "output_type": "stream",
     "text": [
      "Only 398 (required 1000)  Diverse Counterfactuals found for the given configuration, perhaps try with different parameters... ; total time taken: 00 min 00 sec\n"
     ]
    },
    {
     "name": "stderr",
     "output_type": "stream",
     "text": [
      "100%|██████████| 1/1 [00:00<00:00,  6.80it/s]\n"
     ]
    },
    {
     "name": "stdout",
     "output_type": "stream",
     "text": [
      "Only 464 (required 1000)  Diverse Counterfactuals found for the given configuration, perhaps try with different parameters... ; total time taken: 00 min 00 sec\n"
     ]
    },
    {
     "name": "stderr",
     "output_type": "stream",
     "text": [
      "100%|██████████| 1/1 [00:00<00:00,  7.21it/s]\n"
     ]
    },
    {
     "name": "stdout",
     "output_type": "stream",
     "text": [
      "Only 203 (required 1000)  Diverse Counterfactuals found for the given configuration, perhaps try with different parameters... ; total time taken: 00 min 00 sec\n"
     ]
    },
    {
     "name": "stderr",
     "output_type": "stream",
     "text": [
      "100%|██████████| 1/1 [00:00<00:00,  7.53it/s]"
     ]
    },
    {
     "name": "stdout",
     "output_type": "stream",
     "text": [
      "Only 293 (required 1000)  Diverse Counterfactuals found for the given configuration, perhaps try with different parameters... ; total time taken: 00 min 00 sec\n"
     ]
    },
    {
     "name": "stderr",
     "output_type": "stream",
     "text": [
      "100%|██████████| 1/1 [00:00<00:00,  7.53it/s]\n",
      "100%|██████████| 1/1 [00:00<00:00,  7.06it/s]\n"
     ]
    },
    {
     "name": "stdout",
     "output_type": "stream",
     "text": [
      "Only 211 (required 1000)  Diverse Counterfactuals found for the given configuration, perhaps try with different parameters... ; total time taken: 00 min 00 sec\n"
     ]
    },
    {
     "name": "stderr",
     "output_type": "stream",
     "text": [
      "100%|██████████| 1/1 [00:00<00:00,  7.04it/s]"
     ]
    },
    {
     "name": "stdout",
     "output_type": "stream",
     "text": [
      "Only 554 (required 1000)  Diverse Counterfactuals found for the given configuration, perhaps try with different parameters... ; total time taken: 00 min 00 sec\n"
     ]
    },
    {
     "name": "stderr",
     "output_type": "stream",
     "text": [
      "100%|██████████| 1/1 [00:00<00:00,  6.99it/s]\n",
      "100%|██████████| 1/1 [00:00<00:00,  7.28it/s]\n"
     ]
    },
    {
     "name": "stdout",
     "output_type": "stream",
     "text": [
      "Only 378 (required 1000)  Diverse Counterfactuals found for the given configuration, perhaps try with different parameters... ; total time taken: 00 min 00 sec\n"
     ]
    },
    {
     "name": "stderr",
     "output_type": "stream",
     "text": [
      "100%|██████████| 1/1 [00:00<00:00,  7.42it/s]\n"
     ]
    },
    {
     "name": "stdout",
     "output_type": "stream",
     "text": [
      "Only 385 (required 1000)  Diverse Counterfactuals found for the given configuration, perhaps try with different parameters... ; total time taken: 00 min 00 sec\n"
     ]
    },
    {
     "name": "stderr",
     "output_type": "stream",
     "text": [
      "100%|██████████| 1/1 [00:00<00:00,  7.28it/s]\n"
     ]
    },
    {
     "name": "stdout",
     "output_type": "stream",
     "text": [
      "Only 250 (required 1000)  Diverse Counterfactuals found for the given configuration, perhaps try with different parameters... ; total time taken: 00 min 00 sec\n"
     ]
    },
    {
     "name": "stderr",
     "output_type": "stream",
     "text": [
      "100%|██████████| 1/1 [00:00<00:00,  3.62it/s]\n"
     ]
    },
    {
     "name": "stdout",
     "output_type": "stream",
     "text": [
      "Only 237 (required 1000)  Diverse Counterfactuals found for the given configuration, perhaps try with different parameters... ; total time taken: 00 min 00 sec\n"
     ]
    },
    {
     "name": "stderr",
     "output_type": "stream",
     "text": [
      "100%|██████████| 1/1 [00:00<00:00,  7.22it/s]"
     ]
    },
    {
     "name": "stdout",
     "output_type": "stream",
     "text": [
      "Only 640 (required 1000)  Diverse Counterfactuals found for the given configuration, perhaps try with different parameters... ; total time taken: 00 min 00 sec\n"
     ]
    },
    {
     "name": "stderr",
     "output_type": "stream",
     "text": [
      "100%|██████████| 1/1 [00:00<00:00,  7.16it/s]\n",
      "100%|██████████| 1/1 [00:00<00:00,  6.95it/s]\n"
     ]
    },
    {
     "name": "stdout",
     "output_type": "stream",
     "text": [
      "Only 328 (required 1000)  Diverse Counterfactuals found for the given configuration, perhaps try with different parameters... ; total time taken: 00 min 00 sec\n"
     ]
    },
    {
     "name": "stderr",
     "output_type": "stream",
     "text": [
      "100%|██████████| 1/1 [00:00<00:00,  7.36it/s]\n"
     ]
    },
    {
     "name": "stdout",
     "output_type": "stream",
     "text": [
      "Only 440 (required 1000)  Diverse Counterfactuals found for the given configuration, perhaps try with different parameters... ; total time taken: 00 min 00 sec\n"
     ]
    },
    {
     "name": "stderr",
     "output_type": "stream",
     "text": [
      "100%|██████████| 1/1 [00:00<00:00,  6.90it/s]\n"
     ]
    },
    {
     "name": "stdout",
     "output_type": "stream",
     "text": [
      "Only 291 (required 1000)  Diverse Counterfactuals found for the given configuration, perhaps try with different parameters... ; total time taken: 00 min 00 sec\n"
     ]
    },
    {
     "name": "stderr",
     "output_type": "stream",
     "text": [
      "100%|██████████| 1/1 [00:00<00:00,  7.28it/s]"
     ]
    },
    {
     "name": "stdout",
     "output_type": "stream",
     "text": [
      "Only 298 (required 1000)  Diverse Counterfactuals found for the given configuration, perhaps try with different parameters... ; total time taken: 00 min 00 sec\n"
     ]
    },
    {
     "name": "stderr",
     "output_type": "stream",
     "text": [
      "100%|██████████| 1/1 [00:00<00:00,  7.23it/s]\n",
      "100%|██████████| 1/1 [00:00<00:00,  7.65it/s]"
     ]
    },
    {
     "name": "stdout",
     "output_type": "stream",
     "text": [
      "Only 468 (required 1000)  Diverse Counterfactuals found for the given configuration, perhaps try with different parameters... ; total time taken: 00 min 00 sec\n"
     ]
    },
    {
     "name": "stderr",
     "output_type": "stream",
     "text": [
      "100%|██████████| 1/1 [00:00<00:00,  7.65it/s]\n",
      "100%|██████████| 1/1 [00:00<00:00,  7.42it/s]\n"
     ]
    },
    {
     "name": "stdout",
     "output_type": "stream",
     "text": [
      "Only 535 (required 1000)  Diverse Counterfactuals found for the given configuration, perhaps try with different parameters... ; total time taken: 00 min 00 sec\n"
     ]
    },
    {
     "name": "stderr",
     "output_type": "stream",
     "text": [
      "100%|██████████| 1/1 [00:00<00:00,  7.42it/s]\n"
     ]
    },
    {
     "name": "stdout",
     "output_type": "stream",
     "text": [
      "Only 698 (required 1000)  Diverse Counterfactuals found for the given configuration, perhaps try with different parameters... ; total time taken: 00 min 00 sec\n"
     ]
    },
    {
     "name": "stderr",
     "output_type": "stream",
     "text": [
      "100%|██████████| 1/1 [00:00<00:00,  6.98it/s]\n"
     ]
    },
    {
     "name": "stdout",
     "output_type": "stream",
     "text": [
      "Only 379 (required 1000)  Diverse Counterfactuals found for the given configuration, perhaps try with different parameters... ; total time taken: 00 min 00 sec\n"
     ]
    },
    {
     "name": "stderr",
     "output_type": "stream",
     "text": [
      "100%|██████████| 1/1 [00:00<00:00,  6.92it/s]\n"
     ]
    },
    {
     "name": "stdout",
     "output_type": "stream",
     "text": [
      "Only 361 (required 1000)  Diverse Counterfactuals found for the given configuration, perhaps try with different parameters... ; total time taken: 00 min 00 sec\n"
     ]
    },
    {
     "name": "stderr",
     "output_type": "stream",
     "text": [
      "100%|██████████| 1/1 [00:00<00:00,  7.10it/s]\n"
     ]
    },
    {
     "name": "stdout",
     "output_type": "stream",
     "text": [
      "Only 244 (required 1000)  Diverse Counterfactuals found for the given configuration, perhaps try with different parameters... ; total time taken: 00 min 00 sec\n"
     ]
    },
    {
     "name": "stderr",
     "output_type": "stream",
     "text": [
      "100%|██████████| 1/1 [00:00<00:00,  7.53it/s]\n"
     ]
    },
    {
     "name": "stdout",
     "output_type": "stream",
     "text": [
      "Only 440 (required 1000)  Diverse Counterfactuals found for the given configuration, perhaps try with different parameters... ; total time taken: 00 min 00 sec\n"
     ]
    },
    {
     "name": "stderr",
     "output_type": "stream",
     "text": [
      "100%|██████████| 1/1 [00:00<00:00,  7.28it/s]\n"
     ]
    },
    {
     "name": "stdout",
     "output_type": "stream",
     "text": [
      "Only 569 (required 1000)  Diverse Counterfactuals found for the given configuration, perhaps try with different parameters... ; total time taken: 00 min 00 sec\n"
     ]
    },
    {
     "name": "stderr",
     "output_type": "stream",
     "text": [
      "100%|██████████| 1/1 [00:00<00:00,  6.88it/s]\n"
     ]
    },
    {
     "name": "stdout",
     "output_type": "stream",
     "text": [
      "Only 316 (required 1000)  Diverse Counterfactuals found for the given configuration, perhaps try with different parameters... ; total time taken: 00 min 00 sec\n"
     ]
    },
    {
     "name": "stderr",
     "output_type": "stream",
     "text": [
      "100%|██████████| 1/1 [00:00<00:00,  5.92it/s]\n"
     ]
    },
    {
     "name": "stdout",
     "output_type": "stream",
     "text": [
      "Only 485 (required 1000)  Diverse Counterfactuals found for the given configuration, perhaps try with different parameters... ; total time taken: 00 min 00 sec\n"
     ]
    },
    {
     "name": "stderr",
     "output_type": "stream",
     "text": [
      "100%|██████████| 1/1 [00:00<00:00,  6.42it/s]\n"
     ]
    },
    {
     "name": "stdout",
     "output_type": "stream",
     "text": [
      "Only 237 (required 1000)  Diverse Counterfactuals found for the given configuration, perhaps try with different parameters... ; total time taken: 00 min 00 sec\n"
     ]
    },
    {
     "name": "stderr",
     "output_type": "stream",
     "text": [
      "100%|██████████| 1/1 [00:00<00:00,  7.56it/s]\n"
     ]
    },
    {
     "name": "stdout",
     "output_type": "stream",
     "text": [
      "Only 244 (required 1000)  Diverse Counterfactuals found for the given configuration, perhaps try with different parameters... ; total time taken: 00 min 00 sec\n"
     ]
    },
    {
     "name": "stderr",
     "output_type": "stream",
     "text": [
      "100%|██████████| 1/1 [00:00<00:00,  7.06it/s]\n"
     ]
    },
    {
     "name": "stdout",
     "output_type": "stream",
     "text": [
      "Only 225 (required 1000)  Diverse Counterfactuals found for the given configuration, perhaps try with different parameters... ; total time taken: 00 min 00 sec\n"
     ]
    },
    {
     "name": "stderr",
     "output_type": "stream",
     "text": [
      "100%|██████████| 1/1 [00:00<00:00,  6.83it/s]"
     ]
    },
    {
     "name": "stdout",
     "output_type": "stream",
     "text": [
      "Only 491 (required 1000)  Diverse Counterfactuals found for the given configuration, perhaps try with different parameters... ; total time taken: 00 min 00 sec\n"
     ]
    },
    {
     "name": "stderr",
     "output_type": "stream",
     "text": [
      "100%|██████████| 1/1 [00:00<00:00,  6.78it/s]\n",
      "100%|██████████| 1/1 [00:00<00:00,  7.06it/s]\n"
     ]
    },
    {
     "name": "stdout",
     "output_type": "stream",
     "text": [
      "Only 422 (required 1000)  Diverse Counterfactuals found for the given configuration, perhaps try with different parameters... ; total time taken: 00 min 00 sec\n"
     ]
    },
    {
     "name": "stderr",
     "output_type": "stream",
     "text": [
      "100%|██████████| 1/1 [00:00<00:00,  7.11it/s]\n"
     ]
    },
    {
     "name": "stdout",
     "output_type": "stream",
     "text": [
      "Only 380 (required 1000)  Diverse Counterfactuals found for the given configuration, perhaps try with different parameters... ; total time taken: 00 min 00 sec\n"
     ]
    },
    {
     "name": "stderr",
     "output_type": "stream",
     "text": [
      "100%|██████████| 1/1 [00:00<00:00,  7.05it/s]\n"
     ]
    },
    {
     "name": "stdout",
     "output_type": "stream",
     "text": [
      "Only 245 (required 1000)  Diverse Counterfactuals found for the given configuration, perhaps try with different parameters... ; total time taken: 00 min 00 sec\n"
     ]
    },
    {
     "name": "stderr",
     "output_type": "stream",
     "text": [
      "100%|██████████| 1/1 [00:00<00:00,  7.03it/s]\n"
     ]
    },
    {
     "name": "stdout",
     "output_type": "stream",
     "text": [
      "Only 531 (required 1000)  Diverse Counterfactuals found for the given configuration, perhaps try with different parameters... ; total time taken: 00 min 00 sec\n"
     ]
    },
    {
     "name": "stderr",
     "output_type": "stream",
     "text": [
      "100%|██████████| 1/1 [00:00<00:00,  6.63it/s]\n"
     ]
    },
    {
     "name": "stdout",
     "output_type": "stream",
     "text": [
      "Only 318 (required 1000)  Diverse Counterfactuals found for the given configuration, perhaps try with different parameters... ; total time taken: 00 min 00 sec\n"
     ]
    },
    {
     "name": "stderr",
     "output_type": "stream",
     "text": [
      "100%|██████████| 1/1 [00:00<00:00,  6.86it/s]\n"
     ]
    },
    {
     "name": "stdout",
     "output_type": "stream",
     "text": [
      "Only 238 (required 1000)  Diverse Counterfactuals found for the given configuration, perhaps try with different parameters... ; total time taken: 00 min 00 sec\n"
     ]
    },
    {
     "name": "stderr",
     "output_type": "stream",
     "text": [
      "100%|██████████| 1/1 [00:00<00:00,  6.72it/s]\n"
     ]
    },
    {
     "name": "stdout",
     "output_type": "stream",
     "text": [
      "Only 598 (required 1000)  Diverse Counterfactuals found for the given configuration, perhaps try with different parameters... ; total time taken: 00 min 00 sec\n"
     ]
    },
    {
     "name": "stderr",
     "output_type": "stream",
     "text": [
      "100%|██████████| 1/1 [00:00<00:00,  7.36it/s]\n"
     ]
    },
    {
     "name": "stdout",
     "output_type": "stream",
     "text": [
      "Only 212 (required 1000)  Diverse Counterfactuals found for the given configuration, perhaps try with different parameters... ; total time taken: 00 min 00 sec\n"
     ]
    },
    {
     "name": "stderr",
     "output_type": "stream",
     "text": [
      "100%|██████████| 1/1 [00:00<00:00,  7.07it/s]"
     ]
    },
    {
     "name": "stdout",
     "output_type": "stream",
     "text": [
      "Only 484 (required 1000)  Diverse Counterfactuals found for the given configuration, perhaps try with different parameters... ; total time taken: 00 min 00 sec\n"
     ]
    },
    {
     "name": "stderr",
     "output_type": "stream",
     "text": [
      "100%|██████████| 1/1 [00:00<00:00,  7.02it/s]\n",
      "100%|██████████| 1/1 [00:00<00:00,  7.34it/s]\n"
     ]
    },
    {
     "name": "stdout",
     "output_type": "stream",
     "text": [
      "Only 212 (required 1000)  Diverse Counterfactuals found for the given configuration, perhaps try with different parameters... ; total time taken: 00 min 00 sec\n"
     ]
    },
    {
     "name": "stderr",
     "output_type": "stream",
     "text": [
      "100%|██████████| 1/1 [00:00<00:00,  7.46it/s]"
     ]
    },
    {
     "name": "stdout",
     "output_type": "stream",
     "text": [
      "Only 354 (required 1000)  Diverse Counterfactuals found for the given configuration, perhaps try with different parameters... ; total time taken: 00 min 00 sec\n"
     ]
    },
    {
     "name": "stderr",
     "output_type": "stream",
     "text": [
      "100%|██████████| 1/1 [00:00<00:00,  7.40it/s]\n",
      "100%|██████████| 1/1 [00:00<00:00,  7.46it/s]\n"
     ]
    },
    {
     "name": "stdout",
     "output_type": "stream",
     "text": [
      "Only 655 (required 1000)  Diverse Counterfactuals found for the given configuration, perhaps try with different parameters... ; total time taken: 00 min 00 sec\n"
     ]
    },
    {
     "name": "stderr",
     "output_type": "stream",
     "text": [
      "100%|██████████| 1/1 [00:00<00:00,  7.62it/s]\n"
     ]
    },
    {
     "name": "stdout",
     "output_type": "stream",
     "text": [
      "Only 317 (required 1000)  Diverse Counterfactuals found for the given configuration, perhaps try with different parameters... ; total time taken: 00 min 00 sec\n"
     ]
    },
    {
     "name": "stderr",
     "output_type": "stream",
     "text": [
      "100%|██████████| 1/1 [00:00<00:00,  7.19it/s]\n"
     ]
    },
    {
     "name": "stdout",
     "output_type": "stream",
     "text": [
      "Only 258 (required 1000)  Diverse Counterfactuals found for the given configuration, perhaps try with different parameters... ; total time taken: 00 min 00 sec\n"
     ]
    },
    {
     "name": "stderr",
     "output_type": "stream",
     "text": [
      "100%|██████████| 1/1 [00:00<00:00,  6.80it/s]\n"
     ]
    },
    {
     "name": "stdout",
     "output_type": "stream",
     "text": [
      "Only 301 (required 1000)  Diverse Counterfactuals found for the given configuration, perhaps try with different parameters... ; total time taken: 00 min 00 sec\n"
     ]
    },
    {
     "name": "stderr",
     "output_type": "stream",
     "text": [
      "100%|██████████| 1/1 [00:00<00:00,  6.48it/s]\n"
     ]
    },
    {
     "name": "stdout",
     "output_type": "stream",
     "text": [
      "Only 540 (required 1000)  Diverse Counterfactuals found for the given configuration, perhaps try with different parameters... ; total time taken: 00 min 00 sec\n"
     ]
    },
    {
     "name": "stderr",
     "output_type": "stream",
     "text": [
      "100%|██████████| 1/1 [00:00<00:00,  7.01it/s]\n"
     ]
    },
    {
     "name": "stdout",
     "output_type": "stream",
     "text": [
      "Only 451 (required 1000)  Diverse Counterfactuals found for the given configuration, perhaps try with different parameters... ; total time taken: 00 min 00 sec\n"
     ]
    },
    {
     "name": "stderr",
     "output_type": "stream",
     "text": [
      "100%|██████████| 1/1 [00:00<00:00,  6.18it/s]\n"
     ]
    },
    {
     "name": "stdout",
     "output_type": "stream",
     "text": [
      "Only 218 (required 1000)  Diverse Counterfactuals found for the given configuration, perhaps try with different parameters... ; total time taken: 00 min 00 sec\n"
     ]
    },
    {
     "name": "stderr",
     "output_type": "stream",
     "text": [
      "100%|██████████| 1/1 [00:00<00:00,  6.42it/s]\n"
     ]
    },
    {
     "name": "stdout",
     "output_type": "stream",
     "text": [
      "Only 460 (required 1000)  Diverse Counterfactuals found for the given configuration, perhaps try with different parameters... ; total time taken: 00 min 00 sec\n"
     ]
    },
    {
     "name": "stderr",
     "output_type": "stream",
     "text": [
      "100%|██████████| 1/1 [00:00<00:00,  6.66it/s]\n"
     ]
    },
    {
     "name": "stdout",
     "output_type": "stream",
     "text": [
      "Only 410 (required 1000)  Diverse Counterfactuals found for the given configuration, perhaps try with different parameters... ; total time taken: 00 min 00 sec\n"
     ]
    },
    {
     "name": "stderr",
     "output_type": "stream",
     "text": [
      "100%|██████████| 1/1 [00:00<00:00,  6.97it/s]\n"
     ]
    },
    {
     "name": "stdout",
     "output_type": "stream",
     "text": [
      "Only 388 (required 1000)  Diverse Counterfactuals found for the given configuration, perhaps try with different parameters... ; total time taken: 00 min 00 sec\n"
     ]
    },
    {
     "name": "stderr",
     "output_type": "stream",
     "text": [
      "100%|██████████| 1/1 [00:00<00:00,  7.01it/s]\n"
     ]
    },
    {
     "name": "stdout",
     "output_type": "stream",
     "text": [
      "Only 414 (required 1000)  Diverse Counterfactuals found for the given configuration, perhaps try with different parameters... ; total time taken: 00 min 00 sec\n"
     ]
    },
    {
     "name": "stderr",
     "output_type": "stream",
     "text": [
      "100%|██████████| 1/1 [00:00<00:00,  7.02it/s]\n"
     ]
    },
    {
     "name": "stdout",
     "output_type": "stream",
     "text": [
      "Only 330 (required 1000)  Diverse Counterfactuals found for the given configuration, perhaps try with different parameters... ; total time taken: 00 min 00 sec\n"
     ]
    },
    {
     "name": "stderr",
     "output_type": "stream",
     "text": [
      "100%|██████████| 1/1 [00:00<00:00,  7.21it/s]\n"
     ]
    },
    {
     "name": "stdout",
     "output_type": "stream",
     "text": [
      "Only 183 (required 1000)  Diverse Counterfactuals found for the given configuration, perhaps try with different parameters... ; total time taken: 00 min 00 sec\n"
     ]
    },
    {
     "name": "stderr",
     "output_type": "stream",
     "text": [
      "100%|██████████| 1/1 [00:00<00:00,  7.41it/s]"
     ]
    },
    {
     "name": "stdout",
     "output_type": "stream",
     "text": [
      "Only 180 (required 1000)  Diverse Counterfactuals found for the given configuration, perhaps try with different parameters... ; total time taken: 00 min 00 sec\n"
     ]
    },
    {
     "name": "stderr",
     "output_type": "stream",
     "text": [
      "100%|██████████| 1/1 [00:00<00:00,  7.35it/s]\n",
      "100%|██████████| 1/1 [00:00<00:00,  7.18it/s]"
     ]
    },
    {
     "name": "stdout",
     "output_type": "stream",
     "text": [
      "Only 162 (required 1000)  Diverse Counterfactuals found for the given configuration, perhaps try with different parameters... ; total time taken: 00 min 00 sec\n"
     ]
    },
    {
     "name": "stderr",
     "output_type": "stream",
     "text": [
      "100%|██████████| 1/1 [00:00<00:00,  7.18it/s]\n",
      "100%|██████████| 1/1 [00:00<00:00,  7.44it/s]"
     ]
    },
    {
     "name": "stdout",
     "output_type": "stream",
     "text": [
      "Only 217 (required 1000)  Diverse Counterfactuals found for the given configuration, perhaps try with different parameters... ; total time taken: 00 min 00 sec\n"
     ]
    },
    {
     "name": "stderr",
     "output_type": "stream",
     "text": [
      "\n",
      "100%|██████████| 1/1 [00:00<00:00,  7.27it/s]"
     ]
    },
    {
     "name": "stdout",
     "output_type": "stream",
     "text": [
      "Only 532 (required 1000)  Diverse Counterfactuals found for the given configuration, perhaps try with different parameters... ; total time taken: 00 min 00 sec\n"
     ]
    },
    {
     "name": "stderr",
     "output_type": "stream",
     "text": [
      "100%|██████████| 1/1 [00:00<00:00,  7.22it/s]\n",
      "100%|██████████| 1/1 [00:00<00:00,  7.03it/s]\n"
     ]
    },
    {
     "name": "stdout",
     "output_type": "stream",
     "text": [
      "Only 380 (required 1000)  Diverse Counterfactuals found for the given configuration, perhaps try with different parameters... ; total time taken: 00 min 00 sec\n"
     ]
    },
    {
     "name": "stderr",
     "output_type": "stream",
     "text": [
      "100%|██████████| 1/1 [00:00<00:00,  7.15it/s]\n"
     ]
    },
    {
     "name": "stdout",
     "output_type": "stream",
     "text": [
      "Only 219 (required 1000)  Diverse Counterfactuals found for the given configuration, perhaps try with different parameters... ; total time taken: 00 min 00 sec\n"
     ]
    },
    {
     "name": "stderr",
     "output_type": "stream",
     "text": [
      "100%|██████████| 1/1 [00:00<00:00,  7.57it/s]"
     ]
    },
    {
     "name": "stdout",
     "output_type": "stream",
     "text": [
      "Only 241 (required 1000)  Diverse Counterfactuals found for the given configuration, perhaps try with different parameters... ; total time taken: 00 min 00 sec\n"
     ]
    },
    {
     "name": "stderr",
     "output_type": "stream",
     "text": [
      "100%|██████████| 1/1 [00:00<00:00,  7.52it/s]\n",
      "100%|██████████| 1/1 [00:00<00:00,  7.34it/s]\n"
     ]
    },
    {
     "name": "stdout",
     "output_type": "stream",
     "text": [
      "Only 170 (required 1000)  Diverse Counterfactuals found for the given configuration, perhaps try with different parameters... ; total time taken: 00 min 00 sec\n"
     ]
    },
    {
     "name": "stderr",
     "output_type": "stream",
     "text": [
      "100%|██████████| 1/1 [00:00<00:00,  7.36it/s]"
     ]
    },
    {
     "name": "stdout",
     "output_type": "stream",
     "text": [
      "Only 223 (required 1000)  Diverse Counterfactuals found for the given configuration, perhaps try with different parameters... ; total time taken: 00 min 00 sec\n"
     ]
    },
    {
     "name": "stderr",
     "output_type": "stream",
     "text": [
      "100%|██████████| 1/1 [00:00<00:00,  7.31it/s]\n",
      "100%|██████████| 1/1 [00:00<00:00,  7.25it/s]"
     ]
    },
    {
     "name": "stdout",
     "output_type": "stream",
     "text": [
      "Only 302 (required 1000)  Diverse Counterfactuals found for the given configuration, perhaps try with different parameters... ; total time taken: 00 min 00 sec\n"
     ]
    },
    {
     "name": "stderr",
     "output_type": "stream",
     "text": [
      "100%|██████████| 1/1 [00:00<00:00,  7.20it/s]\n",
      "100%|██████████| 1/1 [00:00<00:00,  6.79it/s]\n"
     ]
    },
    {
     "name": "stdout",
     "output_type": "stream",
     "text": [
      "Only 588 (required 1000)  Diverse Counterfactuals found for the given configuration, perhaps try with different parameters... ; total time taken: 00 min 00 sec\n"
     ]
    },
    {
     "name": "stderr",
     "output_type": "stream",
     "text": [
      "100%|██████████| 1/1 [00:00<00:00,  6.98it/s]\n"
     ]
    },
    {
     "name": "stdout",
     "output_type": "stream",
     "text": [
      "Only 453 (required 1000)  Diverse Counterfactuals found for the given configuration, perhaps try with different parameters... ; total time taken: 00 min 00 sec\n"
     ]
    },
    {
     "name": "stderr",
     "output_type": "stream",
     "text": [
      "100%|██████████| 1/1 [00:00<00:00,  6.72it/s]\n"
     ]
    },
    {
     "name": "stdout",
     "output_type": "stream",
     "text": [
      "Only 919 (required 1000)  Diverse Counterfactuals found for the given configuration, perhaps try with different parameters... ; total time taken: 00 min 00 sec\n"
     ]
    },
    {
     "name": "stderr",
     "output_type": "stream",
     "text": [
      "100%|██████████| 1/1 [00:00<00:00,  7.13it/s]\n"
     ]
    },
    {
     "name": "stdout",
     "output_type": "stream",
     "text": [
      "Only 429 (required 1000)  Diverse Counterfactuals found for the given configuration, perhaps try with different parameters... ; total time taken: 00 min 00 sec\n"
     ]
    },
    {
     "name": "stderr",
     "output_type": "stream",
     "text": [
      "100%|██████████| 1/1 [00:00<00:00,  7.61it/s]\n"
     ]
    },
    {
     "name": "stdout",
     "output_type": "stream",
     "text": [
      "Only 339 (required 1000)  Diverse Counterfactuals found for the given configuration, perhaps try with different parameters... ; total time taken: 00 min 00 sec\n"
     ]
    },
    {
     "name": "stderr",
     "output_type": "stream",
     "text": [
      "100%|██████████| 1/1 [00:00<00:00,  7.35it/s]\n"
     ]
    },
    {
     "name": "stdout",
     "output_type": "stream",
     "text": [
      "Only 307 (required 1000)  Diverse Counterfactuals found for the given configuration, perhaps try with different parameters... ; total time taken: 00 min 00 sec\n"
     ]
    },
    {
     "name": "stderr",
     "output_type": "stream",
     "text": [
      "100%|██████████| 1/1 [00:00<00:00,  6.65it/s]\n"
     ]
    },
    {
     "name": "stdout",
     "output_type": "stream",
     "text": [
      "Only 525 (required 1000)  Diverse Counterfactuals found for the given configuration, perhaps try with different parameters... ; total time taken: 00 min 00 sec\n"
     ]
    },
    {
     "name": "stderr",
     "output_type": "stream",
     "text": [
      "100%|██████████| 1/1 [00:00<00:00,  7.09it/s]\n"
     ]
    },
    {
     "name": "stdout",
     "output_type": "stream",
     "text": [
      "Only 345 (required 1000)  Diverse Counterfactuals found for the given configuration, perhaps try with different parameters... ; total time taken: 00 min 00 sec\n"
     ]
    },
    {
     "name": "stderr",
     "output_type": "stream",
     "text": [
      "100%|██████████| 1/1 [00:00<00:00,  7.05it/s]\n"
     ]
    },
    {
     "name": "stdout",
     "output_type": "stream",
     "text": [
      "Only 455 (required 1000)  Diverse Counterfactuals found for the given configuration, perhaps try with different parameters... ; total time taken: 00 min 00 sec\n"
     ]
    },
    {
     "name": "stderr",
     "output_type": "stream",
     "text": [
      "100%|██████████| 1/1 [00:00<00:00,  7.54it/s]\n"
     ]
    },
    {
     "name": "stdout",
     "output_type": "stream",
     "text": [
      "Only 279 (required 1000)  Diverse Counterfactuals found for the given configuration, perhaps try with different parameters... ; total time taken: 00 min 00 sec\n"
     ]
    },
    {
     "name": "stderr",
     "output_type": "stream",
     "text": [
      "100%|██████████| 1/1 [00:00<00:00,  7.41it/s]\n"
     ]
    },
    {
     "name": "stdout",
     "output_type": "stream",
     "text": [
      "Only 486 (required 1000)  Diverse Counterfactuals found for the given configuration, perhaps try with different parameters... ; total time taken: 00 min 00 sec\n"
     ]
    },
    {
     "name": "stderr",
     "output_type": "stream",
     "text": [
      "100%|██████████| 1/1 [00:00<00:00,  7.29it/s]\n"
     ]
    },
    {
     "name": "stdout",
     "output_type": "stream",
     "text": [
      "Only 218 (required 1000)  Diverse Counterfactuals found for the given configuration, perhaps try with different parameters... ; total time taken: 00 min 00 sec\n"
     ]
    },
    {
     "name": "stderr",
     "output_type": "stream",
     "text": [
      "100%|██████████| 1/1 [00:00<00:00,  6.93it/s]"
     ]
    },
    {
     "name": "stdout",
     "output_type": "stream",
     "text": [
      "Only 716 (required 1000)  Diverse Counterfactuals found for the given configuration, perhaps try with different parameters... ; total time taken: 00 min 00 sec\n"
     ]
    },
    {
     "name": "stderr",
     "output_type": "stream",
     "text": [
      "100%|██████████| 1/1 [00:00<00:00,  6.89it/s]\n",
      "100%|██████████| 1/1 [00:00<00:00,  7.41it/s]\n"
     ]
    },
    {
     "name": "stdout",
     "output_type": "stream",
     "text": [
      "Only 209 (required 1000)  Diverse Counterfactuals found for the given configuration, perhaps try with different parameters... ; total time taken: 00 min 00 sec\n"
     ]
    },
    {
     "name": "stderr",
     "output_type": "stream",
     "text": [
      "100%|██████████| 1/1 [00:00<00:00,  7.40it/s]"
     ]
    },
    {
     "name": "stdout",
     "output_type": "stream",
     "text": [
      "Only 173 (required 1000)  Diverse Counterfactuals found for the given configuration, perhaps try with different parameters... ; total time taken: 00 min 00 sec\n"
     ]
    },
    {
     "name": "stderr",
     "output_type": "stream",
     "text": [
      "100%|██████████| 1/1 [00:00<00:00,  7.35it/s]\n",
      "100%|██████████| 1/1 [00:00<00:00,  7.24it/s]"
     ]
    },
    {
     "name": "stdout",
     "output_type": "stream",
     "text": [
      "Only 489 (required 1000)  Diverse Counterfactuals found for the given configuration, perhaps try with different parameters... ; total time taken: 00 min 00 sec\n"
     ]
    },
    {
     "name": "stderr",
     "output_type": "stream",
     "text": [
      "100%|██████████| 1/1 [00:00<00:00,  7.19it/s]\n",
      "100%|██████████| 1/1 [00:00<00:00,  6.96it/s]\n"
     ]
    },
    {
     "name": "stdout",
     "output_type": "stream",
     "text": [
      "Only 586 (required 1000)  Diverse Counterfactuals found for the given configuration, perhaps try with different parameters... ; total time taken: 00 min 00 sec\n"
     ]
    },
    {
     "name": "stderr",
     "output_type": "stream",
     "text": [
      "100%|██████████| 1/1 [00:00<00:00,  7.20it/s]\n"
     ]
    },
    {
     "name": "stdout",
     "output_type": "stream",
     "text": [
      "Only 392 (required 1000)  Diverse Counterfactuals found for the given configuration, perhaps try with different parameters... ; total time taken: 00 min 00 sec\n"
     ]
    },
    {
     "name": "stderr",
     "output_type": "stream",
     "text": [
      "100%|██████████| 1/1 [00:00<00:00,  7.68it/s]\n"
     ]
    },
    {
     "name": "stdout",
     "output_type": "stream",
     "text": [
      "Only 284 (required 1000)  Diverse Counterfactuals found for the given configuration, perhaps try with different parameters... ; total time taken: 00 min 00 sec\n"
     ]
    },
    {
     "name": "stderr",
     "output_type": "stream",
     "text": [
      "100%|██████████| 1/1 [00:00<00:00,  6.71it/s]\n"
     ]
    },
    {
     "name": "stdout",
     "output_type": "stream",
     "text": [
      "Only 254 (required 1000)  Diverse Counterfactuals found for the given configuration, perhaps try with different parameters... ; total time taken: 00 min 00 sec\n"
     ]
    },
    {
     "name": "stderr",
     "output_type": "stream",
     "text": [
      "100%|██████████| 1/1 [00:00<00:00,  7.14it/s]"
     ]
    },
    {
     "name": "stdout",
     "output_type": "stream",
     "text": [
      "Only 237 (required 1000)  Diverse Counterfactuals found for the given configuration, perhaps try with different parameters... ; total time taken: 00 min 00 sec\n"
     ]
    },
    {
     "name": "stderr",
     "output_type": "stream",
     "text": [
      "100%|██████████| 1/1 [00:00<00:00,  7.09it/s]\n",
      "100%|██████████| 1/1 [00:00<00:00,  7.71it/s]"
     ]
    },
    {
     "name": "stdout",
     "output_type": "stream",
     "text": [
      "Only 364 (required 1000)  Diverse Counterfactuals found for the given configuration, perhaps try with different parameters... ; total time taken: 00 min 00 sec\n"
     ]
    },
    {
     "name": "stderr",
     "output_type": "stream",
     "text": [
      "100%|██████████| 1/1 [00:00<00:00,  7.65it/s]\n",
      "100%|██████████| 1/1 [00:00<00:00,  7.02it/s]\n"
     ]
    },
    {
     "name": "stdout",
     "output_type": "stream",
     "text": [
      "Only 676 (required 1000)  Diverse Counterfactuals found for the given configuration, perhaps try with different parameters... ; total time taken: 00 min 00 sec\n"
     ]
    },
    {
     "name": "stderr",
     "output_type": "stream",
     "text": [
      "100%|██████████| 1/1 [00:00<00:00,  7.03it/s]\n"
     ]
    },
    {
     "name": "stdout",
     "output_type": "stream",
     "text": [
      "Only 366 (required 1000)  Diverse Counterfactuals found for the given configuration, perhaps try with different parameters... ; total time taken: 00 min 00 sec\n"
     ]
    },
    {
     "name": "stderr",
     "output_type": "stream",
     "text": [
      "100%|██████████| 1/1 [00:00<00:00,  7.39it/s]\n"
     ]
    },
    {
     "name": "stdout",
     "output_type": "stream",
     "text": [
      "Only 305 (required 1000)  Diverse Counterfactuals found for the given configuration, perhaps try with different parameters... ; total time taken: 00 min 00 sec\n"
     ]
    },
    {
     "name": "stderr",
     "output_type": "stream",
     "text": [
      "100%|██████████| 1/1 [00:00<00:00,  7.46it/s]"
     ]
    },
    {
     "name": "stdout",
     "output_type": "stream",
     "text": [
      "Only 541 (required 1000)  Diverse Counterfactuals found for the given configuration, perhaps try with different parameters... ; total time taken: 00 min 00 sec\n"
     ]
    },
    {
     "name": "stderr",
     "output_type": "stream",
     "text": [
      "100%|██████████| 1/1 [00:00<00:00,  7.41it/s]\n",
      "100%|██████████| 1/1 [00:00<00:00,  7.42it/s]\n"
     ]
    },
    {
     "name": "stdout",
     "output_type": "stream",
     "text": [
      "Only 639 (required 1000)  Diverse Counterfactuals found for the given configuration, perhaps try with different parameters... ; total time taken: 00 min 00 sec\n"
     ]
    },
    {
     "name": "stderr",
     "output_type": "stream",
     "text": [
      "100%|██████████| 1/1 [00:00<00:00,  7.00it/s]\n"
     ]
    },
    {
     "name": "stdout",
     "output_type": "stream",
     "text": [
      "Only 410 (required 1000)  Diverse Counterfactuals found for the given configuration, perhaps try with different parameters... ; total time taken: 00 min 00 sec\n"
     ]
    },
    {
     "name": "stderr",
     "output_type": "stream",
     "text": [
      "100%|██████████| 1/1 [00:00<00:00,  7.52it/s]\n"
     ]
    },
    {
     "name": "stdout",
     "output_type": "stream",
     "text": [
      "Only 207 (required 1000)  Diverse Counterfactuals found for the given configuration, perhaps try with different parameters... ; total time taken: 00 min 00 sec\n"
     ]
    },
    {
     "name": "stderr",
     "output_type": "stream",
     "text": [
      "100%|██████████| 1/1 [00:00<00:00,  7.02it/s]"
     ]
    },
    {
     "name": "stdout",
     "output_type": "stream",
     "text": [
      "Only 305 (required 1000)  Diverse Counterfactuals found for the given configuration, perhaps try with different parameters... ; total time taken: 00 min 00 sec\n"
     ]
    },
    {
     "name": "stderr",
     "output_type": "stream",
     "text": [
      "100%|██████████| 1/1 [00:00<00:00,  7.02it/s]\n",
      "100%|██████████| 1/1 [00:00<00:00,  6.91it/s]\n"
     ]
    },
    {
     "name": "stdout",
     "output_type": "stream",
     "text": [
      "Only 279 (required 1000)  Diverse Counterfactuals found for the given configuration, perhaps try with different parameters... ; total time taken: 00 min 00 sec\n"
     ]
    },
    {
     "name": "stderr",
     "output_type": "stream",
     "text": [
      "100%|██████████| 1/1 [00:00<00:00,  7.47it/s]\n"
     ]
    },
    {
     "name": "stdout",
     "output_type": "stream",
     "text": [
      "Only 328 (required 1000)  Diverse Counterfactuals found for the given configuration, perhaps try with different parameters... ; total time taken: 00 min 00 sec\n"
     ]
    },
    {
     "name": "stderr",
     "output_type": "stream",
     "text": [
      "100%|██████████| 1/1 [00:00<00:00,  7.54it/s]\n"
     ]
    },
    {
     "name": "stdout",
     "output_type": "stream",
     "text": [
      "Only 456 (required 1000)  Diverse Counterfactuals found for the given configuration, perhaps try with different parameters... ; total time taken: 00 min 00 sec\n"
     ]
    },
    {
     "name": "stderr",
     "output_type": "stream",
     "text": [
      "100%|██████████| 1/1 [00:00<00:00,  7.43it/s]\n"
     ]
    },
    {
     "name": "stdout",
     "output_type": "stream",
     "text": [
      "Only 453 (required 1000)  Diverse Counterfactuals found for the given configuration, perhaps try with different parameters... ; total time taken: 00 min 00 sec\n"
     ]
    },
    {
     "name": "stderr",
     "output_type": "stream",
     "text": [
      "100%|██████████| 1/1 [00:00<00:00,  7.70it/s]\n"
     ]
    },
    {
     "name": "stdout",
     "output_type": "stream",
     "text": [
      "Only 455 (required 1000)  Diverse Counterfactuals found for the given configuration, perhaps try with different parameters... ; total time taken: 00 min 00 sec\n"
     ]
    },
    {
     "name": "stderr",
     "output_type": "stream",
     "text": [
      "100%|██████████| 1/1 [00:00<00:00,  6.97it/s]\n"
     ]
    },
    {
     "name": "stdout",
     "output_type": "stream",
     "text": [
      "Only 350 (required 1000)  Diverse Counterfactuals found for the given configuration, perhaps try with different parameters... ; total time taken: 00 min 00 sec\n"
     ]
    },
    {
     "name": "stderr",
     "output_type": "stream",
     "text": [
      "100%|██████████| 1/1 [00:00<00:00,  6.30it/s]\n"
     ]
    },
    {
     "name": "stdout",
     "output_type": "stream",
     "text": [
      "Only 654 (required 1000)  Diverse Counterfactuals found for the given configuration, perhaps try with different parameters... ; total time taken: 00 min 00 sec\n"
     ]
    },
    {
     "name": "stderr",
     "output_type": "stream",
     "text": [
      "100%|██████████| 1/1 [00:00<00:00,  6.67it/s]\n"
     ]
    },
    {
     "name": "stdout",
     "output_type": "stream",
     "text": [
      "Only 246 (required 1000)  Diverse Counterfactuals found for the given configuration, perhaps try with different parameters... ; total time taken: 00 min 00 sec\n"
     ]
    },
    {
     "name": "stderr",
     "output_type": "stream",
     "text": [
      "100%|██████████| 1/1 [00:00<00:00,  7.43it/s]"
     ]
    },
    {
     "name": "stdout",
     "output_type": "stream",
     "text": [
      "Only 237 (required 1000)  Diverse Counterfactuals found for the given configuration, perhaps try with different parameters... ; total time taken: 00 min 00 sec\n"
     ]
    },
    {
     "name": "stderr",
     "output_type": "stream",
     "text": [
      "100%|██████████| 1/1 [00:00<00:00,  7.38it/s]\n",
      "100%|██████████| 1/1 [00:00<00:00,  7.35it/s]"
     ]
    },
    {
     "name": "stdout",
     "output_type": "stream",
     "text": [
      "Only 373 (required 1000)  Diverse Counterfactuals found for the given configuration, perhaps try with different parameters... ; total time taken: 00 min 00 sec\n"
     ]
    },
    {
     "name": "stderr",
     "output_type": "stream",
     "text": [
      "100%|██████████| 1/1 [00:00<00:00,  7.30it/s]\n",
      "100%|██████████| 1/1 [00:00<00:00,  6.97it/s]\n"
     ]
    },
    {
     "name": "stdout",
     "output_type": "stream",
     "text": [
      "Only 590 (required 1000)  Diverse Counterfactuals found for the given configuration, perhaps try with different parameters... ; total time taken: 00 min 00 sec\n"
     ]
    },
    {
     "name": "stderr",
     "output_type": "stream",
     "text": [
      "100%|██████████| 1/1 [00:00<00:00,  7.13it/s]\n"
     ]
    },
    {
     "name": "stdout",
     "output_type": "stream",
     "text": [
      "Only 365 (required 1000)  Diverse Counterfactuals found for the given configuration, perhaps try with different parameters... ; total time taken: 00 min 00 sec\n"
     ]
    },
    {
     "name": "stderr",
     "output_type": "stream",
     "text": [
      "100%|██████████| 1/1 [00:00<00:00,  7.16it/s]\n"
     ]
    },
    {
     "name": "stdout",
     "output_type": "stream",
     "text": [
      "Only 364 (required 1000)  Diverse Counterfactuals found for the given configuration, perhaps try with different parameters... ; total time taken: 00 min 00 sec\n"
     ]
    },
    {
     "name": "stderr",
     "output_type": "stream",
     "text": [
      "100%|██████████| 1/1 [00:00<00:00,  7.41it/s]\n"
     ]
    },
    {
     "name": "stdout",
     "output_type": "stream",
     "text": [
      "Only 248 (required 1000)  Diverse Counterfactuals found for the given configuration, perhaps try with different parameters... ; total time taken: 00 min 00 sec\n"
     ]
    },
    {
     "name": "stderr",
     "output_type": "stream",
     "text": [
      "100%|██████████| 1/1 [00:00<00:00,  7.58it/s]"
     ]
    },
    {
     "name": "stdout",
     "output_type": "stream",
     "text": [
      "Only 352 (required 1000)  Diverse Counterfactuals found for the given configuration, perhaps try with different parameters... ; total time taken: 00 min 00 sec\n"
     ]
    },
    {
     "name": "stderr",
     "output_type": "stream",
     "text": [
      "100%|██████████| 1/1 [00:00<00:00,  7.53it/s]\n",
      "100%|██████████| 1/1 [00:00<00:00,  6.82it/s]\n"
     ]
    },
    {
     "name": "stdout",
     "output_type": "stream",
     "text": [
      "Only 364 (required 1000)  Diverse Counterfactuals found for the given configuration, perhaps try with different parameters... ; total time taken: 00 min 00 sec\n"
     ]
    },
    {
     "name": "stderr",
     "output_type": "stream",
     "text": [
      "100%|██████████| 1/1 [00:00<00:00,  5.99it/s]\n"
     ]
    },
    {
     "name": "stdout",
     "output_type": "stream",
     "text": [
      "Only 237 (required 1000)  Diverse Counterfactuals found for the given configuration, perhaps try with different parameters... ; total time taken: 00 min 00 sec\n"
     ]
    },
    {
     "name": "stderr",
     "output_type": "stream",
     "text": [
      "100%|██████████| 1/1 [00:00<00:00,  5.33it/s]\n"
     ]
    },
    {
     "name": "stdout",
     "output_type": "stream",
     "text": [
      "Only 529 (required 1000)  Diverse Counterfactuals found for the given configuration, perhaps try with different parameters... ; total time taken: 00 min 00 sec\n"
     ]
    },
    {
     "name": "stderr",
     "output_type": "stream",
     "text": [
      "100%|██████████| 1/1 [00:00<00:00,  5.03it/s]\n"
     ]
    },
    {
     "name": "stdout",
     "output_type": "stream",
     "text": [
      "Only 527 (required 1000)  Diverse Counterfactuals found for the given configuration, perhaps try with different parameters... ; total time taken: 00 min 00 sec\n"
     ]
    },
    {
     "name": "stderr",
     "output_type": "stream",
     "text": [
      "100%|██████████| 1/1 [00:00<00:00,  6.23it/s]\n"
     ]
    },
    {
     "name": "stdout",
     "output_type": "stream",
     "text": [
      "Only 368 (required 1000)  Diverse Counterfactuals found for the given configuration, perhaps try with different parameters... ; total time taken: 00 min 00 sec\n"
     ]
    },
    {
     "name": "stderr",
     "output_type": "stream",
     "text": [
      "100%|██████████| 1/1 [00:00<00:00,  5.71it/s]\n"
     ]
    },
    {
     "name": "stdout",
     "output_type": "stream",
     "text": [
      "Only 212 (required 1000)  Diverse Counterfactuals found for the given configuration, perhaps try with different parameters... ; total time taken: 00 min 00 sec\n"
     ]
    },
    {
     "name": "stderr",
     "output_type": "stream",
     "text": [
      "100%|██████████| 1/1 [00:00<00:00,  5.89it/s]\n"
     ]
    },
    {
     "name": "stdout",
     "output_type": "stream",
     "text": [
      "Only 378 (required 1000)  Diverse Counterfactuals found for the given configuration, perhaps try with different parameters... ; total time taken: 00 min 00 sec\n"
     ]
    }
   ],
   "source": [
    "import json\n",
    "col_to_be_predicted_idx = 8\n",
    "\n",
    "exp_dataset = df.drop('LeaveOrNot', axis=1)\n",
    "local_disc_inputs = []\n",
    "total_cfs = []\n",
    "print(sensitive_param_idx)\n",
    "\n",
    "for count in range(len(exp_dataset)):\n",
    "    data_point = exp_dataset.iloc[count:count+1]\n",
    "    data = np.array(data_point)\n",
    "    prediction = model.predict(data.reshape(1, -1))[0]\n",
    "    \n",
    "    dice_exp = exp.generate_counterfactuals(data_point, total_CFs=1000, desired_class=int(prediction))\n",
    "    counterfactuals = json.loads(dice_exp.to_json())['cfs_list']\n",
    "    for cfl in counterfactuals[0]:\n",
    "        total_cfs.append(cfl)\n",
    "        \n",
    "        inp0 = [int(i) for i in cfl]\n",
    "        sensValue = inp0[sensitive_param_idx]\n",
    "\n",
    "        inp0np = np.asarray(inp0)\n",
    "        inp0np = np.reshape(inp0, (1, -1))\n",
    "\n",
    "        inp0 = np.asarray(inp0)\n",
    "        inp0 = np.reshape(inp0, (1, -1))\n",
    "        \n",
    "        # drop y column here \n",
    "        inp1delY = np.delete(inp0, [col_to_be_predicted_idx])\n",
    "        inp1delY = np.reshape(inp1delY, (1, -1))\n",
    "        \n",
    "        out0 = model.predict(inp1delY)\n",
    "        \n",
    "        # Loops through all values of the sensitive parameter\n",
    "        \n",
    "        \n",
    "        for i in [-1, 0, 1]:\n",
    "            if sensValue != i: \n",
    "                inp1 = [int(k) for k in cfl]\n",
    "                inp1[sensitive_param_idx] = i\n",
    "\n",
    "                inp1 = np.asarray(inp1)\n",
    "                inp1 = np.reshape(inp1, (1, -1))\n",
    "\n",
    "                # drop y column here \n",
    "                inp1delY = np.delete(inp1, [col_to_be_predicted_idx])\n",
    "                inp1delY = np.reshape(inp1delY, (1, -1))\n",
    "\n",
    "                out1 = model.predict(inp1delY)\n",
    "\n",
    "                if abs(out0 - out1) > 0:\n",
    "                    local_disc_inputs.append(inp0.tolist()[0])"
   ]
  },
  {
   "cell_type": "code",
   "execution_count": 143,
   "id": "504f08fe",
   "metadata": {},
   "outputs": [
    {
     "name": "stdout",
     "output_type": "stream",
     "text": [
      "80214 42223\n"
     ]
    }
   ],
   "source": [
    "print(len(total_cfs), len(local_disc_inputs))"
   ]
  },
  {
   "cell_type": "code",
   "execution_count": 30,
   "id": "b7e21206",
   "metadata": {},
   "outputs": [
    {
     "data": {
      "text/html": [
       "<div>\n",
       "<style scoped>\n",
       "    .dataframe tbody tr th:only-of-type {\n",
       "        vertical-align: middle;\n",
       "    }\n",
       "\n",
       "    .dataframe tbody tr th {\n",
       "        vertical-align: top;\n",
       "    }\n",
       "\n",
       "    .dataframe thead th {\n",
       "        text-align: right;\n",
       "    }\n",
       "</style>\n",
       "<table border=\"1\" class=\"dataframe\">\n",
       "  <thead>\n",
       "    <tr style=\"text-align: right;\">\n",
       "      <th></th>\n",
       "      <th>Education</th>\n",
       "      <th>JoiningYear</th>\n",
       "      <th>City</th>\n",
       "      <th>PaymentTier</th>\n",
       "      <th>Age</th>\n",
       "      <th>Gender</th>\n",
       "      <th>EverBenched</th>\n",
       "      <th>ExperienceInCurrentDomain</th>\n",
       "      <th>LeaveOrNot</th>\n",
       "    </tr>\n",
       "  </thead>\n",
       "  <tbody>\n",
       "    <tr>\n",
       "      <th>0</th>\n",
       "      <td>1</td>\n",
       "      <td>4</td>\n",
       "      <td>2</td>\n",
       "      <td>0</td>\n",
       "      <td>7</td>\n",
       "      <td>1</td>\n",
       "      <td>0</td>\n",
       "      <td>2</td>\n",
       "      <td>0</td>\n",
       "    </tr>\n",
       "    <tr>\n",
       "      <th>1</th>\n",
       "      <td>2</td>\n",
       "      <td>4</td>\n",
       "      <td>2</td>\n",
       "      <td>1</td>\n",
       "      <td>9</td>\n",
       "      <td>0</td>\n",
       "      <td>1</td>\n",
       "      <td>0</td>\n",
       "      <td>1</td>\n",
       "    </tr>\n",
       "    <tr>\n",
       "      <th>2</th>\n",
       "      <td>1</td>\n",
       "      <td>3</td>\n",
       "      <td>0</td>\n",
       "      <td>2</td>\n",
       "      <td>6</td>\n",
       "      <td>0</td>\n",
       "      <td>0</td>\n",
       "      <td>7</td>\n",
       "      <td>1</td>\n",
       "    </tr>\n",
       "    <tr>\n",
       "      <th>3</th>\n",
       "      <td>1</td>\n",
       "      <td>3</td>\n",
       "      <td>1</td>\n",
       "      <td>0</td>\n",
       "      <td>13</td>\n",
       "      <td>0</td>\n",
       "      <td>1</td>\n",
       "      <td>4</td>\n",
       "      <td>0</td>\n",
       "    </tr>\n",
       "    <tr>\n",
       "      <th>4</th>\n",
       "      <td>0</td>\n",
       "      <td>2</td>\n",
       "      <td>2</td>\n",
       "      <td>2</td>\n",
       "      <td>0</td>\n",
       "      <td>0</td>\n",
       "      <td>0</td>\n",
       "      <td>0</td>\n",
       "      <td>1</td>\n",
       "    </tr>\n",
       "    <tr>\n",
       "      <th>...</th>\n",
       "      <td>...</td>\n",
       "      <td>...</td>\n",
       "      <td>...</td>\n",
       "      <td>...</td>\n",
       "      <td>...</td>\n",
       "      <td>...</td>\n",
       "      <td>...</td>\n",
       "      <td>...</td>\n",
       "      <td>...</td>\n",
       "    </tr>\n",
       "    <tr>\n",
       "      <th>201</th>\n",
       "      <td>2</td>\n",
       "      <td>3</td>\n",
       "      <td>1</td>\n",
       "      <td>1</td>\n",
       "      <td>19</td>\n",
       "      <td>0</td>\n",
       "      <td>1</td>\n",
       "      <td>5</td>\n",
       "      <td>1</td>\n",
       "    </tr>\n",
       "    <tr>\n",
       "      <th>202</th>\n",
       "      <td>2</td>\n",
       "      <td>3</td>\n",
       "      <td>1</td>\n",
       "      <td>1</td>\n",
       "      <td>8</td>\n",
       "      <td>0</td>\n",
       "      <td>1</td>\n",
       "      <td>5</td>\n",
       "      <td>0</td>\n",
       "    </tr>\n",
       "    <tr>\n",
       "      <th>203</th>\n",
       "      <td>1</td>\n",
       "      <td>2</td>\n",
       "      <td>2</td>\n",
       "      <td>1</td>\n",
       "      <td>5</td>\n",
       "      <td>0</td>\n",
       "      <td>0</td>\n",
       "      <td>7</td>\n",
       "      <td>0</td>\n",
       "    </tr>\n",
       "    <tr>\n",
       "      <th>204</th>\n",
       "      <td>1</td>\n",
       "      <td>0</td>\n",
       "      <td>2</td>\n",
       "      <td>1</td>\n",
       "      <td>16</td>\n",
       "      <td>0</td>\n",
       "      <td>0</td>\n",
       "      <td>5</td>\n",
       "      <td>0</td>\n",
       "    </tr>\n",
       "    <tr>\n",
       "      <th>205</th>\n",
       "      <td>2</td>\n",
       "      <td>5</td>\n",
       "      <td>0</td>\n",
       "      <td>1</td>\n",
       "      <td>8</td>\n",
       "      <td>0</td>\n",
       "      <td>0</td>\n",
       "      <td>5</td>\n",
       "      <td>1</td>\n",
       "    </tr>\n",
       "  </tbody>\n",
       "</table>\n",
       "<p>206 rows × 9 columns</p>\n",
       "</div>"
      ],
      "text/plain": [
       "     Education  JoiningYear  City  PaymentTier  Age  Gender  EverBenched  \\\n",
       "0            1            4     2            0    7       1            0   \n",
       "1            2            4     2            1    9       0            1   \n",
       "2            1            3     0            2    6       0            0   \n",
       "3            1            3     1            0   13       0            1   \n",
       "4            0            2     2            2    0       0            0   \n",
       "..         ...          ...   ...          ...  ...     ...          ...   \n",
       "201          2            3     1            1   19       0            1   \n",
       "202          2            3     1            1    8       0            1   \n",
       "203          1            2     2            1    5       0            0   \n",
       "204          1            0     2            1   16       0            0   \n",
       "205          2            5     0            1    8       0            0   \n",
       "\n",
       "     ExperienceInCurrentDomain  LeaveOrNot  \n",
       "0                            2           0  \n",
       "1                            0           1  \n",
       "2                            7           1  \n",
       "3                            4           0  \n",
       "4                            0           1  \n",
       "..                         ...         ...  \n",
       "201                          5           1  \n",
       "202                          5           0  \n",
       "203                          7           0  \n",
       "204                          5           0  \n",
       "205                          5           1  \n",
       "\n",
       "[206 rows x 9 columns]"
      ]
     },
     "execution_count": 30,
     "metadata": {},
     "output_type": "execute_result"
    }
   ],
   "source": [
    "df"
   ]
  },
  {
   "cell_type": "code",
   "execution_count": 14,
   "id": "a3411e61-864e-41dc-8fe6-96523365a8d3",
   "metadata": {},
   "outputs": [],
   "source": [
    "import json\n",
    "\n",
    "def aequitas_fully_directed_sklearn(dataset: Dataset, perturbation_unit, threshold, global_iteration_limit, \\\n",
    "                                    local_iteration_limit, input_pkl_dir, retrain_csv_dir):\n",
    "    print(\"Aequitas Fully Directed Started...\\n\")\n",
    "    initial_input = [random.randint(low, high) for [low, high] in dataset.input_bounds]\n",
    "    minimizer = {\"method\": \"L-BFGS-B\"}\n",
    "\n",
    "    fully_direct = Fully_Direct(dataset, perturbation_unit, threshold, global_iteration_limit, \\\n",
    "                                local_iteration_limit, input_pkl_dir, retrain_csv_dir)\n",
    "\n",
    "    basinhopping(fully_direct.evaluate_global, initial_input, stepsize=1.0, take_step=fully_direct.global_discovery,\n",
    "                 minimizer_kwargs=minimizer,\n",
    "                 niter=global_iteration_limit)\n",
    "\n",
    "    df = pd.DataFrame(fully_direct.global_disc_inputs_list, columns=list(dataset.column_names))\n",
    "    \n",
    "    print('Global discrimination:', len(df))\n",
    "\n",
    "    df.to_csv('global_discrimination.csv', header=list(dataset.column_names), index=False)\n",
    "\n",
    "    print(\"Finished Global Search\")\n",
    "    print(\"Percentage discriminatory inputs - \" + str(float(len(fully_direct.global_disc_inputs_list)\n",
    "                                                            + len(fully_direct.local_disc_inputs_list)) / float(\n",
    "        len(fully_direct.tot_inputs)) * 100))\n",
    "    \n",
    "#     print()\n",
    "#     print(\"Starting Local Search\")\n",
    "    \n",
    "    \n",
    "#     metadata = SingleTableMetadata()\n",
    "#     metadata.detect_from_dataframe(data=df)\n",
    "\n",
    "#     ctgan = CTGANSynthesizer(metadata=metadata, batch_size=50,epochs=1000,verbose=False)\n",
    "#     ctgan.fit(df)\n",
    "#     ctgan.save('ctgan-employee-data-synth.pkl')\n",
    "#     samples = ctgan.sample(500)\n",
    "#     for s in np.array(samples):\n",
    "#         fully_direct.evaluate_local(s)\n",
    "    \n",
    "#     print(\"Finished Local Search\")\n",
    "#     print('Local discrimination:', len(fully_direct.local_disc_inputs_list))\n",
    "#     print(\"Percentage discriminatory inputs - \" + str(float(len(fully_direct.global_disc_inputs_list)\n",
    "#                                                             + len(fully_direct.local_disc_inputs_list)) \n",
    "#                                                       / float(len(fully_direct.tot_inputs)) * 100))"
   ]
  },
  {
   "cell_type": "code",
   "execution_count": 15,
   "id": "393f29f2",
   "metadata": {},
   "outputs": [],
   "source": [
    "#     m = dice_ml.Model(model=model, backend=\"sklearn\")\n",
    "    # DiCE explanation instance\n",
    "#     exp = dice_ml.Dice(d,m, method=\"random\")\n",
    "\n",
    "    \n",
    "    \n",
    "#     # # Generate counterfactual examples\n",
    "#     # dice_exp = exp.generate_counterfactuals(data, total_CFs=4, desired_class=\"opposite\")\n",
    "#     # # Visualize counterfactual explanation\n",
    "#     # dice_exp.visualize_as_dataframe()\n",
    "#     count = 0\n",
    "#     X = data.drop('LeaveOrNot', axis=1)\n",
    "\n",
    "#     # Generate counterfactual examples\n",
    "#     dice_exp = exp.generate_counterfactuals(X, total_CFs=4, desired_class=\"opposite\")\n",
    "#     # Visualize counterfactual explanation\n",
    "#     dice_exp.visualize_as_dataframe()\n",
    "\n",
    "    # for x in X:\n",
    "    #     count += 1\n",
    "    #     try:\n",
    "    #         # Generate counterfactual examples\n",
    "    #         dice_exp = exp.generate_counterfactuals(x, total_CFs=4, desired_class=\"opposite\")\n",
    "    #         # Visualize counterfactual explanation\n",
    "    #         dice_exp.visualize_as_dataframe()\n",
    "    #     except:\n",
    "    #         continue\n",
    "    # print(count)"
   ]
  },
  {
   "cell_type": "code",
   "execution_count": 16,
   "id": "295784b3",
   "metadata": {},
   "outputs": [],
   "source": [
    "import json\n",
    "\n",
    "def aequitas_fully_directed_sklearn(dataset: Dataset, perturbation_unit, threshold, global_iteration_limit, \\\n",
    "                                    local_iteration_limit, input_pkl_dir, retrain_csv_dir):\n",
    "    print(\"Aequitas Fully Directed Started...\\n\")\n",
    "    initial_input = [random.randint(low, high) for [low, high] in dataset.input_bounds]\n",
    "    minimizer = {\"method\": \"L-BFGS-B\"}\n",
    "\n",
    "    fully_direct = Fully_Direct(dataset, perturbation_unit, threshold, global_iteration_limit, \\\n",
    "                                local_iteration_limit, input_pkl_dir, retrain_csv_dir)\n",
    "\n",
    "    basinhopping(fully_direct.evaluate_global, initial_input, stepsize=1.0, take_step=fully_direct.global_discovery,\n",
    "                 minimizer_kwargs=minimizer,\n",
    "                 niter=global_iteration_limit)\n",
    "\n",
    "    df = pd.DataFrame(fully_direct.global_disc_inputs_list)\n",
    "\n",
    "    df.to_csv('global_discrimination.csv', header=list(dataset.column_names), index=False)\n",
    "\n",
    "#     print(\"Finished Global Search\")\n",
    "#     print(\"Percentage discriminatory inputs - \" + str(float(len(fully_direct.global_disc_inputs_list)\n",
    "#                                                             + len(fully_direct.local_disc_inputs_list)) / float(\n",
    "#         len(fully_direct.tot_inputs)) * 100))\n",
    "    \n",
    "#     print()\n",
    "#     print(\"Starting Local Search\")\n",
    "    \n",
    "#     # Dataset for training an ML model\n",
    "#     X_train_all = pd.read_csv(dataset.dataset_dir)\n",
    "#     data = pd.DataFrame(np.array(df), columns=X_train_all.columns)\n",
    "#     X = data.drop(col_to_be_predicted, axis=1)\n",
    "\n",
    "# #     d = dice_ml.Data(dataframe=X_train_all,\n",
    "# #                      continuous_features=[],\n",
    "# #                     outcome_name='LeaveOrNot')\n",
    "#     # Pre-trained ML model\n",
    "#     model = joblib.load(pkl_dir)\n",
    "#     features = get_features_range(X_train_all.drop(col_to_be_predicted, axis=1))\n",
    "#     d = dice_ml.data.Data(features=features, outcome_name=col_to_be_predicted)\n",
    "#     m = dice_ml.Model(model=model, backend=\"sklearn\")\n",
    "#     # DiCE explanation instance\n",
    "#     exp = dice_ml.Dice(d,m, method=\"random\")\n",
    "#     # Generate counterfactual examples\n",
    "#     dice_exp = exp.generate_counterfactuals(X[0:40], \n",
    "#                                             total_CFs=100, desired_class=\"thesame\")\n",
    "#     # Visualize counterfactual explanation\n",
    "# #     dice_exp.visualize_as_dataframe(show_only_changes=True)\n",
    "#     result = dice_exp.to_json()\n",
    "#     result = json.loads(result)\n",
    "#     counterfactuals = []\n",
    "#     for cl in result['cfs_list']:\n",
    "#         if cl:\n",
    "#             for lst in cl:\n",
    "#                 counterfactuals.append(lst)\n",
    "\n",
    "#     columns = list(X.columns)\n",
    "#     columns.append(col_to_be_predicted)\n",
    "#     cdf = pd.DataFrame(counterfactuals, columns=columns)\n",
    "#     cdf = cdf.drop_duplicates()\n",
    "#     print(len(counterfactuals), len(np.array(cdf)))\n",
    "#     print(result)"
   ]
  },
  {
   "cell_type": "code",
   "execution_count": 67,
   "id": "71e241fe-caaf-4a1f-a3b7-ba169f616270",
   "metadata": {},
   "outputs": [],
   "source": [
    "import time\n",
    "import pandas as pd, numpy as np\n",
    "\n",
    "from utils.config import census, credit, bank\n",
    "from data.census import census_data\n",
    "from data.credit import credit_data\n",
    "from data.bank import bank_data\n",
    "\n",
    "global_disc_inputs = set()\n",
    "global_disc_inputs_list = []\n",
    "local_disc_inputs = set()\n",
    "local_disc_inputs_list = []\n",
    "tot_inputs = set()\n",
    "location = np.zeros(21)\n",
    "\n",
    "os.chdir('C:\\\\Users\\\\hussaini_21000736\\\\Documents\\\\Fairness\\\\Phemus\\\\Examples')\n",
    "\n",
    "sys.path.append(os.getcwd())\n",
    "\n",
    "\"\"\"\n",
    "census: 9,1 for gender, age, 8 for race\n",
    "credit: 9,13 for gender,age\n",
    "bank: 1 for age\n",
    "\"\"\"\n",
    "\n",
    "dataset = \"bank\"\n",
    "data_config = {\"census\": census, \"credit\": credit, \"bank\": bank}\n",
    "config = data_config[dataset]  # replace\n",
    "sensitive_param = 5\n",
    "threshold_l = 10  # replace census-7,credit-14,bank-10\n",
    "threshold = 0\n",
    "input_bounds = config.input_bounds\n",
    "classifier_name = 'Employee_DecisionTree_Original.pkl'\n",
    "\n",
    "# replace\n",
    "\n",
    "model = joblib.load(classifier_name)"
   ]
  },
  {
   "cell_type": "code",
   "execution_count": null,
   "id": "24e8dce0-f9d9-49df-8986-2a4ee2e17e3a",
   "metadata": {},
   "outputs": [],
   "source": [
    "def expga_global(max_global, max_local):\n",
    "    start = time.time()\n",
    "\n",
    "    data_config = {\"census\": census, \"credit\": credit, \"bank\": bank}\n",
    "    config = data_config[dataset]\n",
    "    feature_names = config.feature_name\n",
    "    class_names = config.class_name\n",
    "    sens_name = config.sens_name[sensitive_param]\n",
    "    params = config.params\n",
    "\n",
    "    data = {\"census\": census_data, \"credit\": credit_data, \"bank\": bank_data}\n",
    "    # prepare the testing data and model\n",
    "    X, Y, input_shape, nb_classes = data[dataset]()\n",
    "\n",
    "    start = time.time()\n",
    "\n",
    "    model_name = classifier_name.split(\"/\")[-1].split(\"_\")[0]\n",
    "    # file_name = \"aequitas_\"+dataset+sensitive_param+\"_\"+model+\"\"\n",
    "    file_name = \"expga_{}_{}{}.txt\".format(model_name, dataset, sensitive_param)\n",
    "    f = open(file_name, \"a\")\n",
    "    f.write(\"iter:\" + str(iter) + \"------------------------------------------\" + \"\\n\" + \"\\n\")\n",
    "    f.close()\n",
    "\n",
    "    global_discovery = Global_Discovery()\n",
    "\n",
    "    train_samples = global_discovery(max_global, params, input_bounds, sensitive_param)\n",
    "    train_samples = np.array(train_samples)\n",
    "    # train_samples = X[np.random.choice(X.shape[0], max_global, replace=False)]\n",
    "\n",
    "    np.random.shuffle(train_samples)\n",
    "\n",
    "    print(train_samples.shape)\n",
    "\n",
    "    explainer = ConstructExplainer(X, feature_names, class_names)\n",
    "\n",
    "    seed = Searchseed(model, feature_names, sens_name, explainer, train_samples, params, X)\n",
    "\n",
    "    print('Finish Searchseed')\n",
    "    for inp in seed:\n",
    "        inp0 = [int(i) for i in inp]\n",
    "        inp0 = np.asarray(inp0)\n",
    "        inp0 = np.reshape(inp0, (1, -1))\n",
    "        global_disc_inputs.add(tuple(map(tuple, inp0)))\n",
    "        global_disc_inputs_list.append(inp0.tolist()[0])\n",
    "\n",
    "    print(\"Finished Global Search\")\n",
    "    print('length of total input is:' + str(len(tot_inputs)))\n",
    "    print('length of global discovery is:' + str(len(global_disc_inputs_list)))\n",
    "\n",
    "    end = time.time()\n",
    "\n",
    "    print('Total time:' + str(end - start))"
   ]
  },
  {
   "cell_type": "code",
   "execution_count": 53,
   "id": "846a089f-ae50-4530-9272-6a4f2eeea81e",
   "metadata": {},
   "outputs": [
    {
     "ename": "KeyError",
     "evalue": "<Phemus.Dataset.Dataset object at 0x000001E7A69DDBE0>",
     "output_type": "error",
     "traceback": [
      "\u001b[1;31m---------------------------------------------------------------------------\u001b[0m",
      "\u001b[1;31mKeyError\u001b[0m                                  Traceback (most recent call last)",
      "Cell \u001b[1;32mIn [53], line 1\u001b[0m\n\u001b[1;32m----> 1\u001b[0m \u001b[43mexpga_global\u001b[49m\u001b[43m(\u001b[49m\u001b[38;5;241;43m2000\u001b[39;49m\u001b[43m,\u001b[49m\u001b[43m \u001b[49m\u001b[38;5;241;43m100\u001b[39;49m\u001b[43m)\u001b[49m\n",
      "Cell \u001b[1;32mIn [52], line 11\u001b[0m, in \u001b[0;36mexpga_global\u001b[1;34m(max_global, max_local)\u001b[0m\n\u001b[0;32m      8\u001b[0m start \u001b[38;5;241m=\u001b[39m time\u001b[38;5;241m.\u001b[39mtime()\n\u001b[0;32m     10\u001b[0m data_config \u001b[38;5;241m=\u001b[39m {\u001b[38;5;124m\"\u001b[39m\u001b[38;5;124mcensus\u001b[39m\u001b[38;5;124m\"\u001b[39m: census, \u001b[38;5;124m\"\u001b[39m\u001b[38;5;124mcredit\u001b[39m\u001b[38;5;124m\"\u001b[39m: credit, \u001b[38;5;124m\"\u001b[39m\u001b[38;5;124mbank\u001b[39m\u001b[38;5;124m\"\u001b[39m: bank}\n\u001b[1;32m---> 11\u001b[0m config \u001b[38;5;241m=\u001b[39m \u001b[43mdata_config\u001b[49m\u001b[43m[\u001b[49m\u001b[43mdataset\u001b[49m\u001b[43m]\u001b[49m\n\u001b[0;32m     12\u001b[0m feature_names \u001b[38;5;241m=\u001b[39m config\u001b[38;5;241m.\u001b[39mfeature_name\n\u001b[0;32m     13\u001b[0m class_names \u001b[38;5;241m=\u001b[39m config\u001b[38;5;241m.\u001b[39mclass_name\n",
      "\u001b[1;31mKeyError\u001b[0m: <Phemus.Dataset.Dataset object at 0x000001E7A69DDBE0>"
     ]
    }
   ],
   "source": [
    "expga_global(2000, 100)"
   ]
  },
  {
   "cell_type": "code",
   "execution_count": 77,
   "id": "27f2f69f-cf17-4d93-a8d2-70a89358dd16",
   "metadata": {},
   "outputs": [
    {
     "name": "stdout",
     "output_type": "stream",
     "text": [
      "Accuracy:  0.9333333333333333\n"
     ]
    }
   ],
   "source": [
    "from sklearn import datasets\n",
    "from sklearn.model_selection import train_test_split\n",
    "from sklearn.ensemble import RandomForestClassifier\n",
    "\n",
    "# Load the iris dataset as an example\n",
    "iris = datasets.load_iris()\n",
    "X = iris.data\n",
    "y = iris.target\n",
    "\n",
    "# Split the data into training and test sets\n",
    "X_train, X_test, y_train, y_test = train_test_split(X, y, test_size=0.3)\n",
    "\n",
    "# Create a random forest classifier\n",
    "clf = RandomForestClassifier(n_estimators=100)\n",
    "\n",
    "# Train the classifier with the training data\n",
    "clf.fit(X_train, y_train)\n",
    "\n",
    "# Make predictions with the test data\n",
    "predictions = clf.predict(X_test)\n",
    "\n",
    "# Calculate the accuracy of the model\n",
    "accuracy = clf.score(X_test, y_test)\n",
    "\n",
    "print(\"Accuracy: \", accuracy)\n"
   ]
  },
  {
   "cell_type": "code",
   "execution_count": 78,
   "id": "0bd7579d-10e9-4178-89be-a634f89ab406",
   "metadata": {},
   "outputs": [
    {
     "name": "stdout",
     "output_type": "stream",
     "text": [
      "Accuracy: 0.9780701754385965\n"
     ]
    }
   ],
   "source": [
    "import numpy as np\n",
    "from sklearn.datasets import load_breast_cancer\n",
    "from sklearn.ensemble import RandomForestClassifier\n",
    "from sklearn.model_selection import train_test_split\n",
    "\n",
    "# Load the breast cancer dataset\n",
    "X, y = load_breast_cancer(return_X_y=True)\n",
    "\n",
    "# Identify the sensitive attributes\n",
    "sensitive_attrs = [0, 1]  # 0 = radius, 1 = texture\n",
    "\n",
    "# Generate synthetic data points with reversed values for the sensitive attributes\n",
    "X_syn = X.copy()\n",
    "X_syn[:, sensitive_attrs] = 1 - X_syn[:, sensitive_attrs]\n",
    "y_syn = y\n",
    "\n",
    "# Combine the original and synthetic data\n",
    "X_combined = np.concatenate([X, X_syn])\n",
    "y_combined = np.concatenate([y, y_syn])\n",
    "\n",
    "# Split the combined data into training and test sets\n",
    "X_train, X_test, y_train, y_test = train_test_split(X_combined, y_combined, test_size=0.2)\n",
    "\n",
    "# Train a random forest classifier on the combined data\n",
    "model = RandomForestClassifier()\n",
    "model.fit(X_train, y_train)\n",
    "\n",
    "# Evaluate the model on the test set\n",
    "accuracy = model.score(X_test, y_test)\n",
    "print(\"Accuracy:\", accuracy)"
   ]
  },
  {
   "cell_type": "code",
   "execution_count": 79,
   "id": "0fa43c26-58e5-4f28-8e78-2d56ba5fec8d",
   "metadata": {},
   "outputs": [
    {
     "name": "stdout",
     "output_type": "stream",
     "text": [
      "Accuracy: 0.9473684210526315\n"
     ]
    }
   ],
   "source": [
    "\n",
    "from sklearn.datasets import load_breast_cancer\n",
    "from sklearn.ensemble import RandomForestClassifier\n",
    "from sklearn.model_selection import train_test_split\n",
    "\n",
    "# Load the breast cancer dataset\n",
    "X, y = load_breast_cancer(return_X_y=True)\n",
    "\n",
    "# Split the data into training and test sets\n",
    "X_train, X_test, y_train, y_test = train_test_split(X, y, test_size=0.2)\n",
    "\n",
    "# Train a random forest classifier on the training set\n",
    "model = RandomForestClassifier()\n",
    "model.fit(X_train, y_train)\n",
    "\n",
    "# Evaluate the model on the test set\n",
    "accuracy = model.score(X_test, y_test)\n",
    "print(\"Accuracy:\", accuracy)\n"
   ]
  },
  {
   "cell_type": "code",
   "execution_count": 80,
   "id": "861eea2a-0b07-4da0-bd51-5e2b3cd3309a",
   "metadata": {},
   "outputs": [
    {
     "name": "stdout",
     "output_type": "stream",
     "text": [
      "Accuracy: 0.9649122807017544\n"
     ]
    }
   ],
   "source": [
    "\n",
    "from sklearn.datasets import load_breast_cancer\n",
    "from sklearn.tree import DecisionTreeClassifier\n",
    "from sklearn.model_selection import train_test_split\n",
    "\n",
    "# Load the breast cancer dataset\n",
    "X, y = load_breast_cancer(return_X_y=True)\n",
    "\n",
    "# Split the data into training and test sets\n",
    "X_train, X_test, y_train, y_test = train_test_split(X, y, test_size=0.2)\n",
    "\n",
    "# Train a decision tree classifier on the training set\n",
    "model = DecisionTreeClassifier()\n",
    "model.fit(X_train, y_train)\n",
    "\n",
    "# Evaluate the model on the test set\n",
    "accuracy = model.score(X_test, y_test)\n",
    "print(\"Accuracy:\", accuracy)"
   ]
  },
  {
   "cell_type": "code",
   "execution_count": 81,
   "id": "b42b4928-4025-4172-9d16-ea57e7b83963",
   "metadata": {},
   "outputs": [
    {
     "name": "stdout",
     "output_type": "stream",
     "text": [
      "Accuracy: 0.9912280701754386\n"
     ]
    }
   ],
   "source": [
    "import numpy as np\n",
    "from sklearn.datasets import load_breast_cancer\n",
    "from sklearn.tree import DecisionTreeClassifier\n",
    "from sklearn.model_selection import train_test_split\n",
    "\n",
    "# Load the breast cancer dataset\n",
    "X, y = load_breast_cancer(return_X_y=True)\n",
    "\n",
    "# Identify the sensitive attributes\n",
    "sensitive_attrs = [0, 1]  # 0 = radius, 1 = texture\n",
    "\n",
    "# Generate synthetic data points with reversed values for the sensitive attributes\n",
    "X_syn = X.copy()\n",
    "X_syn[:, sensitive_attrs] = 1 - X_syn[:, sensitive_attrs]\n",
    "y_syn = y\n",
    "\n",
    "# Combine the original and synthetic data\n",
    "X_combined = np.concatenate([X, X_syn])\n",
    "y_combined = np.concatenate([y, y_syn])\n",
    "\n",
    "# Split the combined data into training and test sets\n",
    "X_train, X_test, y_train, y_test = train_test_split(X_combined, y_combined, test_size=0.2)\n",
    "\n",
    "# Train a decision tree classifier on the combined data\n",
    "model = DecisionTreeClassifier()\n",
    "model.fit(X_train, y_train)\n",
    "\n",
    "# Evaluate the model on the test set\n",
    "accuracy = model.score(X_test, y_test)\n",
    "print(\"Accuracy:\", accuracy)\n"
   ]
  },
  {
   "cell_type": "code",
   "execution_count": 82,
   "id": "cd1841bd-c012-4d0c-80ff-91012ec5d8a6",
   "metadata": {},
   "outputs": [
    {
     "name": "stdout",
     "output_type": "stream",
     "text": [
      "Model with counterfactual data augmentation:\n",
      "Confusion matrix: [[ 88   2]\n",
      " [  0 138]]\n",
      "Precision: 0.9857142857142858\n",
      "Recall: 1.0\n",
      "Model without counterfactual data augmentation:\n",
      "Confusion matrix: [[46  2]\n",
      " [ 9 57]]\n",
      "Precision: 0.9661016949152542\n",
      "Recall: 0.8636363636363636\n"
     ]
    }
   ],
   "source": [
    "import numpy as np\n",
    "from sklearn.datasets import load_breast_cancer\n",
    "from sklearn.tree import DecisionTreeClassifier\n",
    "from sklearn.model_selection import train_test_split\n",
    "from sklearn.metrics import confusion_matrix, precision_score, recall_score\n",
    "\n",
    "# Load the breast cancer dataset\n",
    "X, y = load_breast_cancer(return_X_y=True)\n",
    "\n",
    "# Identify the sensitive attributes\n",
    "sensitive_attrs = [0, 1]  # 0 = radius, 1 = texture\n",
    "\n",
    "# Generate synthetic data points with reversed values for the sensitive attributes\n",
    "X_syn = X.copy()\n",
    "X_syn[:, sensitive_attrs] = 1 - X_syn[:, sensitive_attrs]\n",
    "y_syn = y\n",
    "\n",
    "# Combine the original and synthetic data\n",
    "X_combined = np.concatenate([X, X_syn])\n",
    "y_combined = np.concatenate([y, y_syn])\n",
    "\n",
    "# Split the combined data into training and test sets\n",
    "X_train, X_test, y_train, y_test = train_test_split(X_combined, y_combined, test_size=0.2)\n",
    "\n",
    "# Train a decision tree classifier on the combined data\n",
    "model_with_augmentation = DecisionTreeClassifier()\n",
    "model_with_augmentation.fit(X_train, y_train)\n",
    "\n",
    "# Evaluate the model with counterfactual data augmentation on the test set\n",
    "y_pred = model_with_augmentation.predict(X_test)\n",
    "conf_matrix = confusion_matrix(y_test, y_pred)\n",
    "precision = precision_score(y_test, y_pred)\n",
    "recall = recall_score(y_test, y_pred)\n",
    "print(\"Model with counterfactual data augmentation:\")\n",
    "print(\"Confusion matrix:\", conf_matrix)\n",
    "print(\"Precision:\", precision)\n",
    "print(\"Recall:\", recall)\n",
    "\n",
    "# Split the original data into training and test sets\n",
    "X_train, X_test, y_train, y_test = train_test_split(X, y, test_size=0.2)\n",
    "\n",
    "# Train a decision tree classifier on the original data\n",
    "model_without_augmentation = DecisionTreeClassifier()\n",
    "model_without_augmentation.fit(X_train, y_train)\n",
    "\n",
    "# Evaluate the model without counterfactual data augmentation on the test set\n",
    "y_pred = model_without_augmentation.predict(X_test)\n",
    "conf_matrix = confusion_matrix(y_test, y_pred)\n",
    "precision = precision_score(y_test, y_pred)\n",
    "recall = recall_score(y_test, y_pred)\n",
    "print(\"Model without counterfactual data augmentation:\")\n",
    "print(\"Confusion matrix:\", conf_matrix)\n",
    "print(\"Precision:\", precision)\n",
    "print(\"Recall:\", recall)\n"
   ]
  },
  {
   "cell_type": "code",
   "execution_count": 86,
   "id": "bf9226c8-ba95-498d-8f49-5746ff5a88c7",
   "metadata": {},
   "outputs": [
    {
     "ename": "TypeError",
     "evalue": "unsupported operand type(s) for -: 'int' and 'Categorical'",
     "output_type": "error",
     "traceback": [
      "\u001b[1;31m---------------------------------------------------------------------------\u001b[0m",
      "\u001b[1;31mTypeError\u001b[0m                                 Traceback (most recent call last)",
      "Cell \u001b[1;32mIn [86], line 15\u001b[0m\n\u001b[0;32m     12\u001b[0m \u001b[38;5;66;03m# Generate synthetic data points with reversed values for the sensitive attributes\u001b[39;00m\n\u001b[0;32m     13\u001b[0m X_syn \u001b[38;5;241m=\u001b[39m X\u001b[38;5;241m.\u001b[39mcopy()\n\u001b[1;32m---> 15\u001b[0m \u001b[38;5;28mprint\u001b[39m(\u001b[38;5;241;43m1\u001b[39;49m\u001b[43m \u001b[49m\u001b[38;5;241;43m-\u001b[39;49m\u001b[43m \u001b[49m\u001b[43mX_syn\u001b[49m\u001b[43m[\u001b[49m\u001b[43msensitive_attrs\u001b[49m\u001b[43m]\u001b[49m)\n\u001b[0;32m     17\u001b[0m X_syn[sensitive_attrs] \u001b[38;5;241m=\u001b[39m \u001b[38;5;241m1\u001b[39m \u001b[38;5;241m-\u001b[39m X_syn[sensitive_attrs]\n\u001b[0;32m     18\u001b[0m y_syn \u001b[38;5;241m=\u001b[39m y\n",
      "File \u001b[1;32m~\\Anaconda3\\lib\\site-packages\\pandas\\core\\ops\\common.py:70\u001b[0m, in \u001b[0;36m_unpack_zerodim_and_defer.<locals>.new_method\u001b[1;34m(self, other)\u001b[0m\n\u001b[0;32m     66\u001b[0m             \u001b[38;5;28;01mreturn\u001b[39;00m \u001b[38;5;28mNotImplemented\u001b[39m\n\u001b[0;32m     68\u001b[0m other \u001b[38;5;241m=\u001b[39m item_from_zerodim(other)\n\u001b[1;32m---> 70\u001b[0m \u001b[38;5;28;01mreturn\u001b[39;00m \u001b[43mmethod\u001b[49m\u001b[43m(\u001b[49m\u001b[38;5;28;43mself\u001b[39;49m\u001b[43m,\u001b[49m\u001b[43m \u001b[49m\u001b[43mother\u001b[49m\u001b[43m)\u001b[49m\n",
      "File \u001b[1;32m~\\Anaconda3\\lib\\site-packages\\pandas\\core\\arraylike.py:112\u001b[0m, in \u001b[0;36mOpsMixin.__rsub__\u001b[1;34m(self, other)\u001b[0m\n\u001b[0;32m    110\u001b[0m \u001b[38;5;129m@unpack_zerodim_and_defer\u001b[39m(\u001b[38;5;124m\"\u001b[39m\u001b[38;5;124m__rsub__\u001b[39m\u001b[38;5;124m\"\u001b[39m)\n\u001b[0;32m    111\u001b[0m \u001b[38;5;28;01mdef\u001b[39;00m \u001b[38;5;21m__rsub__\u001b[39m(\u001b[38;5;28mself\u001b[39m, other):\n\u001b[1;32m--> 112\u001b[0m     \u001b[38;5;28;01mreturn\u001b[39;00m \u001b[38;5;28;43mself\u001b[39;49m\u001b[38;5;241;43m.\u001b[39;49m\u001b[43m_arith_method\u001b[49m\u001b[43m(\u001b[49m\u001b[43mother\u001b[49m\u001b[43m,\u001b[49m\u001b[43m \u001b[49m\u001b[43mroperator\u001b[49m\u001b[38;5;241;43m.\u001b[39;49m\u001b[43mrsub\u001b[49m\u001b[43m)\u001b[49m\n",
      "File \u001b[1;32m~\\Anaconda3\\lib\\site-packages\\pandas\\core\\frame.py:6955\u001b[0m, in \u001b[0;36mDataFrame._arith_method\u001b[1;34m(self, other, op)\u001b[0m\n\u001b[0;32m   6951\u001b[0m other \u001b[38;5;241m=\u001b[39m ops\u001b[38;5;241m.\u001b[39mmaybe_prepare_scalar_for_op(other, (\u001b[38;5;28mself\u001b[39m\u001b[38;5;241m.\u001b[39mshape[axis],))\n\u001b[0;32m   6953\u001b[0m \u001b[38;5;28mself\u001b[39m, other \u001b[38;5;241m=\u001b[39m ops\u001b[38;5;241m.\u001b[39malign_method_FRAME(\u001b[38;5;28mself\u001b[39m, other, axis, flex\u001b[38;5;241m=\u001b[39m\u001b[38;5;28;01mTrue\u001b[39;00m, level\u001b[38;5;241m=\u001b[39m\u001b[38;5;28;01mNone\u001b[39;00m)\n\u001b[1;32m-> 6955\u001b[0m new_data \u001b[38;5;241m=\u001b[39m \u001b[38;5;28;43mself\u001b[39;49m\u001b[38;5;241;43m.\u001b[39;49m\u001b[43m_dispatch_frame_op\u001b[49m\u001b[43m(\u001b[49m\u001b[43mother\u001b[49m\u001b[43m,\u001b[49m\u001b[43m \u001b[49m\u001b[43mop\u001b[49m\u001b[43m,\u001b[49m\u001b[43m \u001b[49m\u001b[43maxis\u001b[49m\u001b[38;5;241;43m=\u001b[39;49m\u001b[43maxis\u001b[49m\u001b[43m)\u001b[49m\n\u001b[0;32m   6956\u001b[0m \u001b[38;5;28;01mreturn\u001b[39;00m \u001b[38;5;28mself\u001b[39m\u001b[38;5;241m.\u001b[39m_construct_result(new_data)\n",
      "File \u001b[1;32m~\\Anaconda3\\lib\\site-packages\\pandas\\core\\frame.py:6982\u001b[0m, in \u001b[0;36mDataFrame._dispatch_frame_op\u001b[1;34m(self, right, func, axis)\u001b[0m\n\u001b[0;32m   6979\u001b[0m \u001b[38;5;28;01mif\u001b[39;00m \u001b[38;5;129;01mnot\u001b[39;00m is_list_like(right):\n\u001b[0;32m   6980\u001b[0m     \u001b[38;5;66;03m# i.e. scalar, faster than checking np.ndim(right) == 0\u001b[39;00m\n\u001b[0;32m   6981\u001b[0m     \u001b[38;5;28;01mwith\u001b[39;00m np\u001b[38;5;241m.\u001b[39merrstate(\u001b[38;5;28mall\u001b[39m\u001b[38;5;241m=\u001b[39m\u001b[38;5;124m\"\u001b[39m\u001b[38;5;124mignore\u001b[39m\u001b[38;5;124m\"\u001b[39m):\n\u001b[1;32m-> 6982\u001b[0m         bm \u001b[38;5;241m=\u001b[39m \u001b[38;5;28;43mself\u001b[39;49m\u001b[38;5;241;43m.\u001b[39;49m\u001b[43m_mgr\u001b[49m\u001b[38;5;241;43m.\u001b[39;49m\u001b[43mapply\u001b[49m\u001b[43m(\u001b[49m\u001b[43marray_op\u001b[49m\u001b[43m,\u001b[49m\u001b[43m \u001b[49m\u001b[43mright\u001b[49m\u001b[38;5;241;43m=\u001b[39;49m\u001b[43mright\u001b[49m\u001b[43m)\u001b[49m\n\u001b[0;32m   6983\u001b[0m     \u001b[38;5;28;01mreturn\u001b[39;00m \u001b[38;5;28mself\u001b[39m\u001b[38;5;241m.\u001b[39m_constructor(bm)\n\u001b[0;32m   6985\u001b[0m \u001b[38;5;28;01melif\u001b[39;00m \u001b[38;5;28misinstance\u001b[39m(right, DataFrame):\n",
      "File \u001b[1;32m~\\Anaconda3\\lib\\site-packages\\pandas\\core\\internals\\managers.py:302\u001b[0m, in \u001b[0;36mBaseBlockManager.apply\u001b[1;34m(self, f, align_keys, ignore_failures, **kwargs)\u001b[0m\n\u001b[0;32m    300\u001b[0m \u001b[38;5;28;01mtry\u001b[39;00m:\n\u001b[0;32m    301\u001b[0m     \u001b[38;5;28;01mif\u001b[39;00m callable(f):\n\u001b[1;32m--> 302\u001b[0m         applied \u001b[38;5;241m=\u001b[39m b\u001b[38;5;241m.\u001b[39mapply(f, \u001b[38;5;241m*\u001b[39m\u001b[38;5;241m*\u001b[39mkwargs)\n\u001b[0;32m    303\u001b[0m     \u001b[38;5;28;01melse\u001b[39;00m:\n\u001b[0;32m    304\u001b[0m         applied \u001b[38;5;241m=\u001b[39m \u001b[38;5;28mgetattr\u001b[39m(b, f)(\u001b[38;5;241m*\u001b[39m\u001b[38;5;241m*\u001b[39mkwargs)\n",
      "File \u001b[1;32m~\\Anaconda3\\lib\\site-packages\\pandas\\core\\internals\\blocks.py:402\u001b[0m, in \u001b[0;36mBlock.apply\u001b[1;34m(self, func, **kwargs)\u001b[0m\n\u001b[0;32m    396\u001b[0m \u001b[38;5;129m@final\u001b[39m\n\u001b[0;32m    397\u001b[0m \u001b[38;5;28;01mdef\u001b[39;00m \u001b[38;5;21mapply\u001b[39m(\u001b[38;5;28mself\u001b[39m, func, \u001b[38;5;241m*\u001b[39m\u001b[38;5;241m*\u001b[39mkwargs) \u001b[38;5;241m-\u001b[39m\u001b[38;5;241m>\u001b[39m \u001b[38;5;28mlist\u001b[39m[Block]:\n\u001b[0;32m    398\u001b[0m     \u001b[38;5;124;03m\"\"\"\u001b[39;00m\n\u001b[0;32m    399\u001b[0m \u001b[38;5;124;03m    apply the function to my values; return a block if we are not\u001b[39;00m\n\u001b[0;32m    400\u001b[0m \u001b[38;5;124;03m    one\u001b[39;00m\n\u001b[0;32m    401\u001b[0m \u001b[38;5;124;03m    \"\"\"\u001b[39;00m\n\u001b[1;32m--> 402\u001b[0m     result \u001b[38;5;241m=\u001b[39m func(\u001b[38;5;28mself\u001b[39m\u001b[38;5;241m.\u001b[39mvalues, \u001b[38;5;241m*\u001b[39m\u001b[38;5;241m*\u001b[39mkwargs)\n\u001b[0;32m    404\u001b[0m     \u001b[38;5;28;01mreturn\u001b[39;00m \u001b[38;5;28mself\u001b[39m\u001b[38;5;241m.\u001b[39m_split_op_result(result)\n",
      "File \u001b[1;32m~\\Anaconda3\\lib\\site-packages\\pandas\\core\\ops\\array_ops.py:216\u001b[0m, in \u001b[0;36marithmetic_op\u001b[1;34m(left, right, op)\u001b[0m\n\u001b[0;32m    203\u001b[0m \u001b[38;5;66;03m# NB: We assume that extract_array and ensure_wrapped_if_datetimelike\u001b[39;00m\n\u001b[0;32m    204\u001b[0m \u001b[38;5;66;03m#  have already been called on `left` and `right`,\u001b[39;00m\n\u001b[0;32m    205\u001b[0m \u001b[38;5;66;03m#  and `maybe_prepare_scalar_for_op` has already been called on `right`\u001b[39;00m\n\u001b[0;32m    206\u001b[0m \u001b[38;5;66;03m# We need to special-case datetime64/timedelta64 dtypes (e.g. because numpy\u001b[39;00m\n\u001b[0;32m    207\u001b[0m \u001b[38;5;66;03m# casts integer dtypes to timedelta64 when operating with timedelta64 - GH#22390)\u001b[39;00m\n\u001b[0;32m    209\u001b[0m \u001b[38;5;28;01mif\u001b[39;00m (\n\u001b[0;32m    210\u001b[0m     should_extension_dispatch(left, right)\n\u001b[0;32m    211\u001b[0m     \u001b[38;5;129;01mor\u001b[39;00m \u001b[38;5;28misinstance\u001b[39m(right, (Timedelta, BaseOffset, Timestamp))\n\u001b[1;32m   (...)\u001b[0m\n\u001b[0;32m    214\u001b[0m     \u001b[38;5;66;03m# Timedelta/Timestamp and other custom scalars are included in the check\u001b[39;00m\n\u001b[0;32m    215\u001b[0m     \u001b[38;5;66;03m# because numexpr will fail on it, see GH#31457\u001b[39;00m\n\u001b[1;32m--> 216\u001b[0m     res_values \u001b[38;5;241m=\u001b[39m \u001b[43mop\u001b[49m\u001b[43m(\u001b[49m\u001b[43mleft\u001b[49m\u001b[43m,\u001b[49m\u001b[43m \u001b[49m\u001b[43mright\u001b[49m\u001b[43m)\u001b[49m\n\u001b[0;32m    217\u001b[0m \u001b[38;5;28;01melse\u001b[39;00m:\n\u001b[0;32m    218\u001b[0m     \u001b[38;5;66;03m# TODO we should handle EAs consistently and move this check before the if/else\u001b[39;00m\n\u001b[0;32m    219\u001b[0m     \u001b[38;5;66;03m# (https://github.com/pandas-dev/pandas/issues/41165)\u001b[39;00m\n\u001b[0;32m    220\u001b[0m     _bool_arith_check(op, left, right)\n",
      "File \u001b[1;32m~\\Anaconda3\\lib\\site-packages\\pandas\\core\\roperator.py:13\u001b[0m, in \u001b[0;36mrsub\u001b[1;34m(left, right)\u001b[0m\n\u001b[0;32m     12\u001b[0m \u001b[38;5;28;01mdef\u001b[39;00m \u001b[38;5;21mrsub\u001b[39m(left, right):\n\u001b[1;32m---> 13\u001b[0m     \u001b[38;5;28;01mreturn\u001b[39;00m \u001b[43mright\u001b[49m\u001b[43m \u001b[49m\u001b[38;5;241;43m-\u001b[39;49m\u001b[43m \u001b[49m\u001b[43mleft\u001b[49m\n",
      "\u001b[1;31mTypeError\u001b[0m: unsupported operand type(s) for -: 'int' and 'Categorical'"
     ]
    }
   ],
   "source": [
    "\n",
    "from sklearn.datasets import fetch_openml\n",
    "from sklearn.tree import DecisionTreeClassifier\n",
    "from sklearn.model_selection import train_test_split\n",
    "\n",
    "# Load the \"Adult\" dataset from OpenML\n",
    "X, y = fetch_openml(\"adult\", version=1, return_X_y=True, as_frame=True)\n",
    "\n",
    "# Identify the sensitive attributes\n",
    "sensitive_attrs = [\"sex\", \"race\"]\n",
    "\n",
    "# Generate synthetic data points with reversed values for the sensitive attributes\n",
    "X_syn = X.copy()\n",
    "\n",
    "print(1 - X_syn[sensitive_attrs])\n",
    "\n",
    "X_syn[sensitive_attrs] = 1 - X_syn[sensitive_attrs]\n",
    "y_syn = y\n",
    "\n",
    "# Combine the original and synthetic data\n",
    "X_combined = pd.concat([X, X_syn])\n",
    "y_combined = pd.concat([y, y_syn])\n",
    "\n",
    "# Split the combined data into training and test sets\n",
    "X_train, X_test, y_train, y_test = train_test_split(X_combined, y_combined, test_size=0.2)\n",
    "\n",
    "# Train a decision tree classifier on the combined data\n",
    "model = DecisionTreeClassifier()\n",
    "model.fit(X_train, y_train)\n",
    "\n",
    "# Evaluate the model on the test set\n",
    "accuracy = model.score(X_test, y_test)\n",
    "print(\"Accuracy:\", accuracy)\n"
   ]
  },
  {
   "cell_type": "code",
   "execution_count": 90,
   "id": "4273ed37-0624-41c7-b144-d1486e54bd39",
   "metadata": {},
   "outputs": [
    {
     "ename": "KeyError",
     "evalue": "\"['capital-gain', 'capital-loss', 'hours-per-week'] not in index\"",
     "output_type": "error",
     "traceback": [
      "\u001b[1;31m---------------------------------------------------------------------------\u001b[0m",
      "\u001b[1;31mKeyError\u001b[0m                                  Traceback (most recent call last)",
      "Cell \u001b[1;32mIn [90], line 23\u001b[0m\n\u001b[0;32m     21\u001b[0m numeric_columns \u001b[38;5;241m=\u001b[39m [\u001b[38;5;124m\"\u001b[39m\u001b[38;5;124mage\u001b[39m\u001b[38;5;124m\"\u001b[39m, \u001b[38;5;124m\"\u001b[39m\u001b[38;5;124mfnlwgt\u001b[39m\u001b[38;5;124m\"\u001b[39m, \u001b[38;5;124m\"\u001b[39m\u001b[38;5;124meducation-num\u001b[39m\u001b[38;5;124m\"\u001b[39m, \u001b[38;5;124m\"\u001b[39m\u001b[38;5;124mcapital-gain\u001b[39m\u001b[38;5;124m\"\u001b[39m, \u001b[38;5;124m\"\u001b[39m\u001b[38;5;124mcapital-loss\u001b[39m\u001b[38;5;124m\"\u001b[39m, \u001b[38;5;124m\"\u001b[39m\u001b[38;5;124mhours-per-week\u001b[39m\u001b[38;5;124m\"\u001b[39m]\n\u001b[0;32m     22\u001b[0m scaler \u001b[38;5;241m=\u001b[39m StandardScaler()\n\u001b[1;32m---> 23\u001b[0m X[numeric_columns] \u001b[38;5;241m=\u001b[39m scaler\u001b[38;5;241m.\u001b[39mfit_transform(\u001b[43mX\u001b[49m\u001b[43m[\u001b[49m\u001b[43mnumeric_columns\u001b[49m\u001b[43m]\u001b[49m)\n\u001b[0;32m     25\u001b[0m \u001b[38;5;66;03m# Identify the sensitive attributes\u001b[39;00m\n\u001b[0;32m     26\u001b[0m sensitive_attrs \u001b[38;5;241m=\u001b[39m [\u001b[38;5;124m\"\u001b[39m\u001b[38;5;124msex_Female\u001b[39m\u001b[38;5;124m\"\u001b[39m, \u001b[38;5;124m\"\u001b[39m\u001b[38;5;124mrace_White\u001b[39m\u001b[38;5;124m\"\u001b[39m]\n",
      "File \u001b[1;32m~\\Anaconda3\\lib\\site-packages\\pandas\\core\\frame.py:3511\u001b[0m, in \u001b[0;36mDataFrame.__getitem__\u001b[1;34m(self, key)\u001b[0m\n\u001b[0;32m   3509\u001b[0m     \u001b[38;5;28;01mif\u001b[39;00m is_iterator(key):\n\u001b[0;32m   3510\u001b[0m         key \u001b[38;5;241m=\u001b[39m \u001b[38;5;28mlist\u001b[39m(key)\n\u001b[1;32m-> 3511\u001b[0m     indexer \u001b[38;5;241m=\u001b[39m \u001b[38;5;28;43mself\u001b[39;49m\u001b[38;5;241;43m.\u001b[39;49m\u001b[43mcolumns\u001b[49m\u001b[38;5;241;43m.\u001b[39;49m\u001b[43m_get_indexer_strict\u001b[49m\u001b[43m(\u001b[49m\u001b[43mkey\u001b[49m\u001b[43m,\u001b[49m\u001b[43m \u001b[49m\u001b[38;5;124;43m\"\u001b[39;49m\u001b[38;5;124;43mcolumns\u001b[39;49m\u001b[38;5;124;43m\"\u001b[39;49m\u001b[43m)\u001b[49m[\u001b[38;5;241m1\u001b[39m]\n\u001b[0;32m   3513\u001b[0m \u001b[38;5;66;03m# take() does not accept boolean indexers\u001b[39;00m\n\u001b[0;32m   3514\u001b[0m \u001b[38;5;28;01mif\u001b[39;00m \u001b[38;5;28mgetattr\u001b[39m(indexer, \u001b[38;5;124m\"\u001b[39m\u001b[38;5;124mdtype\u001b[39m\u001b[38;5;124m\"\u001b[39m, \u001b[38;5;28;01mNone\u001b[39;00m) \u001b[38;5;241m==\u001b[39m \u001b[38;5;28mbool\u001b[39m:\n",
      "File \u001b[1;32m~\\Anaconda3\\lib\\site-packages\\pandas\\core\\indexes\\base.py:5796\u001b[0m, in \u001b[0;36mIndex._get_indexer_strict\u001b[1;34m(self, key, axis_name)\u001b[0m\n\u001b[0;32m   5793\u001b[0m \u001b[38;5;28;01melse\u001b[39;00m:\n\u001b[0;32m   5794\u001b[0m     keyarr, indexer, new_indexer \u001b[38;5;241m=\u001b[39m \u001b[38;5;28mself\u001b[39m\u001b[38;5;241m.\u001b[39m_reindex_non_unique(keyarr)\n\u001b[1;32m-> 5796\u001b[0m \u001b[38;5;28;43mself\u001b[39;49m\u001b[38;5;241;43m.\u001b[39;49m\u001b[43m_raise_if_missing\u001b[49m\u001b[43m(\u001b[49m\u001b[43mkeyarr\u001b[49m\u001b[43m,\u001b[49m\u001b[43m \u001b[49m\u001b[43mindexer\u001b[49m\u001b[43m,\u001b[49m\u001b[43m \u001b[49m\u001b[43maxis_name\u001b[49m\u001b[43m)\u001b[49m\n\u001b[0;32m   5798\u001b[0m keyarr \u001b[38;5;241m=\u001b[39m \u001b[38;5;28mself\u001b[39m\u001b[38;5;241m.\u001b[39mtake(indexer)\n\u001b[0;32m   5799\u001b[0m \u001b[38;5;28;01mif\u001b[39;00m \u001b[38;5;28misinstance\u001b[39m(key, Index):\n\u001b[0;32m   5800\u001b[0m     \u001b[38;5;66;03m# GH 42790 - Preserve name from an Index\u001b[39;00m\n",
      "File \u001b[1;32m~\\Anaconda3\\lib\\site-packages\\pandas\\core\\indexes\\base.py:5859\u001b[0m, in \u001b[0;36mIndex._raise_if_missing\u001b[1;34m(self, key, indexer, axis_name)\u001b[0m\n\u001b[0;32m   5856\u001b[0m     \u001b[38;5;28;01mraise\u001b[39;00m \u001b[38;5;167;01mKeyError\u001b[39;00m(\u001b[38;5;124mf\u001b[39m\u001b[38;5;124m\"\u001b[39m\u001b[38;5;124mNone of [\u001b[39m\u001b[38;5;132;01m{\u001b[39;00mkey\u001b[38;5;132;01m}\u001b[39;00m\u001b[38;5;124m] are in the [\u001b[39m\u001b[38;5;132;01m{\u001b[39;00maxis_name\u001b[38;5;132;01m}\u001b[39;00m\u001b[38;5;124m]\u001b[39m\u001b[38;5;124m\"\u001b[39m)\n\u001b[0;32m   5858\u001b[0m not_found \u001b[38;5;241m=\u001b[39m \u001b[38;5;28mlist\u001b[39m(ensure_index(key)[missing_mask\u001b[38;5;241m.\u001b[39mnonzero()[\u001b[38;5;241m0\u001b[39m]]\u001b[38;5;241m.\u001b[39munique())\n\u001b[1;32m-> 5859\u001b[0m \u001b[38;5;28;01mraise\u001b[39;00m \u001b[38;5;167;01mKeyError\u001b[39;00m(\u001b[38;5;124mf\u001b[39m\u001b[38;5;124m\"\u001b[39m\u001b[38;5;132;01m{\u001b[39;00mnot_found\u001b[38;5;132;01m}\u001b[39;00m\u001b[38;5;124m not in index\u001b[39m\u001b[38;5;124m\"\u001b[39m)\n",
      "\u001b[1;31mKeyError\u001b[0m: \"['capital-gain', 'capital-loss', 'hours-per-week'] not in index\""
     ]
    }
   ],
   "source": [
    "\n",
    "import pandas as pd\n",
    "from sklearn.preprocessing import StandardScaler\n",
    "from sklearn.datasets import fetch_openml\n",
    "from sklearn.tree import DecisionTreeClassifier\n",
    "from sklearn.model_selection import train_test_split\n",
    "\n",
    "# Load the \"Adult\" dataset from OpenML\n",
    "X, y = fetch_openml(\"adult\", version=1, return_X_y=True, as_frame=True)\n",
    "\n",
    "# Convert the target variable to a binary label\n",
    "y = (y == \">50K\").astype(int)\n",
    "\n",
    "# One-hot encode the categorical features\n",
    "categorical_columns = [\"workclass\", \"education\", \"marital-status\", \"occupation\", \"relationship\", \"race\", \"sex\"]\n",
    "X = pd.get_dummies(X, columns=categorical_columns)\n",
    "\n",
    "X\n",
    "\n",
    "# Standardize the numeric features\n",
    "numeric_columns = [\"age\", \"fnlwgt\", \"education-num\", \"capital-gain\", \"capital-loss\", \"hours-per-week\"]\n",
    "scaler = StandardScaler()\n",
    "X[numeric_columns] = scaler.fit_transform(X[numeric_columns])\n",
    "\n",
    "# Identify the sensitive attributes\n",
    "sensitive_attrs = [\"sex_Female\", \"race_White\"]\n",
    "\n",
    "# Generate synthetic data points with reversed values for the sensitive attributes\n",
    "X_syn = X.copy()\n",
    "X_syn[sensitive_attrs] = 1 - X_syn[sensitive_attrs]\n",
    "y_syn = y\n",
    "\n",
    "# Combine the original and synthetic data\n",
    "X_combined = pd.concat([X, X_syn])\n",
    "y_combined = pd.concat([y, y_syn])\n",
    "\n",
    "# Split the combined data into training and test sets\n",
    "X_train, X_test, y_train, y_test = train_test_split(X_combined, y_combined, test_size=0.2)\n",
    "\n",
    "# Train a decision tree classifier on the combined data\n",
    "model = DecisionTreeClassifier()\n",
    "model.fit(X_train, y_train)\n",
    "\n",
    "# Evaluate the model on the test set\n",
    "accuracy = model.score(X_test, y_test)\n",
    "print(\"Accuracy:\", accuracy)\n"
   ]
  },
  {
   "cell_type": "code",
   "execution_count": 93,
   "id": "ac3e6acb-7e5a-4fd0-a905-5ce028d23c5c",
   "metadata": {},
   "outputs": [
    {
     "name": "stdout",
     "output_type": "stream",
     "text": [
      "Collecting pyswarm\n",
      "  Downloading pyswarm-0.6.tar.gz (4.3 kB)\n",
      "  Preparing metadata (setup.py): started\n",
      "  Preparing metadata (setup.py): finished with status 'done'\n",
      "Requirement already satisfied: numpy in c:\\users\\hussaini_21000736\\anaconda3\\lib\\site-packages (from pyswarm) (1.22.4)\n",
      "Building wheels for collected packages: pyswarm\n",
      "  Building wheel for pyswarm (setup.py): started\n",
      "  Building wheel for pyswarm (setup.py): finished with status 'done'\n",
      "  Created wheel for pyswarm: filename=pyswarm-0.6-py3-none-any.whl size=4465 sha256=9028695e3b9e57696526df585c0c90231938123c25eb2890f2861b293dec1389\n",
      "  Stored in directory: c:\\users\\hussaini_21000736\\appdata\\local\\pip\\cache\\wheels\\ff\\d2\\b7\\80118e5698de2bd0b8d1b3397abf7fdfc45c15ffc454b52145\n",
      "Successfully built pyswarm\n",
      "Installing collected packages: pyswarm\n",
      "Successfully installed pyswarm-0.6\n"
     ]
    }
   ],
   "source": [
    "!pip install pyswarm"
   ]
  },
  {
   "cell_type": "code",
   "execution_count": 214,
   "id": "4402eeaf-6ffc-498b-8fc9-865052998293",
   "metadata": {},
   "outputs": [],
   "source": [
    "# Load the dataset\n",
    "import pandas as pd\n",
    "\n",
    "df = pd.read_csv('adult.csv', header=None)\n",
    "\n",
    "# Preprocess the data\n",
    "columns = ['age', 'workclass', 'fnlwgt', 'education', 'education-num', 'marital-status', 'occupation', 'relationship',\n",
    "           'race', 'sex', 'capital-gain', 'capital-loss', 'hours-per-week', 'native-country', 'income']\n",
    "\n",
    "df.columns = columns\n",
    "df = pd.get_dummies(df,\n",
    "                    columns=['workclass', 'education', 'marital-status', 'occupation', 'relationship', 'race', 'sex',\n",
    "                             'native-country'])\n",
    "df = df.drop(columns=['fnlwgt', 'education-num'])"
   ]
  },
  {
   "cell_type": "code",
   "execution_count": 215,
   "id": "1d555524-a665-4cec-8013-b6c612f5baa7",
   "metadata": {},
   "outputs": [
    {
     "data": {
      "text/plain": [
       "RandomForestClassifier()"
      ]
     },
     "execution_count": 215,
     "metadata": {},
     "output_type": "execute_result"
    }
   ],
   "source": [
    "\n",
    "# Split the data into features and target\n",
    "X = df.drop(columns=['income'])\n",
    "y = df['income']\n",
    "\n",
    "# Train a model on the data\n",
    "from sklearn.ensemble import RandomForestClassifier\n",
    "\n",
    "model = RandomForestClassifier()\n",
    "model.fit(X, y)"
   ]
  },
  {
   "cell_type": "code",
   "execution_count": 241,
   "id": "9a1997e8-ea50-437a-9f43-43cff38afd60",
   "metadata": {},
   "outputs": [],
   "source": [
    "import numpy as np\n",
    "from pyswarm import pso\n",
    "\n",
    "\n",
    "def false_positive_rate(y_true, y_pred):\n",
    "    print(y_true)\n",
    "    print('____________________________________')\n",
    "    # Calculate the number of false positives\n",
    "    false_positives = sum((y_pred == 1) & (y_true == 0))\n",
    "\n",
    "    # Calculate the number of actual negatives\n",
    "    actual_negatives = sum(y_true == 0)\n",
    "\n",
    "    # Return the false positive rate\n",
    "    return false_positives / actual_negatives\n",
    "\n",
    "\n",
    "def evaluate_fairness(test_case, model, sensitive_attrs, columns=[]):\n",
    "    \"\"\"Evaluate the fairness of the model on the given test case.\n",
    "    \n",
    "    Args:\n",
    "        test_case (ndarray): The test case to evaluate.\n",
    "        model (object): The machine learning model to test.\n",
    "        sensitive_attrs (list): The sensitive attributes to consider.\n",
    "    \n",
    "    Returns:\n",
    "        float: The fairness score of the model on the test case.\n",
    "    \"\"\"\n",
    "    test_case = [test_case]\n",
    "\n",
    "    print(test_case)\n",
    "    # Predict the model's output for the test case\n",
    "    prediction = model.predict(test_case)\n",
    "\n",
    "    # Compute the false positive rate for each subgroup defined by the sensitive attributes\n",
    "    subgroup_fprs = []\n",
    "    for attr in sensitive_attrs:\n",
    "        subgroup_fprs.append(false_positive_rate(prediction.label(), test_case[0][attr]))\n",
    "\n",
    "    # Return the mean false positive rate as the fairness score\n",
    "    return np.mean(subgroup_fprs)\n",
    "\n",
    "\n",
    "def optimize_test_case(\n",
    "        model,\n",
    "        sensitive_attrs, lb, ub, ieqcons=[],\n",
    "        f_ieqcons=None, args=(), kwargs={}, swarmsize=100, omega=0.5, phip=0.5, phig=0.5, maxiter=100, minstep=1e-8,\n",
    "        minfunc=1e-8, debug=False):\n",
    "    \"\"\"Optimize a test case using the PSO algorithm.\n",
    "    \n",
    "    Args:\n",
    "        model (object): The machine learning model to test.\n",
    "        sensitive_attrs (list): The sensitive attributes to consider.\n",
    "        lb (ndarray): The lower bounds of the search space.\n",
    "        ub (ndarray): The upper bounds of the search space.\n",
    "        ieqcons (list): A list of functions of the form f(x,*args) that should return zero or positive values.\n",
    "        f_ieqcons (function): The inequality constraint function.\n",
    "        args (tuple): Additional arguments passed to the objective function and constraint functions.\n",
    "        kwargs (dict): Additional keyword arguments passed to the objective function and constraint functions.\n",
    "        swarmsize (int): The number of particles in the swarm.\n",
    "        omega (float): The particle inertia weight.\n",
    "        phip (float): The particle best position weight.\n",
    "        phig (float): The swarm best position weight.\n",
    "        maxiter (int): The maximum number of iterations to run the PSO algorithm.\n",
    "        minstep (float): The minimum step size of the swarm.\n",
    "        minfunc (float): The minimum change in the objective function value.\n",
    "        debug (bool): If True, print debugging information.\n",
    "    \n",
    "    Returns:\n",
    "        ndarray: The optimal test case.\n",
    "    \"\"\"\n",
    "\n",
    "    # Define the objective function for the PSO algorithm\n",
    "    def objective_function(test_case, *args):\n",
    "        \"\"\"Evaluate the fairness of a machine learning model on a test case.\n",
    "        \n",
    "        Args:\n",
    "            test_case (ndarray): The test case to evaluate.\n",
    "            *args: Additional arguments passed to the fairness evaluation function.\n",
    "        \n",
    "        Returns:\n",
    "            float: The fairness score of the model on the test case.\n",
    "        \"\"\"\n",
    "        # Evaluate the fairness of the model on the test case\n",
    "        fairness_score = evaluate_fairness(test_case, model, sensitive_attrs)\n",
    "\n",
    "        print(fairness_score)\n",
    "\n",
    "        # Return the negative of the fairness score, as we want to maximize fairness\n",
    "        return -fairness_score\n",
    "\n",
    "    # Run the PSO algorithm to optimize the test case\n",
    "    xopt, fopt = pso(objective_function, lb, ub, ieqcons=ieqcons, f_ieqcons=f_ieqcons, args=args, kwargs=kwargs,\n",
    "                     swarmsize=swarmsize, omega=omega, phip=phip, phig=phig, maxiter=maxiter, minstep=minstep,\n",
    "                     minfunc=minfunc, debug=debug)\n",
    "\n",
    "    # Return the optimal test case\n",
    "    return xopt"
   ]
  },
  {
   "cell_type": "code",
   "execution_count": 244,
   "id": "65e478ee-5d3f-4fb8-862a-d259a241beb9",
   "metadata": {},
   "outputs": [
    {
     "data": {
      "text/html": [
       "<div>\n",
       "<style scoped>\n",
       "    .dataframe tbody tr th:only-of-type {\n",
       "        vertical-align: middle;\n",
       "    }\n",
       "\n",
       "    .dataframe tbody tr th {\n",
       "        vertical-align: top;\n",
       "    }\n",
       "\n",
       "    .dataframe thead th {\n",
       "        text-align: right;\n",
       "    }\n",
       "</style>\n",
       "<table border=\"1\" class=\"dataframe\">\n",
       "  <thead>\n",
       "    <tr style=\"text-align: right;\">\n",
       "      <th></th>\n",
       "      <th>age</th>\n",
       "      <th>capital-gain</th>\n",
       "      <th>capital-loss</th>\n",
       "      <th>hours-per-week</th>\n",
       "      <th>income</th>\n",
       "      <th>workclass_ ?</th>\n",
       "      <th>workclass_ Federal-gov</th>\n",
       "      <th>workclass_ Local-gov</th>\n",
       "      <th>workclass_ Never-worked</th>\n",
       "      <th>workclass_ Private</th>\n",
       "      <th>...</th>\n",
       "      <th>native-country_ Puerto-Rico</th>\n",
       "      <th>native-country_ Scotland</th>\n",
       "      <th>native-country_ South</th>\n",
       "      <th>native-country_ Taiwan</th>\n",
       "      <th>native-country_ Thailand</th>\n",
       "      <th>native-country_ Trinadad&amp;Tobago</th>\n",
       "      <th>native-country_ United-States</th>\n",
       "      <th>native-country_ Vietnam</th>\n",
       "      <th>native-country_ Yugoslavia</th>\n",
       "      <th>native-country_13</th>\n",
       "    </tr>\n",
       "  </thead>\n",
       "  <tbody>\n",
       "    <tr>\n",
       "      <th>0</th>\n",
       "      <td>0</td>\n",
       "      <td>10</td>\n",
       "      <td>11</td>\n",
       "      <td>12</td>\n",
       "      <td>14</td>\n",
       "      <td>0</td>\n",
       "      <td>0</td>\n",
       "      <td>0</td>\n",
       "      <td>0</td>\n",
       "      <td>0</td>\n",
       "      <td>...</td>\n",
       "      <td>0</td>\n",
       "      <td>0</td>\n",
       "      <td>0</td>\n",
       "      <td>0</td>\n",
       "      <td>0</td>\n",
       "      <td>0</td>\n",
       "      <td>0</td>\n",
       "      <td>0</td>\n",
       "      <td>0</td>\n",
       "      <td>1</td>\n",
       "    </tr>\n",
       "    <tr>\n",
       "      <th>1</th>\n",
       "      <td>39</td>\n",
       "      <td>2174</td>\n",
       "      <td>0</td>\n",
       "      <td>40</td>\n",
       "      <td>&lt;=50K</td>\n",
       "      <td>0</td>\n",
       "      <td>0</td>\n",
       "      <td>0</td>\n",
       "      <td>0</td>\n",
       "      <td>0</td>\n",
       "      <td>...</td>\n",
       "      <td>0</td>\n",
       "      <td>0</td>\n",
       "      <td>0</td>\n",
       "      <td>0</td>\n",
       "      <td>0</td>\n",
       "      <td>0</td>\n",
       "      <td>1</td>\n",
       "      <td>0</td>\n",
       "      <td>0</td>\n",
       "      <td>0</td>\n",
       "    </tr>\n",
       "    <tr>\n",
       "      <th>2</th>\n",
       "      <td>50</td>\n",
       "      <td>0</td>\n",
       "      <td>0</td>\n",
       "      <td>13</td>\n",
       "      <td>&lt;=50K</td>\n",
       "      <td>0</td>\n",
       "      <td>0</td>\n",
       "      <td>0</td>\n",
       "      <td>0</td>\n",
       "      <td>0</td>\n",
       "      <td>...</td>\n",
       "      <td>0</td>\n",
       "      <td>0</td>\n",
       "      <td>0</td>\n",
       "      <td>0</td>\n",
       "      <td>0</td>\n",
       "      <td>0</td>\n",
       "      <td>1</td>\n",
       "      <td>0</td>\n",
       "      <td>0</td>\n",
       "      <td>0</td>\n",
       "    </tr>\n",
       "    <tr>\n",
       "      <th>3</th>\n",
       "      <td>38</td>\n",
       "      <td>0</td>\n",
       "      <td>0</td>\n",
       "      <td>40</td>\n",
       "      <td>&lt;=50K</td>\n",
       "      <td>0</td>\n",
       "      <td>0</td>\n",
       "      <td>0</td>\n",
       "      <td>0</td>\n",
       "      <td>1</td>\n",
       "      <td>...</td>\n",
       "      <td>0</td>\n",
       "      <td>0</td>\n",
       "      <td>0</td>\n",
       "      <td>0</td>\n",
       "      <td>0</td>\n",
       "      <td>0</td>\n",
       "      <td>1</td>\n",
       "      <td>0</td>\n",
       "      <td>0</td>\n",
       "      <td>0</td>\n",
       "    </tr>\n",
       "    <tr>\n",
       "      <th>4</th>\n",
       "      <td>53</td>\n",
       "      <td>0</td>\n",
       "      <td>0</td>\n",
       "      <td>40</td>\n",
       "      <td>&lt;=50K</td>\n",
       "      <td>0</td>\n",
       "      <td>0</td>\n",
       "      <td>0</td>\n",
       "      <td>0</td>\n",
       "      <td>1</td>\n",
       "      <td>...</td>\n",
       "      <td>0</td>\n",
       "      <td>0</td>\n",
       "      <td>0</td>\n",
       "      <td>0</td>\n",
       "      <td>0</td>\n",
       "      <td>0</td>\n",
       "      <td>1</td>\n",
       "      <td>0</td>\n",
       "      <td>0</td>\n",
       "      <td>0</td>\n",
       "    </tr>\n",
       "    <tr>\n",
       "      <th>...</th>\n",
       "      <td>...</td>\n",
       "      <td>...</td>\n",
       "      <td>...</td>\n",
       "      <td>...</td>\n",
       "      <td>...</td>\n",
       "      <td>...</td>\n",
       "      <td>...</td>\n",
       "      <td>...</td>\n",
       "      <td>...</td>\n",
       "      <td>...</td>\n",
       "      <td>...</td>\n",
       "      <td>...</td>\n",
       "      <td>...</td>\n",
       "      <td>...</td>\n",
       "      <td>...</td>\n",
       "      <td>...</td>\n",
       "      <td>...</td>\n",
       "      <td>...</td>\n",
       "      <td>...</td>\n",
       "      <td>...</td>\n",
       "      <td>...</td>\n",
       "    </tr>\n",
       "    <tr>\n",
       "      <th>32557</th>\n",
       "      <td>27</td>\n",
       "      <td>0</td>\n",
       "      <td>0</td>\n",
       "      <td>38</td>\n",
       "      <td>&lt;=50K</td>\n",
       "      <td>0</td>\n",
       "      <td>0</td>\n",
       "      <td>0</td>\n",
       "      <td>0</td>\n",
       "      <td>1</td>\n",
       "      <td>...</td>\n",
       "      <td>0</td>\n",
       "      <td>0</td>\n",
       "      <td>0</td>\n",
       "      <td>0</td>\n",
       "      <td>0</td>\n",
       "      <td>0</td>\n",
       "      <td>1</td>\n",
       "      <td>0</td>\n",
       "      <td>0</td>\n",
       "      <td>0</td>\n",
       "    </tr>\n",
       "    <tr>\n",
       "      <th>32558</th>\n",
       "      <td>40</td>\n",
       "      <td>0</td>\n",
       "      <td>0</td>\n",
       "      <td>40</td>\n",
       "      <td>&gt;50K</td>\n",
       "      <td>0</td>\n",
       "      <td>0</td>\n",
       "      <td>0</td>\n",
       "      <td>0</td>\n",
       "      <td>1</td>\n",
       "      <td>...</td>\n",
       "      <td>0</td>\n",
       "      <td>0</td>\n",
       "      <td>0</td>\n",
       "      <td>0</td>\n",
       "      <td>0</td>\n",
       "      <td>0</td>\n",
       "      <td>1</td>\n",
       "      <td>0</td>\n",
       "      <td>0</td>\n",
       "      <td>0</td>\n",
       "    </tr>\n",
       "    <tr>\n",
       "      <th>32559</th>\n",
       "      <td>58</td>\n",
       "      <td>0</td>\n",
       "      <td>0</td>\n",
       "      <td>40</td>\n",
       "      <td>&lt;=50K</td>\n",
       "      <td>0</td>\n",
       "      <td>0</td>\n",
       "      <td>0</td>\n",
       "      <td>0</td>\n",
       "      <td>1</td>\n",
       "      <td>...</td>\n",
       "      <td>0</td>\n",
       "      <td>0</td>\n",
       "      <td>0</td>\n",
       "      <td>0</td>\n",
       "      <td>0</td>\n",
       "      <td>0</td>\n",
       "      <td>1</td>\n",
       "      <td>0</td>\n",
       "      <td>0</td>\n",
       "      <td>0</td>\n",
       "    </tr>\n",
       "    <tr>\n",
       "      <th>32560</th>\n",
       "      <td>22</td>\n",
       "      <td>0</td>\n",
       "      <td>0</td>\n",
       "      <td>20</td>\n",
       "      <td>&lt;=50K</td>\n",
       "      <td>0</td>\n",
       "      <td>0</td>\n",
       "      <td>0</td>\n",
       "      <td>0</td>\n",
       "      <td>1</td>\n",
       "      <td>...</td>\n",
       "      <td>0</td>\n",
       "      <td>0</td>\n",
       "      <td>0</td>\n",
       "      <td>0</td>\n",
       "      <td>0</td>\n",
       "      <td>0</td>\n",
       "      <td>1</td>\n",
       "      <td>0</td>\n",
       "      <td>0</td>\n",
       "      <td>0</td>\n",
       "    </tr>\n",
       "    <tr>\n",
       "      <th>32561</th>\n",
       "      <td>52</td>\n",
       "      <td>15024</td>\n",
       "      <td>0</td>\n",
       "      <td>40</td>\n",
       "      <td>&gt;50K</td>\n",
       "      <td>0</td>\n",
       "      <td>0</td>\n",
       "      <td>0</td>\n",
       "      <td>0</td>\n",
       "      <td>0</td>\n",
       "      <td>...</td>\n",
       "      <td>0</td>\n",
       "      <td>0</td>\n",
       "      <td>0</td>\n",
       "      <td>0</td>\n",
       "      <td>0</td>\n",
       "      <td>0</td>\n",
       "      <td>1</td>\n",
       "      <td>0</td>\n",
       "      <td>0</td>\n",
       "      <td>0</td>\n",
       "    </tr>\n",
       "  </tbody>\n",
       "</table>\n",
       "<p>32562 rows × 115 columns</p>\n",
       "</div>"
      ],
      "text/plain": [
       "       age  capital-gain  capital-loss  hours-per-week  income  workclass_ ?  \\\n",
       "0        0            10            11              12      14             0   \n",
       "1       39          2174             0              40   <=50K             0   \n",
       "2       50             0             0              13   <=50K             0   \n",
       "3       38             0             0              40   <=50K             0   \n",
       "4       53             0             0              40   <=50K             0   \n",
       "...    ...           ...           ...             ...     ...           ...   \n",
       "32557   27             0             0              38   <=50K             0   \n",
       "32558   40             0             0              40    >50K             0   \n",
       "32559   58             0             0              40   <=50K             0   \n",
       "32560   22             0             0              20   <=50K             0   \n",
       "32561   52         15024             0              40    >50K             0   \n",
       "\n",
       "       workclass_ Federal-gov  workclass_ Local-gov  workclass_ Never-worked  \\\n",
       "0                           0                     0                        0   \n",
       "1                           0                     0                        0   \n",
       "2                           0                     0                        0   \n",
       "3                           0                     0                        0   \n",
       "4                           0                     0                        0   \n",
       "...                       ...                   ...                      ...   \n",
       "32557                       0                     0                        0   \n",
       "32558                       0                     0                        0   \n",
       "32559                       0                     0                        0   \n",
       "32560                       0                     0                        0   \n",
       "32561                       0                     0                        0   \n",
       "\n",
       "       workclass_ Private  ...  native-country_ Puerto-Rico  \\\n",
       "0                       0  ...                            0   \n",
       "1                       0  ...                            0   \n",
       "2                       0  ...                            0   \n",
       "3                       1  ...                            0   \n",
       "4                       1  ...                            0   \n",
       "...                   ...  ...                          ...   \n",
       "32557                   1  ...                            0   \n",
       "32558                   1  ...                            0   \n",
       "32559                   1  ...                            0   \n",
       "32560                   1  ...                            0   \n",
       "32561                   0  ...                            0   \n",
       "\n",
       "       native-country_ Scotland  native-country_ South  \\\n",
       "0                             0                      0   \n",
       "1                             0                      0   \n",
       "2                             0                      0   \n",
       "3                             0                      0   \n",
       "4                             0                      0   \n",
       "...                         ...                    ...   \n",
       "32557                         0                      0   \n",
       "32558                         0                      0   \n",
       "32559                         0                      0   \n",
       "32560                         0                      0   \n",
       "32561                         0                      0   \n",
       "\n",
       "       native-country_ Taiwan  native-country_ Thailand  \\\n",
       "0                           0                         0   \n",
       "1                           0                         0   \n",
       "2                           0                         0   \n",
       "3                           0                         0   \n",
       "4                           0                         0   \n",
       "...                       ...                       ...   \n",
       "32557                       0                         0   \n",
       "32558                       0                         0   \n",
       "32559                       0                         0   \n",
       "32560                       0                         0   \n",
       "32561                       0                         0   \n",
       "\n",
       "       native-country_ Trinadad&Tobago  native-country_ United-States  \\\n",
       "0                                    0                              0   \n",
       "1                                    0                              1   \n",
       "2                                    0                              1   \n",
       "3                                    0                              1   \n",
       "4                                    0                              1   \n",
       "...                                ...                            ...   \n",
       "32557                                0                              1   \n",
       "32558                                0                              1   \n",
       "32559                                0                              1   \n",
       "32560                                0                              1   \n",
       "32561                                0                              1   \n",
       "\n",
       "       native-country_ Vietnam  native-country_ Yugoslavia  native-country_13  \n",
       "0                            0                           0                  1  \n",
       "1                            0                           0                  0  \n",
       "2                            0                           0                  0  \n",
       "3                            0                           0                  0  \n",
       "4                            0                           0                  0  \n",
       "...                        ...                         ...                ...  \n",
       "32557                        0                           0                  0  \n",
       "32558                        0                           0                  0  \n",
       "32559                        0                           0                  0  \n",
       "32560                        0                           0                  0  \n",
       "32561                        0                           0                  0  \n",
       "\n",
       "[32562 rows x 115 columns]"
      ]
     },
     "execution_count": 244,
     "metadata": {},
     "output_type": "execute_result"
    }
   ],
   "source": [
    "df"
   ]
  },
  {
   "cell_type": "code",
   "execution_count": 243,
   "id": "542b4a5f-7571-4c0a-94cf-4cf5ca33a231",
   "metadata": {},
   "outputs": [
    {
     "name": "stdout",
     "output_type": "stream",
     "text": [
      "[array([0.98666545, 0.92235404, 0.74844032, 0.30762444, 0.14215939,\n",
      "       0.32954875, 0.39320709, 0.11394487, 0.29471626, 0.99449474,\n",
      "       0.56984754, 0.79720399, 0.61837212, 0.15779359, 0.27300634,\n",
      "       0.25333823, 0.16375434, 0.63209366, 0.40619807, 0.50837274,\n",
      "       0.39967202, 0.84398949, 0.48536888, 0.89917827, 0.82283927,\n",
      "       0.39578988, 0.31830912, 0.29463689, 0.45285185, 0.37574605,\n",
      "       0.81984636, 0.76724713, 0.07631376, 0.80497819, 0.49426237,\n",
      "       0.47967667, 0.89424878, 0.52317028, 0.36771479, 0.78694286,\n",
      "       0.41090328, 0.2301084 , 0.99117481, 0.91485272, 0.59167432,\n",
      "       0.45226309, 0.19431879, 0.32218755, 0.76428286, 0.54744884,\n",
      "       0.48827298, 0.72875218, 0.36866756, 0.2410628 , 0.97800672,\n",
      "       0.85613642, 0.2316033 , 0.22494902, 0.91816818, 0.18150121,\n",
      "       0.94421085, 0.14161924, 0.09815354, 0.9216622 , 0.42415403,\n",
      "       0.43438328, 0.89207821, 0.33384911, 0.87655923, 0.97884029,\n",
      "       0.10649433, 0.92860091, 0.53324836, 0.83450957, 0.6360205 ,\n",
      "       0.76630304, 0.30200742, 0.59669326, 0.91289747, 0.28791948,\n",
      "       0.75934219, 0.58723711, 0.31554904, 0.58786686, 0.97402041,\n",
      "       0.74683562, 0.96654347, 0.73979599, 0.3167027 , 0.72648901,\n",
      "       0.91271318, 0.71116748, 0.10905987, 0.93442732, 0.36793967,\n",
      "       0.93622959, 0.29460901, 0.87206461, 0.65313808, 0.80876601,\n",
      "       0.91059858, 0.82982606, 0.23121904, 0.10898942, 0.22944873,\n",
      "       0.02425326, 0.26082134, 0.91233617, 0.20768587, 0.90380746,\n",
      "       0.52300159, 0.79189213, 0.16263743, 0.59172292])]\n"
     ]
    },
    {
     "ename": "AttributeError",
     "evalue": "'numpy.ndarray' object has no attribute 'label'",
     "output_type": "error",
     "traceback": [
      "\u001b[1;31m---------------------------------------------------------------------------\u001b[0m",
      "\u001b[1;31mAttributeError\u001b[0m                            Traceback (most recent call last)",
      "Cell \u001b[1;32mIn [243], line 12\u001b[0m\n\u001b[0;32m      9\u001b[0m ub \u001b[38;5;241m=\u001b[39m np\u001b[38;5;241m.\u001b[39mones(X\u001b[38;5;241m.\u001b[39mshape[\u001b[38;5;241m1\u001b[39m])\n\u001b[0;32m     11\u001b[0m \u001b[38;5;66;03m# Use the PSO algorithm to optimize the test case\u001b[39;00m\n\u001b[1;32m---> 12\u001b[0m optimal_test_case \u001b[38;5;241m=\u001b[39m \u001b[43moptimize_test_case\u001b[49m\u001b[43m(\u001b[49m\u001b[43mmodel\u001b[49m\u001b[43m,\u001b[49m\u001b[43m \u001b[49m\u001b[43msensitive_attrs_idx\u001b[49m\u001b[43m,\u001b[49m\u001b[43m \u001b[49m\u001b[43mlb\u001b[49m\u001b[43m,\u001b[49m\u001b[43m \u001b[49m\u001b[43mub\u001b[49m\u001b[43m,\u001b[49m\u001b[43m \u001b[49m\u001b[43mswarmsize\u001b[49m\u001b[38;5;241;43m=\u001b[39;49m\u001b[38;5;241;43m50\u001b[39;49m\u001b[43m,\u001b[49m\u001b[43m \u001b[49m\u001b[43mmaxiter\u001b[49m\u001b[38;5;241;43m=\u001b[39;49m\u001b[38;5;241;43m50\u001b[39;49m\u001b[43m)\u001b[49m\n\u001b[0;32m     14\u001b[0m \u001b[38;5;66;03m# print(optimal_test_case)\u001b[39;00m\n\u001b[0;32m     15\u001b[0m \n\u001b[0;32m     16\u001b[0m \u001b[38;5;66;03m# Evaluate the fairness of the model on the optimal test case\u001b[39;00m\n\u001b[0;32m     17\u001b[0m fairness_score \u001b[38;5;241m=\u001b[39m evaluate_fairness(optimal_test_case, model, sensitive_attrs_idx)\n",
      "Cell \u001b[1;32mIn [241], line 88\u001b[0m, in \u001b[0;36moptimize_test_case\u001b[1;34m(model, sensitive_attrs, lb, ub, ieqcons, f_ieqcons, args, kwargs, swarmsize, omega, phip, phig, maxiter, minstep, minfunc, debug)\u001b[0m\n\u001b[0;32m     85\u001b[0m     \u001b[38;5;28;01mreturn\u001b[39;00m \u001b[38;5;241m-\u001b[39mfairness_score\n\u001b[0;32m     87\u001b[0m \u001b[38;5;66;03m# Run the PSO algorithm to optimize the test case\u001b[39;00m\n\u001b[1;32m---> 88\u001b[0m xopt, fopt \u001b[38;5;241m=\u001b[39m \u001b[43mpso\u001b[49m\u001b[43m(\u001b[49m\u001b[43mobjective_function\u001b[49m\u001b[43m,\u001b[49m\u001b[43m \u001b[49m\u001b[43mlb\u001b[49m\u001b[43m,\u001b[49m\u001b[43m \u001b[49m\u001b[43mub\u001b[49m\u001b[43m,\u001b[49m\u001b[43m \u001b[49m\u001b[43mieqcons\u001b[49m\u001b[38;5;241;43m=\u001b[39;49m\u001b[43mieqcons\u001b[49m\u001b[43m,\u001b[49m\u001b[43m \u001b[49m\u001b[43mf_ieqcons\u001b[49m\u001b[38;5;241;43m=\u001b[39;49m\u001b[43mf_ieqcons\u001b[49m\u001b[43m,\u001b[49m\u001b[43m \u001b[49m\u001b[43margs\u001b[49m\u001b[38;5;241;43m=\u001b[39;49m\u001b[43margs\u001b[49m\u001b[43m,\u001b[49m\u001b[43m \u001b[49m\u001b[43mkwargs\u001b[49m\u001b[38;5;241;43m=\u001b[39;49m\u001b[43mkwargs\u001b[49m\u001b[43m,\u001b[49m\u001b[43m \u001b[49m\u001b[43mswarmsize\u001b[49m\u001b[38;5;241;43m=\u001b[39;49m\u001b[43mswarmsize\u001b[49m\u001b[43m,\u001b[49m\u001b[43m \u001b[49m\u001b[43momega\u001b[49m\u001b[38;5;241;43m=\u001b[39;49m\u001b[43momega\u001b[49m\u001b[43m,\u001b[49m\u001b[43m \u001b[49m\u001b[43mphip\u001b[49m\u001b[38;5;241;43m=\u001b[39;49m\u001b[43mphip\u001b[49m\u001b[43m,\u001b[49m\u001b[43m \u001b[49m\u001b[43mphig\u001b[49m\u001b[38;5;241;43m=\u001b[39;49m\u001b[43mphig\u001b[49m\u001b[43m,\u001b[49m\u001b[43m \u001b[49m\u001b[43mmaxiter\u001b[49m\u001b[38;5;241;43m=\u001b[39;49m\u001b[43mmaxiter\u001b[49m\u001b[43m,\u001b[49m\u001b[43m \u001b[49m\u001b[43mminstep\u001b[49m\u001b[38;5;241;43m=\u001b[39;49m\u001b[43mminstep\u001b[49m\u001b[43m,\u001b[49m\u001b[43m \u001b[49m\u001b[43mminfunc\u001b[49m\u001b[38;5;241;43m=\u001b[39;49m\u001b[43mminfunc\u001b[49m\u001b[43m,\u001b[49m\u001b[43m \u001b[49m\u001b[43mdebug\u001b[49m\u001b[38;5;241;43m=\u001b[39;49m\u001b[43mdebug\u001b[49m\u001b[43m)\u001b[49m\n\u001b[0;32m     90\u001b[0m \u001b[38;5;66;03m# Return the optimal test case\u001b[39;00m\n\u001b[0;32m     91\u001b[0m \u001b[38;5;28;01mreturn\u001b[39;00m xopt\n",
      "File \u001b[1;32m~\\Anaconda3\\lib\\site-packages\\pyswarm\\pso.py:111\u001b[0m, in \u001b[0;36mpso\u001b[1;34m(func, lb, ub, ieqcons, f_ieqcons, args, kwargs, swarmsize, omega, phip, phig, maxiter, minstep, minfunc, debug)\u001b[0m\n\u001b[0;32m    108\u001b[0m p[i, :] \u001b[38;5;241m=\u001b[39m x[i, :]\n\u001b[0;32m    110\u001b[0m \u001b[38;5;66;03m# Calculate the objective's value at the current particle's\u001b[39;00m\n\u001b[1;32m--> 111\u001b[0m fp[i] \u001b[38;5;241m=\u001b[39m \u001b[43mobj\u001b[49m\u001b[43m(\u001b[49m\u001b[43mp\u001b[49m\u001b[43m[\u001b[49m\u001b[43mi\u001b[49m\u001b[43m,\u001b[49m\u001b[43m \u001b[49m\u001b[43m:\u001b[49m\u001b[43m]\u001b[49m\u001b[43m)\u001b[49m\n\u001b[0;32m    113\u001b[0m \u001b[38;5;66;03m# At the start, there may not be any feasible starting point, so just\u001b[39;00m\n\u001b[0;32m    114\u001b[0m \u001b[38;5;66;03m# give it a temporary \"best\" point since it's likely to change\u001b[39;00m\n\u001b[0;32m    115\u001b[0m \u001b[38;5;28;01mif\u001b[39;00m i\u001b[38;5;241m==\u001b[39m\u001b[38;5;241m0\u001b[39m:\n",
      "File \u001b[1;32m~\\Anaconda3\\lib\\site-packages\\pyswarm\\pso.py:74\u001b[0m, in \u001b[0;36mpso.<locals>.<lambda>\u001b[1;34m(x)\u001b[0m\n\u001b[0;32m     71\u001b[0m vlow \u001b[38;5;241m=\u001b[39m \u001b[38;5;241m-\u001b[39mvhigh\n\u001b[0;32m     73\u001b[0m \u001b[38;5;66;03m# Check for constraint function(s) #########################################\u001b[39;00m\n\u001b[1;32m---> 74\u001b[0m obj \u001b[38;5;241m=\u001b[39m \u001b[38;5;28;01mlambda\u001b[39;00m x: func(x, \u001b[38;5;241m*\u001b[39margs, \u001b[38;5;241m*\u001b[39m\u001b[38;5;241m*\u001b[39mkwargs)\n\u001b[0;32m     75\u001b[0m \u001b[38;5;28;01mif\u001b[39;00m f_ieqcons \u001b[38;5;129;01mis\u001b[39;00m \u001b[38;5;28;01mNone\u001b[39;00m:\n\u001b[0;32m     76\u001b[0m     \u001b[38;5;28;01mif\u001b[39;00m \u001b[38;5;129;01mnot\u001b[39;00m \u001b[38;5;28mlen\u001b[39m(ieqcons):\n",
      "Cell \u001b[1;32mIn [241], line 80\u001b[0m, in \u001b[0;36moptimize_test_case.<locals>.objective_function\u001b[1;34m(test_case, *args)\u001b[0m\n\u001b[0;32m     70\u001b[0m \u001b[38;5;124;03m\"\"\"Evaluate the fairness of a machine learning model on a test case.\u001b[39;00m\n\u001b[0;32m     71\u001b[0m \u001b[38;5;124;03m\u001b[39;00m\n\u001b[0;32m     72\u001b[0m \u001b[38;5;124;03mArgs:\u001b[39;00m\n\u001b[1;32m   (...)\u001b[0m\n\u001b[0;32m     77\u001b[0m \u001b[38;5;124;03m    float: The fairness score of the model on the test case.\u001b[39;00m\n\u001b[0;32m     78\u001b[0m \u001b[38;5;124;03m\"\"\"\u001b[39;00m\n\u001b[0;32m     79\u001b[0m \u001b[38;5;66;03m# Evaluate the fairness of the model on the test case\u001b[39;00m\n\u001b[1;32m---> 80\u001b[0m fairness_score \u001b[38;5;241m=\u001b[39m \u001b[43mevaluate_fairness\u001b[49m\u001b[43m(\u001b[49m\u001b[43mtest_case\u001b[49m\u001b[43m,\u001b[49m\u001b[43m \u001b[49m\u001b[43mmodel\u001b[49m\u001b[43m,\u001b[49m\u001b[43m \u001b[49m\u001b[43msensitive_attrs\u001b[49m\u001b[43m)\u001b[49m\n\u001b[0;32m     82\u001b[0m \u001b[38;5;28mprint\u001b[39m(fairness_score)\n\u001b[0;32m     84\u001b[0m \u001b[38;5;66;03m# Return the negative of the fairness score, as we want to maximize fairness\u001b[39;00m\n",
      "Cell \u001b[1;32mIn [241], line 36\u001b[0m, in \u001b[0;36mevaluate_fairness\u001b[1;34m(test_case, model, sensitive_attrs, columns)\u001b[0m\n\u001b[0;32m     34\u001b[0m subgroup_fprs \u001b[38;5;241m=\u001b[39m []\n\u001b[0;32m     35\u001b[0m \u001b[38;5;28;01mfor\u001b[39;00m attr \u001b[38;5;129;01min\u001b[39;00m sensitive_attrs:\n\u001b[1;32m---> 36\u001b[0m     subgroup_fprs\u001b[38;5;241m.\u001b[39mappend(false_positive_rate(\u001b[43mprediction\u001b[49m\u001b[38;5;241;43m.\u001b[39;49m\u001b[43mlabel\u001b[49m(), test_case[\u001b[38;5;241m0\u001b[39m][attr]))\n\u001b[0;32m     38\u001b[0m \u001b[38;5;66;03m# Return the mean false positive rate as the fairness score\u001b[39;00m\n\u001b[0;32m     39\u001b[0m \u001b[38;5;28;01mreturn\u001b[39;00m np\u001b[38;5;241m.\u001b[39mmean(subgroup_fprs)\n",
      "\u001b[1;31mAttributeError\u001b[0m: 'numpy.ndarray' object has no attribute 'label'"
     ]
    }
   ],
   "source": [
    "# Define the sensitive attributes to consider\n",
    "# print(df.columns.values)\n",
    "df\n",
    "sensitive_attrs = ['sex_ Female', 'sex_ Male', 'race_ Amer-Indian-Eskimo', 'race_ Asian-Pac-Islander', 'race_ Black',\n",
    "                   'race_ Other', 'race_ White']\n",
    "sensitive_attrs_idx = [df.columns.get_loc(col) for col in sensitive_attrs]\n",
    "\n",
    "# Define the search space for the test case\n",
    "lb = np.zeros(X.shape[1])\n",
    "ub = np.ones(X.shape[1])\n",
    "\n",
    "# Use the PSO algorithm to optimize the test case\n",
    "optimal_test_case = optimize_test_case(model, sensitive_attrs_idx, lb, ub, swarmsize=50, maxiter=50)\n",
    "\n",
    "# print(optimal_test_case)\n",
    "\n",
    "# Evaluate the fairness of the model on the optimal test case\n",
    "fairness_score = evaluate_fairness(optimal_test_case, model, sensitive_attrs_idx)\n",
    "print('Fairness score:', fairness_score)"
   ]
  },
  {
   "cell_type": "code",
   "execution_count": 179,
   "id": "44de8971-587b-4d8e-a31b-5e962f7acb7f",
   "metadata": {},
   "outputs": [],
   "source": [
    "s = pd.Series(list('abca'))"
   ]
  },
  {
   "cell_type": "code",
   "execution_count": 181,
   "id": "d60cfbb9-21ed-41d2-9e92-8958f318a75b",
   "metadata": {},
   "outputs": [
    {
     "name": "stdout",
     "output_type": "stream",
     "text": [
      "0    a\n",
      "1    b\n",
      "2    c\n",
      "3    a\n",
      "dtype: object\n"
     ]
    }
   ],
   "source": [
    "print(s)"
   ]
  },
  {
   "cell_type": "code",
   "execution_count": 182,
   "id": "a1064310-a473-4261-a37e-7af7048d689c",
   "metadata": {},
   "outputs": [
    {
     "data": {
      "text/html": [
       "<div>\n",
       "<style scoped>\n",
       "    .dataframe tbody tr th:only-of-type {\n",
       "        vertical-align: middle;\n",
       "    }\n",
       "\n",
       "    .dataframe tbody tr th {\n",
       "        vertical-align: top;\n",
       "    }\n",
       "\n",
       "    .dataframe thead th {\n",
       "        text-align: right;\n",
       "    }\n",
       "</style>\n",
       "<table border=\"1\" class=\"dataframe\">\n",
       "  <thead>\n",
       "    <tr style=\"text-align: right;\">\n",
       "      <th></th>\n",
       "      <th>a</th>\n",
       "      <th>b</th>\n",
       "      <th>c</th>\n",
       "    </tr>\n",
       "  </thead>\n",
       "  <tbody>\n",
       "    <tr>\n",
       "      <th>0</th>\n",
       "      <td>1</td>\n",
       "      <td>0</td>\n",
       "      <td>0</td>\n",
       "    </tr>\n",
       "    <tr>\n",
       "      <th>1</th>\n",
       "      <td>0</td>\n",
       "      <td>1</td>\n",
       "      <td>0</td>\n",
       "    </tr>\n",
       "    <tr>\n",
       "      <th>2</th>\n",
       "      <td>0</td>\n",
       "      <td>0</td>\n",
       "      <td>1</td>\n",
       "    </tr>\n",
       "    <tr>\n",
       "      <th>3</th>\n",
       "      <td>1</td>\n",
       "      <td>0</td>\n",
       "      <td>0</td>\n",
       "    </tr>\n",
       "  </tbody>\n",
       "</table>\n",
       "</div>"
      ],
      "text/plain": [
       "   a  b  c\n",
       "0  1  0  0\n",
       "1  0  1  0\n",
       "2  0  0  1\n",
       "3  1  0  0"
      ]
     },
     "execution_count": 182,
     "metadata": {},
     "output_type": "execute_result"
    }
   ],
   "source": [
    "pd.get_dummies(s)"
   ]
  },
  {
   "cell_type": "code",
   "execution_count": 249,
   "id": "6ceed220-c61d-48d5-8f7a-7cd14967d5ee",
   "metadata": {},
   "outputs": [
    {
     "name": "stdout",
     "output_type": "stream",
     "text": [
      "Requirement already satisfied: aif360[Reductions] in c:\\users\\hussaini_21000736\\anaconda3\\lib\\site-packages (0.5.0)\n",
      "Requirement already satisfied: pandas>=0.24.0 in c:\\users\\hussaini_21000736\\anaconda3\\lib\\site-packages (from aif360[Reductions]) (1.4.4)\n",
      "Requirement already satisfied: scikit-learn>=1.0 in c:\\users\\hussaini_21000736\\anaconda3\\lib\\site-packages (from aif360[Reductions]) (1.0.2)\n",
      "Requirement already satisfied: numpy>=1.16 in c:\\users\\hussaini_21000736\\anaconda3\\lib\\site-packages (from aif360[Reductions]) (1.22.4)\n",
      "Requirement already satisfied: matplotlib in c:\\users\\hussaini_21000736\\anaconda3\\lib\\site-packages (from aif360[Reductions]) (3.5.3)\n",
      "Requirement already satisfied: scipy>=1.2.0 in c:\\users\\hussaini_21000736\\anaconda3\\lib\\site-packages (from aif360[Reductions]) (1.9.3)\n",
      "Collecting fairlearn~=0.7\n",
      "  Downloading fairlearn-0.8.0-py3-none-any.whl (235 kB)\n",
      "     -------------------------------------- 235.0/235.0 kB 4.8 MB/s eta 0:00:00\n",
      "Requirement already satisfied: pytz>=2020.1 in c:\\users\\hussaini_21000736\\anaconda3\\lib\\site-packages (from pandas>=0.24.0->aif360[Reductions]) (2022.1)\n",
      "Requirement already satisfied: python-dateutil>=2.8.1 in c:\\users\\hussaini_21000736\\anaconda3\\lib\\site-packages (from pandas>=0.24.0->aif360[Reductions]) (2.8.2)\n",
      "Requirement already satisfied: threadpoolctl>=2.0.0 in c:\\users\\hussaini_21000736\\anaconda3\\lib\\site-packages (from scikit-learn>=1.0->aif360[Reductions]) (2.2.0)\n",
      "Requirement already satisfied: joblib>=0.11 in c:\\users\\hussaini_21000736\\anaconda3\\lib\\site-packages (from scikit-learn>=1.0->aif360[Reductions]) (1.2.0)\n",
      "Requirement already satisfied: fonttools>=4.22.0 in c:\\users\\hussaini_21000736\\anaconda3\\lib\\site-packages (from matplotlib->aif360[Reductions]) (4.25.0)\n",
      "Requirement already satisfied: pillow>=6.2.0 in c:\\users\\hussaini_21000736\\anaconda3\\lib\\site-packages (from matplotlib->aif360[Reductions]) (9.2.0)\n",
      "Requirement already satisfied: pyparsing>=2.2.1 in c:\\users\\hussaini_21000736\\anaconda3\\lib\\site-packages (from matplotlib->aif360[Reductions]) (3.0.9)\n",
      "Requirement already satisfied: packaging>=20.0 in c:\\users\\hussaini_21000736\\anaconda3\\lib\\site-packages (from matplotlib->aif360[Reductions]) (21.3)\n",
      "Requirement already satisfied: kiwisolver>=1.0.1 in c:\\users\\hussaini_21000736\\anaconda3\\lib\\site-packages (from matplotlib->aif360[Reductions]) (1.4.2)\n",
      "Requirement already satisfied: cycler>=0.10 in c:\\users\\hussaini_21000736\\anaconda3\\lib\\site-packages (from matplotlib->aif360[Reductions]) (0.11.0)\n",
      "Requirement already satisfied: six>=1.5 in c:\\users\\hussaini_21000736\\anaconda3\\lib\\site-packages (from python-dateutil>=2.8.1->pandas>=0.24.0->aif360[Reductions]) (1.16.0)\n",
      "Installing collected packages: fairlearn\n",
      "Successfully installed fairlearn-0.8.0\n"
     ]
    }
   ],
   "source": [
    "!pip install aif360[Reductions]"
   ]
  },
  {
   "cell_type": "code",
   "execution_count": 250,
   "id": "3a081e81-fe46-4ff5-987b-795638e65a4a",
   "metadata": {},
   "outputs": [
    {
     "ename": "ModuleNotFoundError",
     "evalue": "No module named 'aif360.algorithms.preprocessing.counterfactual_preprocessor'",
     "output_type": "error",
     "traceback": [
      "\u001b[1;31m---------------------------------------------------------------------------\u001b[0m",
      "\u001b[1;31mModuleNotFoundError\u001b[0m                       Traceback (most recent call last)",
      "Cell \u001b[1;32mIn [250], line 6\u001b[0m\n\u001b[0;32m      4\u001b[0m \u001b[38;5;28;01mfrom\u001b[39;00m \u001b[38;5;21;01msklearn\u001b[39;00m\u001b[38;5;21;01m.\u001b[39;00m\u001b[38;5;21;01mpipeline\u001b[39;00m \u001b[38;5;28;01mimport\u001b[39;00m Pipeline\n\u001b[0;32m      5\u001b[0m \u001b[38;5;28;01mfrom\u001b[39;00m \u001b[38;5;21;01maif360\u001b[39;00m\u001b[38;5;21;01m.\u001b[39;00m\u001b[38;5;21;01mdatasets\u001b[39;00m \u001b[38;5;28;01mimport\u001b[39;00m BinaryLabelDataset\n\u001b[1;32m----> 6\u001b[0m \u001b[38;5;28;01mfrom\u001b[39;00m \u001b[38;5;21;01maif360\u001b[39;00m\u001b[38;5;21;01m.\u001b[39;00m\u001b[38;5;21;01malgorithms\u001b[39;00m\u001b[38;5;21;01m.\u001b[39;00m\u001b[38;5;21;01mpreprocessing\u001b[39;00m\u001b[38;5;21;01m.\u001b[39;00m\u001b[38;5;21;01mcounterfactual_preprocessor\u001b[39;00m \u001b[38;5;28;01mimport\u001b[39;00m CounterfactualPreprocessor\n\u001b[0;32m      8\u001b[0m \u001b[38;5;66;03m# Load the dataset and split into training and test sets\u001b[39;00m\n\u001b[0;32m      9\u001b[0m X, y \u001b[38;5;241m=\u001b[39m load_dataset()\n",
      "\u001b[1;31mModuleNotFoundError\u001b[0m: No module named 'aif360.algorithms.preprocessing.counterfactual_preprocessor'"
     ]
    }
   ],
   "source": [
    "import numpy as np\n",
    "from sklearn.ensemble import RandomForestClassifier\n",
    "from sklearn.preprocessing import StandardScaler\n",
    "from sklearn.pipeline import Pipeline\n",
    "from aif360.datasets import BinaryLabelDataset\n",
    "from aif360.algorithms.preprocessing.counterfactual_preprocessor import CounterfactualPreprocessor\n",
    "\n",
    "# Load the dataset and split into training and test sets\n",
    "X, y = load_dataset()\n",
    "X_train, X_test, y_train, y_test = train_test_split(X, y, test_size=0.2, random_state=42)\n",
    "\n",
    "# Define the sensitive attributes to consider\n",
    "sensitive_attrs = ['sex', 'race']\n",
    "\n",
    "# Convert the data to a BinaryLabelDataset\n",
    "dataset = BinaryLabelDataset(df=pd.DataFrame(X_train, columns=X.columns), label_names=['label'],\n",
    "                             protected_attribute_names=sensitive_attrs)\n",
    "\n",
    "# Create the counterfactual data generator\n",
    "counterfactual_generator = CounterfactualPreprocessor(sensitive_attrs=sensitive_attrs)\n",
    "\n",
    "# Generate synthetic counterfactual data points\n",
    "cf_dataset = counterfactual_generator.fit_transform(dataset)\n",
    "\n",
    "# Combine the original and counterfactual data into a single dataset\n",
    "X_cf = np.concatenate([dataset.features, cf_dataset.features])\n",
    "y_cf = np.concatenate([dataset.labels.ravel(), cf_dataset.labels.ravel()])\n",
    "\n",
    "# Define the model pipeline\n",
    "model = Pipeline([\n",
    "    ('scaler', StandardScaler()),\n",
    "    ('classifier', RandomForestClassifier(n_estimators=100))\n",
    "])\n",
    "\n",
    "# Fit the model on the augmented data\n",
    "model.fit(X_cf, y_cf)\n",
    "\n",
    "# Evaluate the model's fairness on the test set\n",
    "fairness_metric = compute_fairness_metric(X_test, y_test, model, sensitive_attrs)\n",
    "print(f'Fairness metric: {fairness_metric:.3f}')\n"
   ]
  },
  {
   "cell_type": "code",
   "execution_count": 253,
   "id": "1cb06b4f-0f65-4880-9642-1d279135882e",
   "metadata": {},
   "outputs": [
    {
     "name": "stdout",
     "output_type": "stream",
     "text": [
      "Requirement already satisfied: rulefit in c:\\users\\hussaini_21000736\\anaconda3\\lib\\site-packages (0.3.1)\n",
      "Requirement already satisfied: pandas>=0.24.1 in c:\\users\\hussaini_21000736\\anaconda3\\lib\\site-packages (from rulefit) (1.4.4)\n",
      "Requirement already satisfied: numpy>=1.16.1 in c:\\users\\hussaini_21000736\\anaconda3\\lib\\site-packages (from rulefit) (1.22.4)\n",
      "Requirement already satisfied: scikit-learn>=0.20.2 in c:\\users\\hussaini_21000736\\anaconda3\\lib\\site-packages (from rulefit) (1.0.2)\n",
      "Requirement already satisfied: pytz>=2020.1 in c:\\users\\hussaini_21000736\\anaconda3\\lib\\site-packages (from pandas>=0.24.1->rulefit) (2022.1)\n",
      "Requirement already satisfied: python-dateutil>=2.8.1 in c:\\users\\hussaini_21000736\\anaconda3\\lib\\site-packages (from pandas>=0.24.1->rulefit) (2.8.2)\n",
      "Requirement already satisfied: threadpoolctl>=2.0.0 in c:\\users\\hussaini_21000736\\anaconda3\\lib\\site-packages (from scikit-learn>=0.20.2->rulefit) (2.2.0)\n",
      "Requirement already satisfied: scipy>=1.1.0 in c:\\users\\hussaini_21000736\\anaconda3\\lib\\site-packages (from scikit-learn>=0.20.2->rulefit) (1.9.3)\n",
      "Requirement already satisfied: joblib>=0.11 in c:\\users\\hussaini_21000736\\anaconda3\\lib\\site-packages (from scikit-learn>=0.20.2->rulefit) (1.2.0)\n",
      "Requirement already satisfied: six>=1.5 in c:\\users\\hussaini_21000736\\anaconda3\\lib\\site-packages (from python-dateutil>=2.8.1->pandas>=0.24.1->rulefit) (1.16.0)\n"
     ]
    }
   ],
   "source": [
    "!pip install rulefit"
   ]
  },
  {
   "cell_type": "code",
   "execution_count": 255,
   "id": "dcc2a9ce-9775-4cd0-843c-4f1af3869ff9",
   "metadata": {},
   "outputs": [
    {
     "ename": "AttributeError",
     "evalue": "'RuleFit' object has no attribute 'coef_'",
     "output_type": "error",
     "traceback": [
      "\u001b[1;31m---------------------------------------------------------------------------\u001b[0m",
      "\u001b[1;31mAttributeError\u001b[0m                            Traceback (most recent call last)",
      "Cell \u001b[1;32mIn [256], line 32\u001b[0m\n\u001b[0;32m     29\u001b[0m rf \u001b[38;5;241m=\u001b[39m RuleFit(clf)\n\u001b[0;32m     31\u001b[0m \u001b[38;5;66;03m# Extract the rules from the rule set\u001b[39;00m\n\u001b[1;32m---> 32\u001b[0m rules \u001b[38;5;241m=\u001b[39m \u001b[43mrf\u001b[49m\u001b[38;5;241;43m.\u001b[39;49m\u001b[43mget_rules\u001b[49m\u001b[43m(\u001b[49m\u001b[43m)\u001b[49m\n\u001b[0;32m     34\u001b[0m \u001b[38;5;66;03m# Print the rules\u001b[39;00m\n\u001b[0;32m     35\u001b[0m \u001b[38;5;28mprint\u001b[39m(rules)\n",
      "File \u001b[1;32m~\\Anaconda3\\lib\\site-packages\\rulefit\\rulefit.py:513\u001b[0m, in \u001b[0;36mRuleFit.get_rules\u001b[1;34m(self, exclude_zero_coef, subregion)\u001b[0m\n\u001b[0;32m    495\u001b[0m \u001b[38;5;28;01mdef\u001b[39;00m \u001b[38;5;21mget_rules\u001b[39m(\u001b[38;5;28mself\u001b[39m, exclude_zero_coef\u001b[38;5;241m=\u001b[39m\u001b[38;5;28;01mFalse\u001b[39;00m, subregion\u001b[38;5;241m=\u001b[39m\u001b[38;5;28;01mNone\u001b[39;00m):\n\u001b[0;32m    496\u001b[0m     \u001b[38;5;124;03m\"\"\"Return the estimated rules\u001b[39;00m\n\u001b[0;32m    497\u001b[0m \n\u001b[0;32m    498\u001b[0m \u001b[38;5;124;03m    Parameters\u001b[39;00m\n\u001b[1;32m   (...)\u001b[0m\n\u001b[0;32m    510\u001b[0m \u001b[38;5;124;03m           data set (X)\u001b[39;00m\n\u001b[0;32m    511\u001b[0m \u001b[38;5;124;03m    \"\"\"\u001b[39;00m\n\u001b[1;32m--> 513\u001b[0m     n_features\u001b[38;5;241m=\u001b[39m \u001b[38;5;28mlen\u001b[39m(\u001b[38;5;28;43mself\u001b[39;49m\u001b[38;5;241;43m.\u001b[39;49m\u001b[43mcoef_\u001b[49m) \u001b[38;5;241m-\u001b[39m \u001b[38;5;28mlen\u001b[39m(\u001b[38;5;28mself\u001b[39m\u001b[38;5;241m.\u001b[39mrule_ensemble\u001b[38;5;241m.\u001b[39mrules)\n\u001b[0;32m    514\u001b[0m     rule_ensemble \u001b[38;5;241m=\u001b[39m \u001b[38;5;28mlist\u001b[39m(\u001b[38;5;28mself\u001b[39m\u001b[38;5;241m.\u001b[39mrule_ensemble\u001b[38;5;241m.\u001b[39mrules)\n\u001b[0;32m    515\u001b[0m     output_rules \u001b[38;5;241m=\u001b[39m []\n",
      "\u001b[1;31mAttributeError\u001b[0m: 'RuleFit' object has no attribute 'coef_'"
     ]
    }
   ],
   "source": [
    "import pandas as pd\n",
    "from sklearn.tree import DecisionTreeClassifier\n",
    "from rulefit import RuleFit\n",
    "\n",
    "df = pd.read_csv('adult.csv', header=None)\n",
    "\n",
    "# Preprocess the data\n",
    "columns = ['age', 'workclass', 'fnlwgt', 'education', 'education-num', 'marital-status', 'occupation', 'relationship',\n",
    "           'race', 'sex', 'capital-gain', 'capital-loss', 'hours-per-week', 'native-country', 'income']\n",
    "\n",
    "df.columns = columns\n",
    "df = pd.get_dummies(df,\n",
    "                    columns=['workclass', 'education', 'marital-status', 'occupation', 'relationship', 'race', 'sex',\n",
    "                             'native-country'])\n",
    "df = df.drop(columns=['fnlwgt', 'education-num'])\n",
    "\n",
    "# Split the data into features and target\n",
    "X = df.drop(columns=['income'])\n",
    "y = df['income']\n",
    "\n",
    "# Split the data into training and test sets\n",
    "X_train, X_test, y_train, y_test = train_test_split(X, y, test_size=0.2, random_state=42)\n",
    "\n",
    "# Create a decision tree classifier\n",
    "clf = DecisionTreeClassifier()\n",
    "\n",
    "# Train the classifier on the training data\n",
    "clf.fit(X_train, y_train)\n",
    "\n",
    "# Create a rule set from the decision tree\n",
    "rf = RuleFit(clf, feature_names=columns)\n",
    "\n",
    "# Extract the rules from the rule set\n",
    "rules = rf.get_rules()\n",
    "\n",
    "# Print the rules\n",
    "print(rules)"
   ]
  },
  {
   "cell_type": "code",
   "execution_count": 260,
   "id": "a7f42617-40ff-4ffc-9449-0e47ae7744a1",
   "metadata": {},
   "outputs": [],
   "source": [
    "import pandas as pd\n",
    "from sklearn.tree import DecisionTreeClassifier\n",
    "from rulefit import RuleFit"
   ]
  },
  {
   "cell_type": "code",
   "execution_count": 261,
   "id": "f4146011-52ef-4f6c-9e96-221420c902b0",
   "metadata": {},
   "outputs": [],
   "source": [
    "# Load the dataset\n",
    "df = pd.read_csv('https://archive.ics.uci.edu/ml/machine-learning-databases/adult/adult.data', header=None,\n",
    "                 names=['age', 'workclass', 'fnlwgt', 'education', 'education-num', 'marital-status', 'occupation',\n",
    "                        'relationship', 'race', 'sex', 'capital-gain', 'capital-loss', 'hours-per-week',\n",
    "                        'native-country', 'income'])"
   ]
  },
  {
   "cell_type": "code",
   "execution_count": 263,
   "id": "7bcca38a-b79c-4802-851c-d3cabca93df9",
   "metadata": {},
   "outputs": [
    {
     "ename": "AttributeError",
     "evalue": "'RuleFit' object has no attribute 'coef_'",
     "output_type": "error",
     "traceback": [
      "\u001b[1;31m---------------------------------------------------------------------------\u001b[0m",
      "\u001b[1;31mAttributeError\u001b[0m                            Traceback (most recent call last)",
      "Cell \u001b[1;32mIn [263], line 21\u001b[0m\n\u001b[0;32m     18\u001b[0m rf \u001b[38;5;241m=\u001b[39m RuleFit(clf)\n\u001b[0;32m     20\u001b[0m \u001b[38;5;66;03m# Extract the rules from the rule set\u001b[39;00m\n\u001b[1;32m---> 21\u001b[0m rules \u001b[38;5;241m=\u001b[39m \u001b[43mrf\u001b[49m\u001b[38;5;241;43m.\u001b[39;49m\u001b[43mget_rules\u001b[49m\u001b[43m(\u001b[49m\u001b[43m)\u001b[49m\n\u001b[0;32m     23\u001b[0m \u001b[38;5;66;03m# Print the rules\u001b[39;00m\n\u001b[0;32m     24\u001b[0m \u001b[38;5;28mprint\u001b[39m(rules)\n",
      "File \u001b[1;32m~\\Anaconda3\\lib\\site-packages\\rulefit\\rulefit.py:513\u001b[0m, in \u001b[0;36mRuleFit.get_rules\u001b[1;34m(self, exclude_zero_coef, subregion)\u001b[0m\n\u001b[0;32m    495\u001b[0m \u001b[38;5;28;01mdef\u001b[39;00m \u001b[38;5;21mget_rules\u001b[39m(\u001b[38;5;28mself\u001b[39m, exclude_zero_coef\u001b[38;5;241m=\u001b[39m\u001b[38;5;28;01mFalse\u001b[39;00m, subregion\u001b[38;5;241m=\u001b[39m\u001b[38;5;28;01mNone\u001b[39;00m):\n\u001b[0;32m    496\u001b[0m     \u001b[38;5;124;03m\"\"\"Return the estimated rules\u001b[39;00m\n\u001b[0;32m    497\u001b[0m \n\u001b[0;32m    498\u001b[0m \u001b[38;5;124;03m    Parameters\u001b[39;00m\n\u001b[1;32m   (...)\u001b[0m\n\u001b[0;32m    510\u001b[0m \u001b[38;5;124;03m           data set (X)\u001b[39;00m\n\u001b[0;32m    511\u001b[0m \u001b[38;5;124;03m    \"\"\"\u001b[39;00m\n\u001b[1;32m--> 513\u001b[0m     n_features\u001b[38;5;241m=\u001b[39m \u001b[38;5;28mlen\u001b[39m(\u001b[38;5;28;43mself\u001b[39;49m\u001b[38;5;241;43m.\u001b[39;49m\u001b[43mcoef_\u001b[49m) \u001b[38;5;241m-\u001b[39m \u001b[38;5;28mlen\u001b[39m(\u001b[38;5;28mself\u001b[39m\u001b[38;5;241m.\u001b[39mrule_ensemble\u001b[38;5;241m.\u001b[39mrules)\n\u001b[0;32m    514\u001b[0m     rule_ensemble \u001b[38;5;241m=\u001b[39m \u001b[38;5;28mlist\u001b[39m(\u001b[38;5;28mself\u001b[39m\u001b[38;5;241m.\u001b[39mrule_ensemble\u001b[38;5;241m.\u001b[39mrules)\n\u001b[0;32m    515\u001b[0m     output_rules \u001b[38;5;241m=\u001b[39m []\n",
      "\u001b[1;31mAttributeError\u001b[0m: 'RuleFit' object has no attribute 'coef_'"
     ]
    }
   ],
   "source": [
    "# Select the features and target variable\n",
    "X = df.drop(['income'], axis=1)\n",
    "y = df['income']\n",
    "\n",
    "# Convert the categorical features to dummy variables\n",
    "X = pd.get_dummies(X)\n",
    "\n",
    "# Split the data into training and test sets\n",
    "X_train, X_test, y_train, y_test = train_test_split(X, y, test_size=0.2, random_state=42)\n",
    "\n",
    "# Create a decision tree classifier\n",
    "clf = DecisionTreeClassifier()\n",
    "\n",
    "# Train the classifier on the training data\n",
    "clf.fit(X_train, y_train)\n",
    "\n",
    "# Create a rule set from the decision tree\n",
    "rf = RuleFit(clf)\n",
    "\n",
    "# Extract the rules from the rule set\n",
    "rules = rf.get_rules()\n",
    "\n",
    "# Print the rules\n",
    "print(rules)"
   ]
  },
  {
   "cell_type": "code",
   "execution_count": 264,
   "id": "9fd286c9-0a35-4454-a7b1-86dad3276dc0",
   "metadata": {},
   "outputs": [
    {
     "name": "stdout",
     "output_type": "stream",
     "text": [
      "Accuracy: 0.8881118881118881\n"
     ]
    }
   ],
   "source": [
    "from sklearn.datasets import load_breast_cancer\n",
    "from sklearn.tree import DecisionTreeClassifier\n",
    "from sklearn.model_selection import train_test_split\n",
    "\n",
    "# Load the breast cancer dataset\n",
    "data = load_breast_cancer()\n",
    "X = data['data']\n",
    "y = data['target']\n",
    "\n",
    "# Split the data into training and testing sets\n",
    "X_train, X_test, y_train, y_test = train_test_split(X, y, random_state=0)\n",
    "\n",
    "# Train a decision tree classifier\n",
    "clf = DecisionTreeClassifier()\n",
    "clf.fit(X_train, y_train)\n",
    "\n",
    "# Use the classifier to make predictions on the test set\n",
    "y_pred = clf.predict(X_test)\n",
    "\n",
    "# Evaluate the performance of the classifier\n",
    "accuracy = (y_pred == y_test).mean()\n",
    "print('Accuracy:', accuracy)\n"
   ]
  },
  {
   "cell_type": "code",
   "execution_count": 270,
   "id": "7be065b1-4a48-4ee1-ba9e-63fde083d60e",
   "metadata": {},
   "outputs": [
    {
     "data": {
      "text/plain": [
       "31"
      ]
     },
     "execution_count": 270,
     "metadata": {},
     "output_type": "execute_result"
    }
   ],
   "source": [
    "# Extract the decision rules from the trained model\n",
    "decision_rules = clf.decision_path(X_test).toarray()\n",
    "decision_rules.shape[1]"
   ]
  },
  {
   "cell_type": "code",
   "execution_count": 273,
   "id": "189b432c-addc-4383-b8fd-34acda65d7cb",
   "metadata": {},
   "outputs": [
    {
     "name": "stdout",
     "output_type": "stream",
     "text": [
      "[['mean radius <= 0.04891999997198582', 'ELSE', 'ELSE', 'ELSE', 'ELSE', 'ELSE', 'ELSE', 'ELSE', 'ELSE', 'ELSE', 'ELSE', 'ELSE', 'ELSE', 'ELSE', 'ELSE', 'ELSE', 'ELSE', 'ELSE', 'ELSE', 'ELSE', 'worst radius <= 785.7999877929688', 'ELSE', 'ELSE', 'ELSE', 'ELSE', 'ELSE', 'worst concavity <= 0.1918499991297722', 'ELSE', 'worst symmetry <= 0.18205000460147858', 'ELSE'], ['mean radius <= 0.04891999997198582', 'mean texture <= 952.8999938964844', 'mean perimeter <= 42.19000053405762', 'mean area <= 0.4535500109195709', 'mean smoothness <= 30.145000457763672', 'ELSE', 'mean concavity <= 0.004223499912768602', 'ELSE', 'mean symmetry <= 23.199999809265137', 'ELSE', 'ELSE', 'ELSE', 'perimeter error <= -2.0', 'ELSE', 'ELSE', 'ELSE', 'ELSE', 'ELSE', 'ELSE', 'ELSE', 'ELSE', 'ELSE', 'ELSE', 'ELSE', 'ELSE', 'ELSE', 'ELSE', 'ELSE', 'ELSE', 'ELSE', 'ELSE'], ['mean radius <= 0.04891999997198582', 'mean texture <= 952.8999938964844', 'mean perimeter <= 42.19000053405762', 'mean area <= 0.4535500109195709', 'mean smoothness <= 30.145000457763672', 'mean compactness <= -2.0', 'ELSE', 'ELSE', 'ELSE', 'ELSE', 'ELSE', 'ELSE', 'ELSE', 'ELSE', 'ELSE', 'ELSE', 'ELSE', 'ELSE', 'ELSE', 'ELSE', 'ELSE', 'ELSE', 'ELSE', 'ELSE', 'ELSE', 'ELSE', 'ELSE', 'ELSE', 'ELSE', 'ELSE', 'ELSE'], ['mean radius <= 0.04891999997198582', 'mean texture <= 952.8999938964844', 'mean perimeter <= 42.19000053405762', 'mean area <= 0.4535500109195709', 'mean smoothness <= 30.145000457763672', 'mean compactness <= -2.0', 'ELSE', 'ELSE', 'ELSE', 'ELSE', 'ELSE', 'ELSE', 'ELSE', 'ELSE', 'ELSE', 'ELSE', 'ELSE', 'ELSE', 'ELSE', 'ELSE', 'ELSE', 'ELSE', 'ELSE', 'ELSE', 'ELSE', 'ELSE', 'ELSE', 'ELSE', 'ELSE', 'ELSE', 'ELSE'], ['mean radius <= 0.04891999997198582', 'mean texture <= 952.8999938964844', 'mean perimeter <= 42.19000053405762', 'mean area <= 0.4535500109195709', 'mean smoothness <= 30.145000457763672', 'mean compactness <= -2.0', 'ELSE', 'ELSE', 'ELSE', 'ELSE', 'ELSE', 'ELSE', 'ELSE', 'ELSE', 'ELSE', 'ELSE', 'ELSE', 'ELSE', 'ELSE', 'ELSE', 'ELSE', 'ELSE', 'ELSE', 'ELSE', 'ELSE', 'ELSE', 'ELSE', 'ELSE', 'ELSE', 'ELSE', 'ELSE'], ['mean radius <= 0.04891999997198582', 'mean texture <= 952.8999938964844', 'mean perimeter <= 42.19000053405762', 'mean area <= 0.4535500109195709', 'mean smoothness <= 30.145000457763672', 'mean compactness <= -2.0', 'ELSE', 'ELSE', 'ELSE', 'ELSE', 'ELSE', 'ELSE', 'ELSE', 'ELSE', 'ELSE', 'ELSE', 'ELSE', 'ELSE', 'ELSE', 'ELSE', 'ELSE', 'ELSE', 'ELSE', 'ELSE', 'ELSE', 'ELSE', 'ELSE', 'ELSE', 'ELSE', 'ELSE', 'ELSE'], ['mean radius <= 0.04891999997198582', 'mean texture <= 952.8999938964844', 'mean perimeter <= 42.19000053405762', 'mean area <= 0.4535500109195709', 'mean smoothness <= 30.145000457763672', 'mean compactness <= -2.0', 'ELSE', 'ELSE', 'ELSE', 'ELSE', 'ELSE', 'ELSE', 'ELSE', 'ELSE', 'ELSE', 'ELSE', 'ELSE', 'ELSE', 'ELSE', 'ELSE', 'ELSE', 'ELSE', 'ELSE', 'ELSE', 'ELSE', 'ELSE', 'ELSE', 'ELSE', 'ELSE', 'ELSE', 'ELSE'], ['mean radius <= 0.04891999997198582', 'mean texture <= 952.8999938964844', 'mean perimeter <= 42.19000053405762', 'mean area <= 0.4535500109195709', 'mean smoothness <= 30.145000457763672', 'mean compactness <= -2.0', 'ELSE', 'ELSE', 'ELSE', 'ELSE', 'ELSE', 'ELSE', 'ELSE', 'ELSE', 'ELSE', 'ELSE', 'ELSE', 'ELSE', 'ELSE', 'ELSE', 'ELSE', 'ELSE', 'ELSE', 'ELSE', 'ELSE', 'ELSE', 'ELSE', 'ELSE', 'ELSE', 'ELSE', 'ELSE'], ['mean radius <= 0.04891999997198582', 'mean texture <= 952.8999938964844', 'mean perimeter <= 42.19000053405762', 'mean area <= 0.4535500109195709', 'mean smoothness <= 30.145000457763672', 'ELSE', 'mean concavity <= 0.004223499912768602', 'ELSE', 'mean symmetry <= 23.199999809265137', 'ELSE', 'ELSE', 'ELSE', 'perimeter error <= -2.0', 'ELSE', 'ELSE', 'ELSE', 'ELSE', 'ELSE', 'ELSE', 'ELSE', 'ELSE', 'ELSE', 'ELSE', 'ELSE', 'ELSE', 'ELSE', 'ELSE', 'ELSE', 'ELSE', 'ELSE', 'ELSE'], ['mean radius <= 0.04891999997198582', 'mean texture <= 952.8999938964844', 'mean perimeter <= 42.19000053405762', 'mean area <= 0.4535500109195709', 'mean smoothness <= 30.145000457763672', 'mean compactness <= -2.0', 'ELSE', 'ELSE', 'ELSE', 'ELSE', 'ELSE', 'ELSE', 'ELSE', 'ELSE', 'ELSE', 'ELSE', 'ELSE', 'ELSE', 'ELSE', 'ELSE', 'ELSE', 'ELSE', 'ELSE', 'ELSE', 'ELSE', 'ELSE', 'ELSE', 'ELSE', 'ELSE', 'ELSE', 'ELSE'], ['mean radius <= 0.04891999997198582', 'ELSE', 'ELSE', 'ELSE', 'ELSE', 'ELSE', 'ELSE', 'ELSE', 'ELSE', 'ELSE', 'ELSE', 'ELSE', 'ELSE', 'ELSE', 'ELSE', 'ELSE', 'ELSE', 'ELSE', 'ELSE', 'ELSE', 'worst radius <= 785.7999877929688', 'ELSE', 'ELSE', 'ELSE', 'ELSE', 'ELSE', 'worst concavity <= 0.1918499991297722', 'ELSE', 'worst symmetry <= 0.18205000460147858', 'ELSE'], ['mean radius <= 0.04891999997198582', 'mean texture <= 952.8999938964844', 'mean perimeter <= 42.19000053405762', 'mean area <= 0.4535500109195709', 'mean smoothness <= 30.145000457763672', 'mean compactness <= -2.0', 'ELSE', 'ELSE', 'ELSE', 'ELSE', 'ELSE', 'ELSE', 'ELSE', 'ELSE', 'ELSE', 'ELSE', 'ELSE', 'ELSE', 'ELSE', 'ELSE', 'ELSE', 'ELSE', 'ELSE', 'ELSE', 'ELSE', 'ELSE', 'ELSE', 'ELSE', 'ELSE', 'ELSE', 'ELSE'], ['mean radius <= 0.04891999997198582', 'mean texture <= 952.8999938964844', 'mean perimeter <= 42.19000053405762', 'mean area <= 0.4535500109195709', 'mean smoothness <= 30.145000457763672', 'mean compactness <= -2.0', 'ELSE', 'ELSE', 'ELSE', 'ELSE', 'ELSE', 'ELSE', 'ELSE', 'ELSE', 'ELSE', 'ELSE', 'ELSE', 'ELSE', 'ELSE', 'ELSE', 'ELSE', 'ELSE', 'ELSE', 'ELSE', 'ELSE', 'ELSE', 'ELSE', 'ELSE', 'ELSE', 'ELSE', 'ELSE'], ['mean radius <= 0.04891999997198582', 'mean texture <= 952.8999938964844', 'ELSE', 'ELSE', 'ELSE', 'ELSE', 'ELSE', 'ELSE', 'ELSE', 'ELSE', 'ELSE', 'ELSE', 'ELSE', 'ELSE', 'ELSE', 'ELSE', 'ELSE', 'concave points error <= 18.960000038146973', 'ELSE', 'fractal dimension error <= -2.0', 'ELSE', 'ELSE', 'ELSE', 'ELSE', 'ELSE', 'ELSE', 'ELSE', 'ELSE', 'ELSE', 'ELSE', 'ELSE'], ['mean radius <= 0.04891999997198582', 'ELSE', 'ELSE', 'ELSE', 'ELSE', 'ELSE', 'ELSE', 'ELSE', 'ELSE', 'ELSE', 'ELSE', 'ELSE', 'ELSE', 'ELSE', 'ELSE', 'ELSE', 'ELSE', 'ELSE', 'ELSE', 'ELSE', 'worst radius <= 785.7999877929688', 'ELSE', 'ELSE', 'ELSE', 'ELSE', 'ELSE', 'worst concavity <= 0.1918499991297722', 'ELSE', 'worst symmetry <= 0.18205000460147858', 'ELSE'], ['mean radius <= 0.04891999997198582', 'ELSE', 'ELSE', 'ELSE', 'ELSE', 'ELSE', 'ELSE', 'ELSE', 'ELSE', 'ELSE', 'ELSE', 'ELSE', 'ELSE', 'ELSE', 'ELSE', 'ELSE', 'ELSE', 'ELSE', 'ELSE', 'ELSE', 'worst radius <= 785.7999877929688', 'ELSE', 'ELSE', 'ELSE', 'ELSE', 'ELSE', 'worst concavity <= 0.1918499991297722', 'ELSE', 'worst symmetry <= 0.18205000460147858', 'ELSE'], ['mean radius <= 0.04891999997198582', 'ELSE', 'ELSE', 'ELSE', 'ELSE', 'ELSE', 'ELSE', 'ELSE', 'ELSE', 'ELSE', 'ELSE', 'ELSE', 'ELSE', 'ELSE', 'ELSE', 'ELSE', 'ELSE', 'ELSE', 'ELSE', 'ELSE', 'worst radius <= 785.7999877929688', 'worst texture <= 23.739999771118164', 'worst perimeter <= -2.0', 'ELSE', 'ELSE', 'ELSE', 'ELSE', 'ELSE', 'ELSE', 'ELSE', 'ELSE'], ['mean radius <= 0.04891999997198582', 'ELSE', 'ELSE', 'ELSE', 'ELSE', 'ELSE', 'ELSE', 'ELSE', 'ELSE', 'ELSE', 'ELSE', 'ELSE', 'ELSE', 'ELSE', 'ELSE', 'ELSE', 'ELSE', 'ELSE', 'ELSE', 'ELSE', 'worst radius <= 785.7999877929688', 'ELSE', 'ELSE', 'ELSE', 'ELSE', 'ELSE', 'worst concavity <= 0.1918499991297722', 'ELSE', 'worst symmetry <= 0.18205000460147858', 'ELSE'], ['mean radius <= 0.04891999997198582', 'ELSE', 'ELSE', 'ELSE', 'ELSE', 'ELSE', 'ELSE', 'ELSE', 'ELSE', 'ELSE', 'ELSE', 'ELSE', 'ELSE', 'ELSE', 'ELSE', 'ELSE', 'ELSE', 'ELSE', 'ELSE', 'ELSE', 'worst radius <= 785.7999877929688', 'ELSE', 'ELSE', 'ELSE', 'ELSE', 'ELSE', 'worst concavity <= 0.1918499991297722', 'ELSE', 'worst symmetry <= 0.18205000460147858', 'ELSE'], ['mean radius <= 0.04891999997198582', 'ELSE', 'ELSE', 'ELSE', 'ELSE', 'ELSE', 'ELSE', 'ELSE', 'ELSE', 'ELSE', 'ELSE', 'ELSE', 'ELSE', 'ELSE', 'ELSE', 'ELSE', 'ELSE', 'ELSE', 'ELSE', 'ELSE', 'worst radius <= 785.7999877929688', 'ELSE', 'ELSE', 'ELSE', 'ELSE', 'ELSE', 'worst concavity <= 0.1918499991297722', 'ELSE', 'worst symmetry <= 0.18205000460147858', 'ELSE'], ['mean radius <= 0.04891999997198582', 'ELSE', 'ELSE', 'ELSE', 'ELSE', 'ELSE', 'ELSE', 'ELSE', 'ELSE', 'ELSE', 'ELSE', 'ELSE', 'ELSE', 'ELSE', 'ELSE', 'ELSE', 'ELSE', 'ELSE', 'ELSE', 'ELSE', 'worst radius <= 785.7999877929688', 'ELSE', 'ELSE', 'ELSE', 'ELSE', 'ELSE', 'worst concavity <= 0.1918499991297722', 'ELSE', 'worst symmetry <= 0.18205000460147858', 'ELSE'], ['mean radius <= 0.04891999997198582', 'ELSE', 'ELSE', 'ELSE', 'ELSE', 'ELSE', 'ELSE', 'ELSE', 'ELSE', 'ELSE', 'ELSE', 'ELSE', 'ELSE', 'ELSE', 'ELSE', 'ELSE', 'ELSE', 'ELSE', 'ELSE', 'ELSE', 'worst radius <= 785.7999877929688', 'ELSE', 'ELSE', 'ELSE', 'ELSE', 'ELSE', 'worst concavity <= 0.1918499991297722', 'ELSE', 'worst symmetry <= 0.18205000460147858', 'ELSE'], ['mean radius <= 0.04891999997198582', 'ELSE', 'ELSE', 'ELSE', 'ELSE', 'ELSE', 'ELSE', 'ELSE', 'ELSE', 'ELSE', 'ELSE', 'ELSE', 'ELSE', 'ELSE', 'ELSE', 'ELSE', 'ELSE', 'ELSE', 'ELSE', 'ELSE', 'worst radius <= 785.7999877929688', 'worst texture <= 23.739999771118164', 'worst perimeter <= -2.0', 'ELSE', 'ELSE', 'ELSE', 'ELSE', 'ELSE', 'ELSE', 'ELSE', 'ELSE'], ['mean radius <= 0.04891999997198582', 'mean texture <= 952.8999938964844', 'mean perimeter <= 42.19000053405762', 'mean area <= 0.4535500109195709', 'mean smoothness <= 30.145000457763672', 'mean compactness <= -2.0', 'ELSE', 'ELSE', 'ELSE', 'ELSE', 'ELSE', 'ELSE', 'ELSE', 'ELSE', 'ELSE', 'ELSE', 'ELSE', 'ELSE', 'ELSE', 'ELSE', 'ELSE', 'ELSE', 'ELSE', 'ELSE', 'ELSE', 'ELSE', 'ELSE', 'ELSE', 'ELSE', 'ELSE', 'ELSE'], ['mean radius <= 0.04891999997198582', 'ELSE', 'ELSE', 'ELSE', 'ELSE', 'ELSE', 'ELSE', 'ELSE', 'ELSE', 'ELSE', 'ELSE', 'ELSE', 'ELSE', 'ELSE', 'ELSE', 'ELSE', 'ELSE', 'ELSE', 'ELSE', 'ELSE', 'worst radius <= 785.7999877929688', 'ELSE', 'ELSE', 'ELSE', 'ELSE', 'ELSE', 'worst concavity <= 0.1918499991297722', 'ELSE', 'worst symmetry <= 0.18205000460147858', 'ELSE'], ['mean radius <= 0.04891999997198582', 'mean texture <= 952.8999938964844', 'mean perimeter <= 42.19000053405762', 'mean area <= 0.4535500109195709', 'mean smoothness <= 30.145000457763672', 'mean compactness <= -2.0', 'ELSE', 'ELSE', 'ELSE', 'ELSE', 'ELSE', 'ELSE', 'ELSE', 'ELSE', 'ELSE', 'ELSE', 'ELSE', 'ELSE', 'ELSE', 'ELSE', 'ELSE', 'ELSE', 'ELSE', 'ELSE', 'ELSE', 'ELSE', 'ELSE', 'ELSE', 'ELSE', 'ELSE', 'ELSE'], ['mean radius <= 0.04891999997198582', 'mean texture <= 952.8999938964844', 'mean perimeter <= 42.19000053405762', 'mean area <= 0.4535500109195709', 'mean smoothness <= 30.145000457763672', 'mean compactness <= -2.0', 'ELSE', 'ELSE', 'ELSE', 'ELSE', 'ELSE', 'ELSE', 'ELSE', 'ELSE', 'ELSE', 'ELSE', 'ELSE', 'ELSE', 'ELSE', 'ELSE', 'ELSE', 'ELSE', 'ELSE', 'ELSE', 'ELSE', 'ELSE', 'ELSE', 'ELSE', 'ELSE', 'ELSE', 'ELSE'], ['mean radius <= 0.04891999997198582', 'ELSE', 'ELSE', 'ELSE', 'ELSE', 'ELSE', 'ELSE', 'ELSE', 'ELSE', 'ELSE', 'ELSE', 'ELSE', 'ELSE', 'ELSE', 'ELSE', 'ELSE', 'ELSE', 'ELSE', 'ELSE', 'ELSE', 'worst radius <= 785.7999877929688', 'worst texture <= 23.739999771118164', 'ELSE', 'worst area <= 0.26820001006126404', 'ELSE', 'worst compactness <= -2.0', 'ELSE', 'ELSE', 'ELSE', 'ELSE', 'ELSE'], ['mean radius <= 0.04891999997198582', 'mean texture <= 952.8999938964844', 'mean perimeter <= 42.19000053405762', 'mean area <= 0.4535500109195709', 'mean smoothness <= 30.145000457763672', 'mean compactness <= -2.0', 'ELSE', 'ELSE', 'ELSE', 'ELSE', 'ELSE', 'ELSE', 'ELSE', 'ELSE', 'ELSE', 'ELSE', 'ELSE', 'ELSE', 'ELSE', 'ELSE', 'ELSE', 'ELSE', 'ELSE', 'ELSE', 'ELSE', 'ELSE', 'ELSE', 'ELSE', 'ELSE', 'ELSE', 'ELSE'], ['mean radius <= 0.04891999997198582', 'ELSE', 'ELSE', 'ELSE', 'ELSE', 'ELSE', 'ELSE', 'ELSE', 'ELSE', 'ELSE', 'ELSE', 'ELSE', 'ELSE', 'ELSE', 'ELSE', 'ELSE', 'ELSE', 'ELSE', 'ELSE', 'ELSE', 'worst radius <= 785.7999877929688', 'ELSE', 'ELSE', 'ELSE', 'ELSE', 'ELSE', 'worst concavity <= 0.1918499991297722', 'ELSE', 'worst symmetry <= 0.18205000460147858', 'ELSE'], ['mean radius <= 0.04891999997198582', 'mean texture <= 952.8999938964844', 'mean perimeter <= 42.19000053405762', 'mean area <= 0.4535500109195709', 'mean smoothness <= 30.145000457763672', 'mean compactness <= -2.0', 'ELSE', 'ELSE', 'ELSE', 'ELSE', 'ELSE', 'ELSE', 'ELSE', 'ELSE', 'ELSE', 'ELSE', 'ELSE', 'ELSE', 'ELSE', 'ELSE', 'ELSE', 'ELSE', 'ELSE', 'ELSE', 'ELSE', 'ELSE', 'ELSE', 'ELSE', 'ELSE', 'ELSE', 'ELSE'], ['mean radius <= 0.04891999997198582', 'ELSE', 'ELSE', 'ELSE', 'ELSE', 'ELSE', 'ELSE', 'ELSE', 'ELSE', 'ELSE', 'ELSE', 'ELSE', 'ELSE', 'ELSE', 'ELSE', 'ELSE', 'ELSE', 'ELSE', 'ELSE', 'ELSE', 'worst radius <= 785.7999877929688', 'ELSE', 'ELSE', 'ELSE', 'ELSE', 'ELSE', 'worst concavity <= 0.1918499991297722', 'ELSE', 'worst symmetry <= 0.18205000460147858', 'ELSE'], ['mean radius <= 0.04891999997198582', 'mean texture <= 952.8999938964844', 'mean perimeter <= 42.19000053405762', 'mean area <= 0.4535500109195709', 'mean smoothness <= 30.145000457763672', 'mean compactness <= -2.0', 'ELSE', 'ELSE', 'ELSE', 'ELSE', 'ELSE', 'ELSE', 'ELSE', 'ELSE', 'ELSE', 'ELSE', 'ELSE', 'ELSE', 'ELSE', 'ELSE', 'ELSE', 'ELSE', 'ELSE', 'ELSE', 'ELSE', 'ELSE', 'ELSE', 'ELSE', 'ELSE', 'ELSE', 'ELSE'], ['mean radius <= 0.04891999997198582', 'ELSE', 'ELSE', 'ELSE', 'ELSE', 'ELSE', 'ELSE', 'ELSE', 'ELSE', 'ELSE', 'ELSE', 'ELSE', 'ELSE', 'ELSE', 'ELSE', 'ELSE', 'ELSE', 'ELSE', 'ELSE', 'ELSE', 'worst radius <= 785.7999877929688', 'ELSE', 'ELSE', 'ELSE', 'ELSE', 'ELSE', 'worst concavity <= 0.1918499991297722', 'ELSE', 'worst symmetry <= 0.18205000460147858', 'ELSE'], ['mean radius <= 0.04891999997198582', 'mean texture <= 952.8999938964844', 'mean perimeter <= 42.19000053405762', 'mean area <= 0.4535500109195709', 'mean smoothness <= 30.145000457763672', 'mean compactness <= -2.0', 'ELSE', 'ELSE', 'ELSE', 'ELSE', 'ELSE', 'ELSE', 'ELSE', 'ELSE', 'ELSE', 'ELSE', 'ELSE', 'ELSE', 'ELSE', 'ELSE', 'ELSE', 'ELSE', 'ELSE', 'ELSE', 'ELSE', 'ELSE', 'ELSE', 'ELSE', 'ELSE', 'ELSE', 'ELSE'], ['mean radius <= 0.04891999997198582', 'ELSE', 'ELSE', 'ELSE', 'ELSE', 'ELSE', 'ELSE', 'ELSE', 'ELSE', 'ELSE', 'ELSE', 'ELSE', 'ELSE', 'ELSE', 'ELSE', 'ELSE', 'ELSE', 'ELSE', 'ELSE', 'ELSE', 'worst radius <= 785.7999877929688', 'ELSE', 'ELSE', 'ELSE', 'ELSE', 'ELSE', 'worst concavity <= 0.1918499991297722', 'ELSE', 'worst symmetry <= 0.18205000460147858', 'ELSE'], ['mean radius <= 0.04891999997198582', 'mean texture <= 952.8999938964844', 'mean perimeter <= 42.19000053405762', 'mean area <= 0.4535500109195709', 'mean smoothness <= 30.145000457763672', 'mean compactness <= -2.0', 'ELSE', 'ELSE', 'ELSE', 'ELSE', 'ELSE', 'ELSE', 'ELSE', 'ELSE', 'ELSE', 'ELSE', 'ELSE', 'ELSE', 'ELSE', 'ELSE', 'ELSE', 'ELSE', 'ELSE', 'ELSE', 'ELSE', 'ELSE', 'ELSE', 'ELSE', 'ELSE', 'ELSE', 'ELSE'], ['mean radius <= 0.04891999997198582', 'ELSE', 'ELSE', 'ELSE', 'ELSE', 'ELSE', 'ELSE', 'ELSE', 'ELSE', 'ELSE', 'ELSE', 'ELSE', 'ELSE', 'ELSE', 'ELSE', 'ELSE', 'ELSE', 'ELSE', 'ELSE', 'ELSE', 'worst radius <= 785.7999877929688', 'ELSE', 'ELSE', 'ELSE', 'ELSE', 'ELSE', 'worst concavity <= 0.1918499991297722', 'ELSE', 'worst symmetry <= 0.18205000460147858', 'ELSE'], ['mean radius <= 0.04891999997198582', 'mean texture <= 952.8999938964844', 'mean perimeter <= 42.19000053405762', 'mean area <= 0.4535500109195709', 'mean smoothness <= 30.145000457763672', 'mean compactness <= -2.0', 'ELSE', 'ELSE', 'ELSE', 'ELSE', 'ELSE', 'ELSE', 'ELSE', 'ELSE', 'ELSE', 'ELSE', 'ELSE', 'ELSE', 'ELSE', 'ELSE', 'ELSE', 'ELSE', 'ELSE', 'ELSE', 'ELSE', 'ELSE', 'ELSE', 'ELSE', 'ELSE', 'ELSE', 'ELSE'], ['mean radius <= 0.04891999997198582', 'ELSE', 'ELSE', 'ELSE', 'ELSE', 'ELSE', 'ELSE', 'ELSE', 'ELSE', 'ELSE', 'ELSE', 'ELSE', 'ELSE', 'ELSE', 'ELSE', 'ELSE', 'ELSE', 'ELSE', 'ELSE', 'ELSE', 'worst radius <= 785.7999877929688', 'ELSE', 'ELSE', 'ELSE', 'ELSE', 'ELSE', 'worst concavity <= 0.1918499991297722', 'ELSE', 'worst symmetry <= 0.18205000460147858', 'ELSE'], ['mean radius <= 0.04891999997198582', 'mean texture <= 952.8999938964844', 'mean perimeter <= 42.19000053405762', 'ELSE', 'ELSE', 'ELSE', 'ELSE', 'ELSE', 'ELSE', 'ELSE', 'ELSE', 'ELSE', 'ELSE', 'ELSE', 'smoothness error <= 0.01638999953866005', 'compactness error <= -2.0', 'ELSE', 'ELSE', 'ELSE', 'ELSE', 'ELSE', 'ELSE', 'ELSE', 'ELSE', 'ELSE', 'ELSE', 'ELSE', 'ELSE', 'ELSE', 'ELSE', 'ELSE'], ['mean radius <= 0.04891999997198582', 'mean texture <= 952.8999938964844', 'mean perimeter <= 42.19000053405762', 'mean area <= 0.4535500109195709', 'mean smoothness <= 30.145000457763672', 'mean compactness <= -2.0', 'ELSE', 'ELSE', 'ELSE', 'ELSE', 'ELSE', 'ELSE', 'ELSE', 'ELSE', 'ELSE', 'ELSE', 'ELSE', 'ELSE', 'ELSE', 'ELSE', 'ELSE', 'ELSE', 'ELSE', 'ELSE', 'ELSE', 'ELSE', 'ELSE', 'ELSE', 'ELSE', 'ELSE', 'ELSE'], ['mean radius <= 0.04891999997198582', 'mean texture <= 952.8999938964844', 'ELSE', 'ELSE', 'ELSE', 'ELSE', 'ELSE', 'ELSE', 'ELSE', 'ELSE', 'ELSE', 'ELSE', 'ELSE', 'ELSE', 'ELSE', 'ELSE', 'ELSE', 'concave points error <= 18.960000038146973', 'ELSE', 'fractal dimension error <= -2.0', 'ELSE', 'ELSE', 'ELSE', 'ELSE', 'ELSE', 'ELSE', 'ELSE', 'ELSE', 'ELSE', 'ELSE', 'ELSE'], ['mean radius <= 0.04891999997198582', 'mean texture <= 952.8999938964844', 'mean perimeter <= 42.19000053405762', 'mean area <= 0.4535500109195709', 'mean smoothness <= 30.145000457763672', 'mean compactness <= -2.0', 'ELSE', 'ELSE', 'ELSE', 'ELSE', 'ELSE', 'ELSE', 'ELSE', 'ELSE', 'ELSE', 'ELSE', 'ELSE', 'ELSE', 'ELSE', 'ELSE', 'ELSE', 'ELSE', 'ELSE', 'ELSE', 'ELSE', 'ELSE', 'ELSE', 'ELSE', 'ELSE', 'ELSE', 'ELSE'], ['mean radius <= 0.04891999997198582', 'mean texture <= 952.8999938964844', 'mean perimeter <= 42.19000053405762', 'mean area <= 0.4535500109195709', 'ELSE', 'ELSE', 'ELSE', 'ELSE', 'ELSE', 'ELSE', 'ELSE', 'ELSE', 'ELSE', 'area error <= -2.0', 'ELSE', 'ELSE', 'ELSE', 'ELSE', 'ELSE', 'ELSE', 'ELSE', 'ELSE', 'ELSE', 'ELSE', 'ELSE', 'ELSE', 'ELSE', 'ELSE', 'ELSE', 'ELSE', 'ELSE'], ['mean radius <= 0.04891999997198582', 'ELSE', 'ELSE', 'ELSE', 'ELSE', 'ELSE', 'ELSE', 'ELSE', 'ELSE', 'ELSE', 'ELSE', 'ELSE', 'ELSE', 'ELSE', 'ELSE', 'ELSE', 'ELSE', 'ELSE', 'ELSE', 'ELSE', 'worst radius <= 785.7999877929688', 'ELSE', 'ELSE', 'ELSE', 'ELSE', 'ELSE', 'worst concavity <= 0.1918499991297722', 'ELSE', 'worst symmetry <= 0.18205000460147858', 'ELSE'], ['mean radius <= 0.04891999997198582', 'mean texture <= 952.8999938964844', 'mean perimeter <= 42.19000053405762', 'mean area <= 0.4535500109195709', 'mean smoothness <= 30.145000457763672', 'mean compactness <= -2.0', 'ELSE', 'ELSE', 'ELSE', 'ELSE', 'ELSE', 'ELSE', 'ELSE', 'ELSE', 'ELSE', 'ELSE', 'ELSE', 'ELSE', 'ELSE', 'ELSE', 'ELSE', 'ELSE', 'ELSE', 'ELSE', 'ELSE', 'ELSE', 'ELSE', 'ELSE', 'ELSE', 'ELSE', 'ELSE'], ['mean radius <= 0.04891999997198582', 'mean texture <= 952.8999938964844', 'mean perimeter <= 42.19000053405762', 'mean area <= 0.4535500109195709', 'mean smoothness <= 30.145000457763672', 'ELSE', 'mean concavity <= 0.004223499912768602', 'ELSE', 'mean symmetry <= 23.199999809265137', 'mean fractal dimension <= 0.15929999947547913', 'radius error <= -2.0', 'ELSE', 'ELSE', 'ELSE', 'ELSE', 'ELSE', 'ELSE', 'ELSE', 'ELSE', 'ELSE', 'ELSE', 'ELSE', 'ELSE', 'ELSE', 'ELSE', 'ELSE', 'ELSE', 'ELSE', 'ELSE', 'ELSE', 'ELSE'], ['mean radius <= 0.04891999997198582', 'mean texture <= 952.8999938964844', 'mean perimeter <= 42.19000053405762', 'mean area <= 0.4535500109195709', 'mean smoothness <= 30.145000457763672', 'mean compactness <= -2.0', 'ELSE', 'ELSE', 'ELSE', 'ELSE', 'ELSE', 'ELSE', 'ELSE', 'ELSE', 'ELSE', 'ELSE', 'ELSE', 'ELSE', 'ELSE', 'ELSE', 'ELSE', 'ELSE', 'ELSE', 'ELSE', 'ELSE', 'ELSE', 'ELSE', 'ELSE', 'ELSE', 'ELSE', 'ELSE'], ['mean radius <= 0.04891999997198582', 'ELSE', 'ELSE', 'ELSE', 'ELSE', 'ELSE', 'ELSE', 'ELSE', 'ELSE', 'ELSE', 'ELSE', 'ELSE', 'ELSE', 'ELSE', 'ELSE', 'ELSE', 'ELSE', 'ELSE', 'ELSE', 'ELSE', 'worst radius <= 785.7999877929688', 'ELSE', 'ELSE', 'ELSE', 'ELSE', 'ELSE', 'worst concavity <= 0.1918499991297722', 'ELSE', 'worst symmetry <= 0.18205000460147858', 'ELSE'], ['mean radius <= 0.04891999997198582', 'ELSE', 'ELSE', 'ELSE', 'ELSE', 'ELSE', 'ELSE', 'ELSE', 'ELSE', 'ELSE', 'ELSE', 'ELSE', 'ELSE', 'ELSE', 'ELSE', 'ELSE', 'ELSE', 'ELSE', 'ELSE', 'ELSE', 'worst radius <= 785.7999877929688', 'ELSE', 'ELSE', 'ELSE', 'ELSE', 'ELSE', 'worst concavity <= 0.1918499991297722', 'ELSE', 'worst symmetry <= 0.18205000460147858', 'ELSE'], ['mean radius <= 0.04891999997198582', 'ELSE', 'ELSE', 'ELSE', 'ELSE', 'ELSE', 'ELSE', 'ELSE', 'ELSE', 'ELSE', 'ELSE', 'ELSE', 'ELSE', 'ELSE', 'ELSE', 'ELSE', 'ELSE', 'ELSE', 'ELSE', 'ELSE', 'worst radius <= 785.7999877929688', 'worst texture <= 23.739999771118164', 'ELSE', 'worst area <= 0.26820001006126404', 'ELSE', 'worst compactness <= -2.0', 'ELSE', 'ELSE', 'ELSE', 'ELSE', 'ELSE'], ['mean radius <= 0.04891999997198582', 'ELSE', 'ELSE', 'ELSE', 'ELSE', 'ELSE', 'ELSE', 'ELSE', 'ELSE', 'ELSE', 'ELSE', 'ELSE', 'ELSE', 'ELSE', 'ELSE', 'ELSE', 'ELSE', 'ELSE', 'ELSE', 'ELSE', 'worst radius <= 785.7999877929688', 'ELSE', 'ELSE', 'ELSE', 'ELSE', 'ELSE', 'worst concavity <= 0.1918499991297722', 'ELSE', 'worst symmetry <= 0.18205000460147858', 'ELSE'], ['mean radius <= 0.04891999997198582', 'mean texture <= 952.8999938964844', 'mean perimeter <= 42.19000053405762', 'mean area <= 0.4535500109195709', 'mean smoothness <= 30.145000457763672', 'mean compactness <= -2.0', 'ELSE', 'ELSE', 'ELSE', 'ELSE', 'ELSE', 'ELSE', 'ELSE', 'ELSE', 'ELSE', 'ELSE', 'ELSE', 'ELSE', 'ELSE', 'ELSE', 'ELSE', 'ELSE', 'ELSE', 'ELSE', 'ELSE', 'ELSE', 'ELSE', 'ELSE', 'ELSE', 'ELSE', 'ELSE'], ['mean radius <= 0.04891999997198582', 'mean texture <= 952.8999938964844', 'mean perimeter <= 42.19000053405762', 'mean area <= 0.4535500109195709', 'mean smoothness <= 30.145000457763672', 'mean compactness <= -2.0', 'ELSE', 'ELSE', 'ELSE', 'ELSE', 'ELSE', 'ELSE', 'ELSE', 'ELSE', 'ELSE', 'ELSE', 'ELSE', 'ELSE', 'ELSE', 'ELSE', 'ELSE', 'ELSE', 'ELSE', 'ELSE', 'ELSE', 'ELSE', 'ELSE', 'ELSE', 'ELSE', 'ELSE', 'ELSE'], ['mean radius <= 0.04891999997198582', 'mean texture <= 952.8999938964844', 'mean perimeter <= 42.19000053405762', 'mean area <= 0.4535500109195709', 'mean smoothness <= 30.145000457763672', 'mean compactness <= -2.0', 'ELSE', 'ELSE', 'ELSE', 'ELSE', 'ELSE', 'ELSE', 'ELSE', 'ELSE', 'ELSE', 'ELSE', 'ELSE', 'ELSE', 'ELSE', 'ELSE', 'ELSE', 'ELSE', 'ELSE', 'ELSE', 'ELSE', 'ELSE', 'ELSE', 'ELSE', 'ELSE', 'ELSE', 'ELSE'], ['mean radius <= 0.04891999997198582', 'mean texture <= 952.8999938964844', 'mean perimeter <= 42.19000053405762', 'mean area <= 0.4535500109195709', 'mean smoothness <= 30.145000457763672', 'ELSE', 'mean concavity <= 0.004223499912768602', 'mean concave points <= -2.0', 'ELSE', 'ELSE', 'ELSE', 'ELSE', 'ELSE', 'ELSE', 'ELSE', 'ELSE', 'ELSE', 'ELSE', 'ELSE', 'ELSE', 'ELSE', 'ELSE', 'ELSE', 'ELSE', 'ELSE', 'ELSE', 'ELSE', 'ELSE', 'ELSE', 'ELSE', 'ELSE'], ['mean radius <= 0.04891999997198582', 'mean texture <= 952.8999938964844', 'mean perimeter <= 42.19000053405762', 'mean area <= 0.4535500109195709', 'mean smoothness <= 30.145000457763672', 'ELSE', 'mean concavity <= 0.004223499912768602', 'ELSE', 'mean symmetry <= 23.199999809265137', 'ELSE', 'ELSE', 'ELSE', 'perimeter error <= -2.0', 'ELSE', 'ELSE', 'ELSE', 'ELSE', 'ELSE', 'ELSE', 'ELSE', 'ELSE', 'ELSE', 'ELSE', 'ELSE', 'ELSE', 'ELSE', 'ELSE', 'ELSE', 'ELSE', 'ELSE', 'ELSE'], ['mean radius <= 0.04891999997198582', 'mean texture <= 952.8999938964844', 'mean perimeter <= 42.19000053405762', 'mean area <= 0.4535500109195709', 'mean smoothness <= 30.145000457763672', 'ELSE', 'mean concavity <= 0.004223499912768602', 'ELSE', 'mean symmetry <= 23.199999809265137', 'mean fractal dimension <= 0.15929999947547913', 'ELSE', 'texture error <= -2.0', 'ELSE', 'ELSE', 'ELSE', 'ELSE', 'ELSE', 'ELSE', 'ELSE', 'ELSE', 'ELSE', 'ELSE', 'ELSE', 'ELSE', 'ELSE', 'ELSE', 'ELSE', 'ELSE', 'ELSE', 'ELSE', 'ELSE'], ['mean radius <= 0.04891999997198582', 'ELSE', 'ELSE', 'ELSE', 'ELSE', 'ELSE', 'ELSE', 'ELSE', 'ELSE', 'ELSE', 'ELSE', 'ELSE', 'ELSE', 'ELSE', 'ELSE', 'ELSE', 'ELSE', 'ELSE', 'ELSE', 'ELSE', 'worst radius <= 785.7999877929688', 'ELSE', 'ELSE', 'ELSE', 'ELSE', 'ELSE', 'worst concavity <= 0.1918499991297722', 'ELSE', 'worst symmetry <= 0.18205000460147858', 'ELSE'], ['mean radius <= 0.04891999997198582', 'ELSE', 'ELSE', 'ELSE', 'ELSE', 'ELSE', 'ELSE', 'ELSE', 'ELSE', 'ELSE', 'ELSE', 'ELSE', 'ELSE', 'ELSE', 'ELSE', 'ELSE', 'ELSE', 'ELSE', 'ELSE', 'ELSE', 'worst radius <= 785.7999877929688', 'ELSE', 'ELSE', 'ELSE', 'ELSE', 'ELSE', 'worst concavity <= 0.1918499991297722', 'ELSE', 'worst symmetry <= 0.18205000460147858', 'ELSE'], ['mean radius <= 0.04891999997198582', 'ELSE', 'ELSE', 'ELSE', 'ELSE', 'ELSE', 'ELSE', 'ELSE', 'ELSE', 'ELSE', 'ELSE', 'ELSE', 'ELSE', 'ELSE', 'ELSE', 'ELSE', 'ELSE', 'ELSE', 'ELSE', 'ELSE', 'worst radius <= 785.7999877929688', 'ELSE', 'ELSE', 'ELSE', 'ELSE', 'ELSE', 'worst concavity <= 0.1918499991297722', 'ELSE', 'worst symmetry <= 0.18205000460147858', 'ELSE'], ['mean radius <= 0.04891999997198582', 'mean texture <= 952.8999938964844', 'mean perimeter <= 42.19000053405762', 'mean area <= 0.4535500109195709', 'mean smoothness <= 30.145000457763672', 'mean compactness <= -2.0', 'ELSE', 'ELSE', 'ELSE', 'ELSE', 'ELSE', 'ELSE', 'ELSE', 'ELSE', 'ELSE', 'ELSE', 'ELSE', 'ELSE', 'ELSE', 'ELSE', 'ELSE', 'ELSE', 'ELSE', 'ELSE', 'ELSE', 'ELSE', 'ELSE', 'ELSE', 'ELSE', 'ELSE', 'ELSE'], ['mean radius <= 0.04891999997198582', 'mean texture <= 952.8999938964844', 'mean perimeter <= 42.19000053405762', 'mean area <= 0.4535500109195709', 'mean smoothness <= 30.145000457763672', 'mean compactness <= -2.0', 'ELSE', 'ELSE', 'ELSE', 'ELSE', 'ELSE', 'ELSE', 'ELSE', 'ELSE', 'ELSE', 'ELSE', 'ELSE', 'ELSE', 'ELSE', 'ELSE', 'ELSE', 'ELSE', 'ELSE', 'ELSE', 'ELSE', 'ELSE', 'ELSE', 'ELSE', 'ELSE', 'ELSE', 'ELSE'], ['mean radius <= 0.04891999997198582', 'ELSE', 'ELSE', 'ELSE', 'ELSE', 'ELSE', 'ELSE', 'ELSE', 'ELSE', 'ELSE', 'ELSE', 'ELSE', 'ELSE', 'ELSE', 'ELSE', 'ELSE', 'ELSE', 'ELSE', 'ELSE', 'ELSE', 'worst radius <= 785.7999877929688', 'ELSE', 'ELSE', 'ELSE', 'ELSE', 'ELSE', 'worst concavity <= 0.1918499991297722', 'ELSE', 'worst symmetry <= 0.18205000460147858', 'ELSE'], ['mean radius <= 0.04891999997198582', 'mean texture <= 952.8999938964844', 'mean perimeter <= 42.19000053405762', 'ELSE', 'ELSE', 'ELSE', 'ELSE', 'ELSE', 'ELSE', 'ELSE', 'ELSE', 'ELSE', 'ELSE', 'ELSE', 'smoothness error <= 0.01638999953866005', 'compactness error <= -2.0', 'ELSE', 'ELSE', 'ELSE', 'ELSE', 'ELSE', 'ELSE', 'ELSE', 'ELSE', 'ELSE', 'ELSE', 'ELSE', 'ELSE', 'ELSE', 'ELSE', 'ELSE'], ['mean radius <= 0.04891999997198582', 'ELSE', 'ELSE', 'ELSE', 'ELSE', 'ELSE', 'ELSE', 'ELSE', 'ELSE', 'ELSE', 'ELSE', 'ELSE', 'ELSE', 'ELSE', 'ELSE', 'ELSE', 'ELSE', 'ELSE', 'ELSE', 'ELSE', 'worst radius <= 785.7999877929688', 'ELSE', 'ELSE', 'ELSE', 'ELSE', 'ELSE', 'worst concavity <= 0.1918499991297722', 'ELSE', 'worst symmetry <= 0.18205000460147858', 'ELSE'], ['mean radius <= 0.04891999997198582', 'ELSE', 'ELSE', 'ELSE', 'ELSE', 'ELSE', 'ELSE', 'ELSE', 'ELSE', 'ELSE', 'ELSE', 'ELSE', 'ELSE', 'ELSE', 'ELSE', 'ELSE', 'ELSE', 'ELSE', 'ELSE', 'ELSE', 'worst radius <= 785.7999877929688', 'ELSE', 'ELSE', 'ELSE', 'ELSE', 'ELSE', 'worst concavity <= 0.1918499991297722', 'ELSE', 'worst symmetry <= 0.18205000460147858', 'ELSE'], ['mean radius <= 0.04891999997198582', 'ELSE', 'ELSE', 'ELSE', 'ELSE', 'ELSE', 'ELSE', 'ELSE', 'ELSE', 'ELSE', 'ELSE', 'ELSE', 'ELSE', 'ELSE', 'ELSE', 'ELSE', 'ELSE', 'ELSE', 'ELSE', 'ELSE', 'worst radius <= 785.7999877929688', 'ELSE', 'ELSE', 'ELSE', 'ELSE', 'ELSE', 'worst concavity <= 0.1918499991297722', 'ELSE', 'worst symmetry <= 0.18205000460147858', 'ELSE'], ['mean radius <= 0.04891999997198582', 'mean texture <= 952.8999938964844', 'mean perimeter <= 42.19000053405762', 'mean area <= 0.4535500109195709', 'mean smoothness <= 30.145000457763672', 'ELSE', 'mean concavity <= 0.004223499912768602', 'ELSE', 'mean symmetry <= 23.199999809265137', 'mean fractal dimension <= 0.15929999947547913', 'ELSE', 'texture error <= -2.0', 'ELSE', 'ELSE', 'ELSE', 'ELSE', 'ELSE', 'ELSE', 'ELSE', 'ELSE', 'ELSE', 'ELSE', 'ELSE', 'ELSE', 'ELSE', 'ELSE', 'ELSE', 'ELSE', 'ELSE', 'ELSE', 'ELSE'], ['mean radius <= 0.04891999997198582', 'mean texture <= 952.8999938964844', 'mean perimeter <= 42.19000053405762', 'mean area <= 0.4535500109195709', 'mean smoothness <= 30.145000457763672', 'mean compactness <= -2.0', 'ELSE', 'ELSE', 'ELSE', 'ELSE', 'ELSE', 'ELSE', 'ELSE', 'ELSE', 'ELSE', 'ELSE', 'ELSE', 'ELSE', 'ELSE', 'ELSE', 'ELSE', 'ELSE', 'ELSE', 'ELSE', 'ELSE', 'ELSE', 'ELSE', 'ELSE', 'ELSE', 'ELSE', 'ELSE'], ['mean radius <= 0.04891999997198582', 'ELSE', 'ELSE', 'ELSE', 'ELSE', 'ELSE', 'ELSE', 'ELSE', 'ELSE', 'ELSE', 'ELSE', 'ELSE', 'ELSE', 'ELSE', 'ELSE', 'ELSE', 'ELSE', 'ELSE', 'ELSE', 'ELSE', 'worst radius <= 785.7999877929688', 'ELSE', 'ELSE', 'ELSE', 'ELSE', 'ELSE', 'worst concavity <= 0.1918499991297722', 'ELSE', 'worst symmetry <= 0.18205000460147858', 'ELSE'], ['mean radius <= 0.04891999997198582', 'mean texture <= 952.8999938964844', 'mean perimeter <= 42.19000053405762', 'mean area <= 0.4535500109195709', 'mean smoothness <= 30.145000457763672', 'mean compactness <= -2.0', 'ELSE', 'ELSE', 'ELSE', 'ELSE', 'ELSE', 'ELSE', 'ELSE', 'ELSE', 'ELSE', 'ELSE', 'ELSE', 'ELSE', 'ELSE', 'ELSE', 'ELSE', 'ELSE', 'ELSE', 'ELSE', 'ELSE', 'ELSE', 'ELSE', 'ELSE', 'ELSE', 'ELSE', 'ELSE'], ['mean radius <= 0.04891999997198582', 'ELSE', 'ELSE', 'ELSE', 'ELSE', 'ELSE', 'ELSE', 'ELSE', 'ELSE', 'ELSE', 'ELSE', 'ELSE', 'ELSE', 'ELSE', 'ELSE', 'ELSE', 'ELSE', 'ELSE', 'ELSE', 'ELSE', 'worst radius <= 785.7999877929688', 'worst texture <= 23.739999771118164', 'ELSE', 'worst area <= 0.26820001006126404', 'worst smoothness <= -2.0', 'ELSE', 'ELSE', 'ELSE', 'ELSE', 'ELSE', 'ELSE'], ['mean radius <= 0.04891999997198582', 'ELSE', 'ELSE', 'ELSE', 'ELSE', 'ELSE', 'ELSE', 'ELSE', 'ELSE', 'ELSE', 'ELSE', 'ELSE', 'ELSE', 'ELSE', 'ELSE', 'ELSE', 'ELSE', 'ELSE', 'ELSE', 'ELSE', 'worst radius <= 785.7999877929688', 'ELSE', 'ELSE', 'ELSE', 'ELSE', 'ELSE', 'worst concavity <= 0.1918499991297722', 'ELSE', 'worst symmetry <= 0.18205000460147858', 'ELSE'], ['mean radius <= 0.04891999997198582', 'mean texture <= 952.8999938964844', 'mean perimeter <= 42.19000053405762', 'mean area <= 0.4535500109195709', 'mean smoothness <= 30.145000457763672', 'ELSE', 'mean concavity <= 0.004223499912768602', 'ELSE', 'mean symmetry <= 23.199999809265137', 'ELSE', 'ELSE', 'ELSE', 'perimeter error <= -2.0', 'ELSE', 'ELSE', 'ELSE', 'ELSE', 'ELSE', 'ELSE', 'ELSE', 'ELSE', 'ELSE', 'ELSE', 'ELSE', 'ELSE', 'ELSE', 'ELSE', 'ELSE', 'ELSE', 'ELSE', 'ELSE'], ['mean radius <= 0.04891999997198582', 'mean texture <= 952.8999938964844', 'mean perimeter <= 42.19000053405762', 'mean area <= 0.4535500109195709', 'mean smoothness <= 30.145000457763672', 'mean compactness <= -2.0', 'ELSE', 'ELSE', 'ELSE', 'ELSE', 'ELSE', 'ELSE', 'ELSE', 'ELSE', 'ELSE', 'ELSE', 'ELSE', 'ELSE', 'ELSE', 'ELSE', 'ELSE', 'ELSE', 'ELSE', 'ELSE', 'ELSE', 'ELSE', 'ELSE', 'ELSE', 'ELSE', 'ELSE', 'ELSE'], ['mean radius <= 0.04891999997198582', 'ELSE', 'ELSE', 'ELSE', 'ELSE', 'ELSE', 'ELSE', 'ELSE', 'ELSE', 'ELSE', 'ELSE', 'ELSE', 'ELSE', 'ELSE', 'ELSE', 'ELSE', 'ELSE', 'ELSE', 'ELSE', 'ELSE', 'worst radius <= 785.7999877929688', 'worst texture <= 23.739999771118164', 'ELSE', 'worst area <= 0.26820001006126404', 'ELSE', 'worst compactness <= -2.0', 'ELSE', 'ELSE', 'ELSE', 'ELSE', 'ELSE'], ['mean radius <= 0.04891999997198582', 'mean texture <= 952.8999938964844', 'mean perimeter <= 42.19000053405762', 'mean area <= 0.4535500109195709', 'mean smoothness <= 30.145000457763672', 'mean compactness <= -2.0', 'ELSE', 'ELSE', 'ELSE', 'ELSE', 'ELSE', 'ELSE', 'ELSE', 'ELSE', 'ELSE', 'ELSE', 'ELSE', 'ELSE', 'ELSE', 'ELSE', 'ELSE', 'ELSE', 'ELSE', 'ELSE', 'ELSE', 'ELSE', 'ELSE', 'ELSE', 'ELSE', 'ELSE', 'ELSE'], ['mean radius <= 0.04891999997198582', 'mean texture <= 952.8999938964844', 'mean perimeter <= 42.19000053405762', 'mean area <= 0.4535500109195709', 'mean smoothness <= 30.145000457763672', 'mean compactness <= -2.0', 'ELSE', 'ELSE', 'ELSE', 'ELSE', 'ELSE', 'ELSE', 'ELSE', 'ELSE', 'ELSE', 'ELSE', 'ELSE', 'ELSE', 'ELSE', 'ELSE', 'ELSE', 'ELSE', 'ELSE', 'ELSE', 'ELSE', 'ELSE', 'ELSE', 'ELSE', 'ELSE', 'ELSE', 'ELSE'], ['mean radius <= 0.04891999997198582', 'ELSE', 'ELSE', 'ELSE', 'ELSE', 'ELSE', 'ELSE', 'ELSE', 'ELSE', 'ELSE', 'ELSE', 'ELSE', 'ELSE', 'ELSE', 'ELSE', 'ELSE', 'ELSE', 'ELSE', 'ELSE', 'ELSE', 'worst radius <= 785.7999877929688', 'ELSE', 'ELSE', 'ELSE', 'ELSE', 'ELSE', 'worst concavity <= 0.1918499991297722', 'ELSE', 'worst symmetry <= 0.18205000460147858', 'ELSE'], ['mean radius <= 0.04891999997198582', 'ELSE', 'ELSE', 'ELSE', 'ELSE', 'ELSE', 'ELSE', 'ELSE', 'ELSE', 'ELSE', 'ELSE', 'ELSE', 'ELSE', 'ELSE', 'ELSE', 'ELSE', 'ELSE', 'ELSE', 'ELSE', 'ELSE', 'worst radius <= 785.7999877929688', 'ELSE', 'ELSE', 'ELSE', 'ELSE', 'ELSE', 'worst concavity <= 0.1918499991297722', 'ELSE', 'worst symmetry <= 0.18205000460147858', 'ELSE'], ['mean radius <= 0.04891999997198582', 'ELSE', 'ELSE', 'ELSE', 'ELSE', 'ELSE', 'ELSE', 'ELSE', 'ELSE', 'ELSE', 'ELSE', 'ELSE', 'ELSE', 'ELSE', 'ELSE', 'ELSE', 'ELSE', 'ELSE', 'ELSE', 'ELSE', 'worst radius <= 785.7999877929688', 'ELSE', 'ELSE', 'ELSE', 'ELSE', 'ELSE', 'worst concavity <= 0.1918499991297722', 'ELSE', 'worst symmetry <= 0.18205000460147858', 'ELSE'], ['mean radius <= 0.04891999997198582', 'mean texture <= 952.8999938964844', 'mean perimeter <= 42.19000053405762', 'mean area <= 0.4535500109195709', 'mean smoothness <= 30.145000457763672', 'mean compactness <= -2.0', 'ELSE', 'ELSE', 'ELSE', 'ELSE', 'ELSE', 'ELSE', 'ELSE', 'ELSE', 'ELSE', 'ELSE', 'ELSE', 'ELSE', 'ELSE', 'ELSE', 'ELSE', 'ELSE', 'ELSE', 'ELSE', 'ELSE', 'ELSE', 'ELSE', 'ELSE', 'ELSE', 'ELSE', 'ELSE'], ['mean radius <= 0.04891999997198582', 'ELSE', 'ELSE', 'ELSE', 'ELSE', 'ELSE', 'ELSE', 'ELSE', 'ELSE', 'ELSE', 'ELSE', 'ELSE', 'ELSE', 'ELSE', 'ELSE', 'ELSE', 'ELSE', 'ELSE', 'ELSE', 'ELSE', 'worst radius <= 785.7999877929688', 'ELSE', 'ELSE', 'ELSE', 'ELSE', 'ELSE', 'worst concavity <= 0.1918499991297722', 'ELSE', 'worst symmetry <= 0.18205000460147858', 'ELSE'], ['mean radius <= 0.04891999997198582', 'mean texture <= 952.8999938964844', 'mean perimeter <= 42.19000053405762', 'mean area <= 0.4535500109195709', 'mean smoothness <= 30.145000457763672', 'mean compactness <= -2.0', 'ELSE', 'ELSE', 'ELSE', 'ELSE', 'ELSE', 'ELSE', 'ELSE', 'ELSE', 'ELSE', 'ELSE', 'ELSE', 'ELSE', 'ELSE', 'ELSE', 'ELSE', 'ELSE', 'ELSE', 'ELSE', 'ELSE', 'ELSE', 'ELSE', 'ELSE', 'ELSE', 'ELSE', 'ELSE'], ['mean radius <= 0.04891999997198582', 'mean texture <= 952.8999938964844', 'mean perimeter <= 42.19000053405762', 'mean area <= 0.4535500109195709', 'mean smoothness <= 30.145000457763672', 'mean compactness <= -2.0', 'ELSE', 'ELSE', 'ELSE', 'ELSE', 'ELSE', 'ELSE', 'ELSE', 'ELSE', 'ELSE', 'ELSE', 'ELSE', 'ELSE', 'ELSE', 'ELSE', 'ELSE', 'ELSE', 'ELSE', 'ELSE', 'ELSE', 'ELSE', 'ELSE', 'ELSE', 'ELSE', 'ELSE', 'ELSE'], ['mean radius <= 0.04891999997198582', 'mean texture <= 952.8999938964844', 'mean perimeter <= 42.19000053405762', 'mean area <= 0.4535500109195709', 'mean smoothness <= 30.145000457763672', 'mean compactness <= -2.0', 'ELSE', 'ELSE', 'ELSE', 'ELSE', 'ELSE', 'ELSE', 'ELSE', 'ELSE', 'ELSE', 'ELSE', 'ELSE', 'ELSE', 'ELSE', 'ELSE', 'ELSE', 'ELSE', 'ELSE', 'ELSE', 'ELSE', 'ELSE', 'ELSE', 'ELSE', 'ELSE', 'ELSE', 'ELSE'], ['mean radius <= 0.04891999997198582', 'ELSE', 'ELSE', 'ELSE', 'ELSE', 'ELSE', 'ELSE', 'ELSE', 'ELSE', 'ELSE', 'ELSE', 'ELSE', 'ELSE', 'ELSE', 'ELSE', 'ELSE', 'ELSE', 'ELSE', 'ELSE', 'ELSE', 'worst radius <= 785.7999877929688', 'ELSE', 'ELSE', 'ELSE', 'ELSE', 'ELSE', 'worst concavity <= 0.1918499991297722', 'ELSE', 'worst symmetry <= 0.18205000460147858', 'ELSE'], ['mean radius <= 0.04891999997198582', 'ELSE', 'ELSE', 'ELSE', 'ELSE', 'ELSE', 'ELSE', 'ELSE', 'ELSE', 'ELSE', 'ELSE', 'ELSE', 'ELSE', 'ELSE', 'ELSE', 'ELSE', 'ELSE', 'ELSE', 'ELSE', 'ELSE', 'worst radius <= 785.7999877929688', 'ELSE', 'ELSE', 'ELSE', 'ELSE', 'ELSE', 'worst concavity <= 0.1918499991297722', 'ELSE', 'worst symmetry <= 0.18205000460147858', 'ELSE'], ['mean radius <= 0.04891999997198582', 'mean texture <= 952.8999938964844', 'mean perimeter <= 42.19000053405762', 'mean area <= 0.4535500109195709', 'mean smoothness <= 30.145000457763672', 'mean compactness <= -2.0', 'ELSE', 'ELSE', 'ELSE', 'ELSE', 'ELSE', 'ELSE', 'ELSE', 'ELSE', 'ELSE', 'ELSE', 'ELSE', 'ELSE', 'ELSE', 'ELSE', 'ELSE', 'ELSE', 'ELSE', 'ELSE', 'ELSE', 'ELSE', 'ELSE', 'ELSE', 'ELSE', 'ELSE', 'ELSE'], ['mean radius <= 0.04891999997198582', 'mean texture <= 952.8999938964844', 'ELSE', 'ELSE', 'ELSE', 'ELSE', 'ELSE', 'ELSE', 'ELSE', 'ELSE', 'ELSE', 'ELSE', 'ELSE', 'ELSE', 'ELSE', 'ELSE', 'ELSE', 'concave points error <= 18.960000038146973', 'symmetry error <= -2.0', 'ELSE', 'ELSE', 'ELSE', 'ELSE', 'ELSE', 'ELSE', 'ELSE', 'ELSE', 'ELSE', 'ELSE', 'ELSE', 'ELSE'], ['mean radius <= 0.04891999997198582', 'mean texture <= 952.8999938964844', 'mean perimeter <= 42.19000053405762', 'mean area <= 0.4535500109195709', 'mean smoothness <= 30.145000457763672', 'ELSE', 'mean concavity <= 0.004223499912768602', 'ELSE', 'mean symmetry <= 23.199999809265137', 'mean fractal dimension <= 0.15929999947547913', 'ELSE', 'texture error <= -2.0', 'ELSE', 'ELSE', 'ELSE', 'ELSE', 'ELSE', 'ELSE', 'ELSE', 'ELSE', 'ELSE', 'ELSE', 'ELSE', 'ELSE', 'ELSE', 'ELSE', 'ELSE', 'ELSE', 'ELSE', 'ELSE', 'ELSE'], ['mean radius <= 0.04891999997198582', 'ELSE', 'ELSE', 'ELSE', 'ELSE', 'ELSE', 'ELSE', 'ELSE', 'ELSE', 'ELSE', 'ELSE', 'ELSE', 'ELSE', 'ELSE', 'ELSE', 'ELSE', 'ELSE', 'ELSE', 'ELSE', 'ELSE', 'worst radius <= 785.7999877929688', 'ELSE', 'ELSE', 'ELSE', 'ELSE', 'ELSE', 'worst concavity <= 0.1918499991297722', 'ELSE', 'worst symmetry <= 0.18205000460147858', 'ELSE'], ['mean radius <= 0.04891999997198582', 'mean texture <= 952.8999938964844', 'mean perimeter <= 42.19000053405762', 'mean area <= 0.4535500109195709', 'mean smoothness <= 30.145000457763672', 'ELSE', 'mean concavity <= 0.004223499912768602', 'ELSE', 'mean symmetry <= 23.199999809265137', 'mean fractal dimension <= 0.15929999947547913', 'ELSE', 'texture error <= -2.0', 'ELSE', 'ELSE', 'ELSE', 'ELSE', 'ELSE', 'ELSE', 'ELSE', 'ELSE', 'ELSE', 'ELSE', 'ELSE', 'ELSE', 'ELSE', 'ELSE', 'ELSE', 'ELSE', 'ELSE', 'ELSE', 'ELSE'], ['mean radius <= 0.04891999997198582', 'mean texture <= 952.8999938964844', 'mean perimeter <= 42.19000053405762', 'mean area <= 0.4535500109195709', 'mean smoothness <= 30.145000457763672', 'mean compactness <= -2.0', 'ELSE', 'ELSE', 'ELSE', 'ELSE', 'ELSE', 'ELSE', 'ELSE', 'ELSE', 'ELSE', 'ELSE', 'ELSE', 'ELSE', 'ELSE', 'ELSE', 'ELSE', 'ELSE', 'ELSE', 'ELSE', 'ELSE', 'ELSE', 'ELSE', 'ELSE', 'ELSE', 'ELSE', 'ELSE'], ['mean radius <= 0.04891999997198582', 'ELSE', 'ELSE', 'ELSE', 'ELSE', 'ELSE', 'ELSE', 'ELSE', 'ELSE', 'ELSE', 'ELSE', 'ELSE', 'ELSE', 'ELSE', 'ELSE', 'ELSE', 'ELSE', 'ELSE', 'ELSE', 'ELSE', 'worst radius <= 785.7999877929688', 'ELSE', 'ELSE', 'ELSE', 'ELSE', 'ELSE', 'worst concavity <= 0.1918499991297722', 'ELSE', 'worst symmetry <= 0.18205000460147858', 'ELSE'], ['mean radius <= 0.04891999997198582', 'mean texture <= 952.8999938964844', 'mean perimeter <= 42.19000053405762', 'mean area <= 0.4535500109195709', 'ELSE', 'ELSE', 'ELSE', 'ELSE', 'ELSE', 'ELSE', 'ELSE', 'ELSE', 'ELSE', 'area error <= -2.0', 'ELSE', 'ELSE', 'ELSE', 'ELSE', 'ELSE', 'ELSE', 'ELSE', 'ELSE', 'ELSE', 'ELSE', 'ELSE', 'ELSE', 'ELSE', 'ELSE', 'ELSE', 'ELSE', 'ELSE'], ['mean radius <= 0.04891999997198582', 'mean texture <= 952.8999938964844', 'mean perimeter <= 42.19000053405762', 'mean area <= 0.4535500109195709', 'mean smoothness <= 30.145000457763672', 'mean compactness <= -2.0', 'ELSE', 'ELSE', 'ELSE', 'ELSE', 'ELSE', 'ELSE', 'ELSE', 'ELSE', 'ELSE', 'ELSE', 'ELSE', 'ELSE', 'ELSE', 'ELSE', 'ELSE', 'ELSE', 'ELSE', 'ELSE', 'ELSE', 'ELSE', 'ELSE', 'ELSE', 'ELSE', 'ELSE', 'ELSE'], ['mean radius <= 0.04891999997198582', 'mean texture <= 952.8999938964844', 'mean perimeter <= 42.19000053405762', 'mean area <= 0.4535500109195709', 'mean smoothness <= 30.145000457763672', 'mean compactness <= -2.0', 'ELSE', 'ELSE', 'ELSE', 'ELSE', 'ELSE', 'ELSE', 'ELSE', 'ELSE', 'ELSE', 'ELSE', 'ELSE', 'ELSE', 'ELSE', 'ELSE', 'ELSE', 'ELSE', 'ELSE', 'ELSE', 'ELSE', 'ELSE', 'ELSE', 'ELSE', 'ELSE', 'ELSE', 'ELSE'], ['mean radius <= 0.04891999997198582', 'mean texture <= 952.8999938964844', 'mean perimeter <= 42.19000053405762', 'mean area <= 0.4535500109195709', 'mean smoothness <= 30.145000457763672', 'mean compactness <= -2.0', 'ELSE', 'ELSE', 'ELSE', 'ELSE', 'ELSE', 'ELSE', 'ELSE', 'ELSE', 'ELSE', 'ELSE', 'ELSE', 'ELSE', 'ELSE', 'ELSE', 'ELSE', 'ELSE', 'ELSE', 'ELSE', 'ELSE', 'ELSE', 'ELSE', 'ELSE', 'ELSE', 'ELSE', 'ELSE'], ['mean radius <= 0.04891999997198582', 'mean texture <= 952.8999938964844', 'mean perimeter <= 42.19000053405762', 'mean area <= 0.4535500109195709', 'mean smoothness <= 30.145000457763672', 'mean compactness <= -2.0', 'ELSE', 'ELSE', 'ELSE', 'ELSE', 'ELSE', 'ELSE', 'ELSE', 'ELSE', 'ELSE', 'ELSE', 'ELSE', 'ELSE', 'ELSE', 'ELSE', 'ELSE', 'ELSE', 'ELSE', 'ELSE', 'ELSE', 'ELSE', 'ELSE', 'ELSE', 'ELSE', 'ELSE', 'ELSE'], ['mean radius <= 0.04891999997198582', 'mean texture <= 952.8999938964844', 'mean perimeter <= 42.19000053405762', 'mean area <= 0.4535500109195709', 'mean smoothness <= 30.145000457763672', 'mean compactness <= -2.0', 'ELSE', 'ELSE', 'ELSE', 'ELSE', 'ELSE', 'ELSE', 'ELSE', 'ELSE', 'ELSE', 'ELSE', 'ELSE', 'ELSE', 'ELSE', 'ELSE', 'ELSE', 'ELSE', 'ELSE', 'ELSE', 'ELSE', 'ELSE', 'ELSE', 'ELSE', 'ELSE', 'ELSE', 'ELSE'], ['mean radius <= 0.04891999997198582', 'mean texture <= 952.8999938964844', 'mean perimeter <= 42.19000053405762', 'mean area <= 0.4535500109195709', 'mean smoothness <= 30.145000457763672', 'ELSE', 'mean concavity <= 0.004223499912768602', 'ELSE', 'mean symmetry <= 23.199999809265137', 'ELSE', 'ELSE', 'ELSE', 'perimeter error <= -2.0', 'ELSE', 'ELSE', 'ELSE', 'ELSE', 'ELSE', 'ELSE', 'ELSE', 'ELSE', 'ELSE', 'ELSE', 'ELSE', 'ELSE', 'ELSE', 'ELSE', 'ELSE', 'ELSE', 'ELSE', 'ELSE'], ['mean radius <= 0.04891999997198582', 'ELSE', 'ELSE', 'ELSE', 'ELSE', 'ELSE', 'ELSE', 'ELSE', 'ELSE', 'ELSE', 'ELSE', 'ELSE', 'ELSE', 'ELSE', 'ELSE', 'ELSE', 'ELSE', 'ELSE', 'ELSE', 'ELSE', 'worst radius <= 785.7999877929688', 'ELSE', 'ELSE', 'ELSE', 'ELSE', 'ELSE', 'worst concavity <= 0.1918499991297722', 'ELSE', 'worst symmetry <= 0.18205000460147858', 'ELSE'], ['mean radius <= 0.04891999997198582', 'ELSE', 'ELSE', 'ELSE', 'ELSE', 'ELSE', 'ELSE', 'ELSE', 'ELSE', 'ELSE', 'ELSE', 'ELSE', 'ELSE', 'ELSE', 'ELSE', 'ELSE', 'ELSE', 'ELSE', 'ELSE', 'ELSE', 'worst radius <= 785.7999877929688', 'worst texture <= 23.739999771118164', 'worst perimeter <= -2.0', 'ELSE', 'ELSE', 'ELSE', 'ELSE', 'ELSE', 'ELSE', 'ELSE', 'ELSE'], ['mean radius <= 0.04891999997198582', 'ELSE', 'ELSE', 'ELSE', 'ELSE', 'ELSE', 'ELSE', 'ELSE', 'ELSE', 'ELSE', 'ELSE', 'ELSE', 'ELSE', 'ELSE', 'ELSE', 'ELSE', 'ELSE', 'ELSE', 'ELSE', 'ELSE', 'worst radius <= 785.7999877929688', 'ELSE', 'ELSE', 'ELSE', 'ELSE', 'ELSE', 'worst concavity <= 0.1918499991297722', 'ELSE', 'worst symmetry <= 0.18205000460147858', 'ELSE'], ['mean radius <= 0.04891999997198582', 'ELSE', 'ELSE', 'ELSE', 'ELSE', 'ELSE', 'ELSE', 'ELSE', 'ELSE', 'ELSE', 'ELSE', 'ELSE', 'ELSE', 'ELSE', 'ELSE', 'ELSE', 'ELSE', 'ELSE', 'ELSE', 'ELSE', 'worst radius <= 785.7999877929688', 'worst texture <= 23.739999771118164', 'ELSE', 'worst area <= 0.26820001006126404', 'worst smoothness <= -2.0', 'ELSE', 'ELSE', 'ELSE', 'ELSE', 'ELSE', 'ELSE'], ['mean radius <= 0.04891999997198582', 'mean texture <= 952.8999938964844', 'ELSE', 'ELSE', 'ELSE', 'ELSE', 'ELSE', 'ELSE', 'ELSE', 'ELSE', 'ELSE', 'ELSE', 'ELSE', 'ELSE', 'ELSE', 'ELSE', 'ELSE', 'concave points error <= 18.960000038146973', 'ELSE', 'fractal dimension error <= -2.0', 'ELSE', 'ELSE', 'ELSE', 'ELSE', 'ELSE', 'ELSE', 'ELSE', 'ELSE', 'ELSE', 'ELSE', 'ELSE'], ['mean radius <= 0.04891999997198582', 'ELSE', 'ELSE', 'ELSE', 'ELSE', 'ELSE', 'ELSE', 'ELSE', 'ELSE', 'ELSE', 'ELSE', 'ELSE', 'ELSE', 'ELSE', 'ELSE', 'ELSE', 'ELSE', 'ELSE', 'ELSE', 'ELSE', 'worst radius <= 785.7999877929688', 'ELSE', 'ELSE', 'ELSE', 'ELSE', 'ELSE', 'worst concavity <= 0.1918499991297722', 'ELSE', 'worst symmetry <= 0.18205000460147858', 'ELSE'], ['mean radius <= 0.04891999997198582', 'mean texture <= 952.8999938964844', 'mean perimeter <= 42.19000053405762', 'mean area <= 0.4535500109195709', 'mean smoothness <= 30.145000457763672', 'mean compactness <= -2.0', 'ELSE', 'ELSE', 'ELSE', 'ELSE', 'ELSE', 'ELSE', 'ELSE', 'ELSE', 'ELSE', 'ELSE', 'ELSE', 'ELSE', 'ELSE', 'ELSE', 'ELSE', 'ELSE', 'ELSE', 'ELSE', 'ELSE', 'ELSE', 'ELSE', 'ELSE', 'ELSE', 'ELSE', 'ELSE'], ['mean radius <= 0.04891999997198582', 'ELSE', 'ELSE', 'ELSE', 'ELSE', 'ELSE', 'ELSE', 'ELSE', 'ELSE', 'ELSE', 'ELSE', 'ELSE', 'ELSE', 'ELSE', 'ELSE', 'ELSE', 'ELSE', 'ELSE', 'ELSE', 'ELSE', 'worst radius <= 785.7999877929688', 'ELSE', 'ELSE', 'ELSE', 'ELSE', 'ELSE', 'worst concavity <= 0.1918499991297722', 'ELSE', 'worst symmetry <= 0.18205000460147858', 'ELSE'], ['mean radius <= 0.04891999997198582', 'ELSE', 'ELSE', 'ELSE', 'ELSE', 'ELSE', 'ELSE', 'ELSE', 'ELSE', 'ELSE', 'ELSE', 'ELSE', 'ELSE', 'ELSE', 'ELSE', 'ELSE', 'ELSE', 'ELSE', 'ELSE', 'ELSE', 'worst radius <= 785.7999877929688', 'ELSE', 'ELSE', 'ELSE', 'ELSE', 'ELSE', 'worst concavity <= 0.1918499991297722', 'ELSE', 'worst symmetry <= 0.18205000460147858', 'ELSE'], ['mean radius <= 0.04891999997198582', 'ELSE', 'ELSE', 'ELSE', 'ELSE', 'ELSE', 'ELSE', 'ELSE', 'ELSE', 'ELSE', 'ELSE', 'ELSE', 'ELSE', 'ELSE', 'ELSE', 'ELSE', 'ELSE', 'ELSE', 'ELSE', 'ELSE', 'worst radius <= 785.7999877929688', 'ELSE', 'ELSE', 'ELSE', 'ELSE', 'ELSE', 'worst concavity <= 0.1918499991297722', 'ELSE', 'worst symmetry <= 0.18205000460147858', 'ELSE'], ['mean radius <= 0.04891999997198582', 'mean texture <= 952.8999938964844', 'mean perimeter <= 42.19000053405762', 'mean area <= 0.4535500109195709', 'mean smoothness <= 30.145000457763672', 'mean compactness <= -2.0', 'ELSE', 'ELSE', 'ELSE', 'ELSE', 'ELSE', 'ELSE', 'ELSE', 'ELSE', 'ELSE', 'ELSE', 'ELSE', 'ELSE', 'ELSE', 'ELSE', 'ELSE', 'ELSE', 'ELSE', 'ELSE', 'ELSE', 'ELSE', 'ELSE', 'ELSE', 'ELSE', 'ELSE', 'ELSE'], ['mean radius <= 0.04891999997198582', 'mean texture <= 952.8999938964844', 'mean perimeter <= 42.19000053405762', 'mean area <= 0.4535500109195709', 'mean smoothness <= 30.145000457763672', 'ELSE', 'mean concavity <= 0.004223499912768602', 'ELSE', 'mean symmetry <= 23.199999809265137', 'mean fractal dimension <= 0.15929999947547913', 'ELSE', 'texture error <= -2.0', 'ELSE', 'ELSE', 'ELSE', 'ELSE', 'ELSE', 'ELSE', 'ELSE', 'ELSE', 'ELSE', 'ELSE', 'ELSE', 'ELSE', 'ELSE', 'ELSE', 'ELSE', 'ELSE', 'ELSE', 'ELSE', 'ELSE'], ['mean radius <= 0.04891999997198582', 'mean texture <= 952.8999938964844', 'mean perimeter <= 42.19000053405762', 'mean area <= 0.4535500109195709', 'mean smoothness <= 30.145000457763672', 'mean compactness <= -2.0', 'ELSE', 'ELSE', 'ELSE', 'ELSE', 'ELSE', 'ELSE', 'ELSE', 'ELSE', 'ELSE', 'ELSE', 'ELSE', 'ELSE', 'ELSE', 'ELSE', 'ELSE', 'ELSE', 'ELSE', 'ELSE', 'ELSE', 'ELSE', 'ELSE', 'ELSE', 'ELSE', 'ELSE', 'ELSE'], ['mean radius <= 0.04891999997198582', 'mean texture <= 952.8999938964844', 'mean perimeter <= 42.19000053405762', 'mean area <= 0.4535500109195709', 'mean smoothness <= 30.145000457763672', 'mean compactness <= -2.0', 'ELSE', 'ELSE', 'ELSE', 'ELSE', 'ELSE', 'ELSE', 'ELSE', 'ELSE', 'ELSE', 'ELSE', 'ELSE', 'ELSE', 'ELSE', 'ELSE', 'ELSE', 'ELSE', 'ELSE', 'ELSE', 'ELSE', 'ELSE', 'ELSE', 'ELSE', 'ELSE', 'ELSE', 'ELSE'], ['mean radius <= 0.04891999997198582', 'mean texture <= 952.8999938964844', 'mean perimeter <= 42.19000053405762', 'mean area <= 0.4535500109195709', 'mean smoothness <= 30.145000457763672', 'ELSE', 'mean concavity <= 0.004223499912768602', 'ELSE', 'mean symmetry <= 23.199999809265137', 'mean fractal dimension <= 0.15929999947547913', 'radius error <= -2.0', 'ELSE', 'ELSE', 'ELSE', 'ELSE', 'ELSE', 'ELSE', 'ELSE', 'ELSE', 'ELSE', 'ELSE', 'ELSE', 'ELSE', 'ELSE', 'ELSE', 'ELSE', 'ELSE', 'ELSE', 'ELSE', 'ELSE', 'ELSE'], ['mean radius <= 0.04891999997198582', 'mean texture <= 952.8999938964844', 'mean perimeter <= 42.19000053405762', 'mean area <= 0.4535500109195709', 'mean smoothness <= 30.145000457763672', 'mean compactness <= -2.0', 'ELSE', 'ELSE', 'ELSE', 'ELSE', 'ELSE', 'ELSE', 'ELSE', 'ELSE', 'ELSE', 'ELSE', 'ELSE', 'ELSE', 'ELSE', 'ELSE', 'ELSE', 'ELSE', 'ELSE', 'ELSE', 'ELSE', 'ELSE', 'ELSE', 'ELSE', 'ELSE', 'ELSE', 'ELSE'], ['mean radius <= 0.04891999997198582', 'mean texture <= 952.8999938964844', 'mean perimeter <= 42.19000053405762', 'mean area <= 0.4535500109195709', 'mean smoothness <= 30.145000457763672', 'mean compactness <= -2.0', 'ELSE', 'ELSE', 'ELSE', 'ELSE', 'ELSE', 'ELSE', 'ELSE', 'ELSE', 'ELSE', 'ELSE', 'ELSE', 'ELSE', 'ELSE', 'ELSE', 'ELSE', 'ELSE', 'ELSE', 'ELSE', 'ELSE', 'ELSE', 'ELSE', 'ELSE', 'ELSE', 'ELSE', 'ELSE'], ['mean radius <= 0.04891999997198582', 'mean texture <= 952.8999938964844', 'mean perimeter <= 42.19000053405762', 'mean area <= 0.4535500109195709', 'mean smoothness <= 30.145000457763672', 'mean compactness <= -2.0', 'ELSE', 'ELSE', 'ELSE', 'ELSE', 'ELSE', 'ELSE', 'ELSE', 'ELSE', 'ELSE', 'ELSE', 'ELSE', 'ELSE', 'ELSE', 'ELSE', 'ELSE', 'ELSE', 'ELSE', 'ELSE', 'ELSE', 'ELSE', 'ELSE', 'ELSE', 'ELSE', 'ELSE', 'ELSE'], ['mean radius <= 0.04891999997198582', 'ELSE', 'ELSE', 'ELSE', 'ELSE', 'ELSE', 'ELSE', 'ELSE', 'ELSE', 'ELSE', 'ELSE', 'ELSE', 'ELSE', 'ELSE', 'ELSE', 'ELSE', 'ELSE', 'ELSE', 'ELSE', 'ELSE', 'worst radius <= 785.7999877929688', 'worst texture <= 23.739999771118164', 'ELSE', 'worst area <= 0.26820001006126404', 'ELSE', 'worst compactness <= -2.0', 'ELSE', 'ELSE', 'ELSE', 'ELSE', 'ELSE'], ['mean radius <= 0.04891999997198582', 'ELSE', 'ELSE', 'ELSE', 'ELSE', 'ELSE', 'ELSE', 'ELSE', 'ELSE', 'ELSE', 'ELSE', 'ELSE', 'ELSE', 'ELSE', 'ELSE', 'ELSE', 'ELSE', 'ELSE', 'ELSE', 'ELSE', 'worst radius <= 785.7999877929688', 'worst texture <= 23.739999771118164', 'worst perimeter <= -2.0', 'ELSE', 'ELSE', 'ELSE', 'ELSE', 'ELSE', 'ELSE', 'ELSE', 'ELSE'], ['mean radius <= 0.04891999997198582', 'ELSE', 'ELSE', 'ELSE', 'ELSE', 'ELSE', 'ELSE', 'ELSE', 'ELSE', 'ELSE', 'ELSE', 'ELSE', 'ELSE', 'ELSE', 'ELSE', 'ELSE', 'ELSE', 'ELSE', 'ELSE', 'ELSE', 'worst radius <= 785.7999877929688', 'ELSE', 'ELSE', 'ELSE', 'ELSE', 'ELSE', 'worst concavity <= 0.1918499991297722', 'ELSE', 'worst symmetry <= 0.18205000460147858', 'ELSE'], ['mean radius <= 0.04891999997198582', 'ELSE', 'ELSE', 'ELSE', 'ELSE', 'ELSE', 'ELSE', 'ELSE', 'ELSE', 'ELSE', 'ELSE', 'ELSE', 'ELSE', 'ELSE', 'ELSE', 'ELSE', 'ELSE', 'ELSE', 'ELSE', 'ELSE', 'worst radius <= 785.7999877929688', 'worst texture <= 23.739999771118164', 'ELSE', 'worst area <= 0.26820001006126404', 'worst smoothness <= -2.0', 'ELSE', 'ELSE', 'ELSE', 'ELSE', 'ELSE', 'ELSE'], ['mean radius <= 0.04891999997198582', 'mean texture <= 952.8999938964844', 'mean perimeter <= 42.19000053405762', 'ELSE', 'ELSE', 'ELSE', 'ELSE', 'ELSE', 'ELSE', 'ELSE', 'ELSE', 'ELSE', 'ELSE', 'ELSE', 'smoothness error <= 0.01638999953866005', 'compactness error <= -2.0', 'ELSE', 'ELSE', 'ELSE', 'ELSE', 'ELSE', 'ELSE', 'ELSE', 'ELSE', 'ELSE', 'ELSE', 'ELSE', 'ELSE', 'ELSE', 'ELSE', 'ELSE'], ['mean radius <= 0.04891999997198582', 'mean texture <= 952.8999938964844', 'mean perimeter <= 42.19000053405762', 'mean area <= 0.4535500109195709', 'mean smoothness <= 30.145000457763672', 'mean compactness <= -2.0', 'ELSE', 'ELSE', 'ELSE', 'ELSE', 'ELSE', 'ELSE', 'ELSE', 'ELSE', 'ELSE', 'ELSE', 'ELSE', 'ELSE', 'ELSE', 'ELSE', 'ELSE', 'ELSE', 'ELSE', 'ELSE', 'ELSE', 'ELSE', 'ELSE', 'ELSE', 'ELSE', 'ELSE', 'ELSE'], ['mean radius <= 0.04891999997198582', 'mean texture <= 952.8999938964844', 'mean perimeter <= 42.19000053405762', 'mean area <= 0.4535500109195709', 'mean smoothness <= 30.145000457763672', 'mean compactness <= -2.0', 'ELSE', 'ELSE', 'ELSE', 'ELSE', 'ELSE', 'ELSE', 'ELSE', 'ELSE', 'ELSE', 'ELSE', 'ELSE', 'ELSE', 'ELSE', 'ELSE', 'ELSE', 'ELSE', 'ELSE', 'ELSE', 'ELSE', 'ELSE', 'ELSE', 'ELSE', 'ELSE', 'ELSE', 'ELSE'], ['mean radius <= 0.04891999997198582', 'mean texture <= 952.8999938964844', 'mean perimeter <= 42.19000053405762', 'mean area <= 0.4535500109195709', 'mean smoothness <= 30.145000457763672', 'mean compactness <= -2.0', 'ELSE', 'ELSE', 'ELSE', 'ELSE', 'ELSE', 'ELSE', 'ELSE', 'ELSE', 'ELSE', 'ELSE', 'ELSE', 'ELSE', 'ELSE', 'ELSE', 'ELSE', 'ELSE', 'ELSE', 'ELSE', 'ELSE', 'ELSE', 'ELSE', 'ELSE', 'ELSE', 'ELSE', 'ELSE'], ['mean radius <= 0.04891999997198582', 'ELSE', 'ELSE', 'ELSE', 'ELSE', 'ELSE', 'ELSE', 'ELSE', 'ELSE', 'ELSE', 'ELSE', 'ELSE', 'ELSE', 'ELSE', 'ELSE', 'ELSE', 'ELSE', 'ELSE', 'ELSE', 'ELSE', 'worst radius <= 785.7999877929688', 'ELSE', 'ELSE', 'ELSE', 'ELSE', 'ELSE', 'worst concavity <= 0.1918499991297722', 'ELSE', 'worst symmetry <= 0.18205000460147858', 'ELSE'], ['mean radius <= 0.04891999997198582', 'mean texture <= 952.8999938964844', 'mean perimeter <= 42.19000053405762', 'mean area <= 0.4535500109195709', 'mean smoothness <= 30.145000457763672', 'mean compactness <= -2.0', 'ELSE', 'ELSE', 'ELSE', 'ELSE', 'ELSE', 'ELSE', 'ELSE', 'ELSE', 'ELSE', 'ELSE', 'ELSE', 'ELSE', 'ELSE', 'ELSE', 'ELSE', 'ELSE', 'ELSE', 'ELSE', 'ELSE', 'ELSE', 'ELSE', 'ELSE', 'ELSE', 'ELSE', 'ELSE'], ['mean radius <= 0.04891999997198582', 'mean texture <= 952.8999938964844', 'mean perimeter <= 42.19000053405762', 'mean area <= 0.4535500109195709', 'mean smoothness <= 30.145000457763672', 'mean compactness <= -2.0', 'ELSE', 'ELSE', 'ELSE', 'ELSE', 'ELSE', 'ELSE', 'ELSE', 'ELSE', 'ELSE', 'ELSE', 'ELSE', 'ELSE', 'ELSE', 'ELSE', 'ELSE', 'ELSE', 'ELSE', 'ELSE', 'ELSE', 'ELSE', 'ELSE', 'ELSE', 'ELSE', 'ELSE', 'ELSE'], ['mean radius <= 0.04891999997198582', 'ELSE', 'ELSE', 'ELSE', 'ELSE', 'ELSE', 'ELSE', 'ELSE', 'ELSE', 'ELSE', 'ELSE', 'ELSE', 'ELSE', 'ELSE', 'ELSE', 'ELSE', 'ELSE', 'ELSE', 'ELSE', 'ELSE', 'worst radius <= 785.7999877929688', 'worst texture <= 23.739999771118164', 'ELSE', 'worst area <= 0.26820001006126404', 'ELSE', 'worst compactness <= -2.0', 'ELSE', 'ELSE', 'ELSE', 'ELSE', 'ELSE'], ['mean radius <= 0.04891999997198582', 'mean texture <= 952.8999938964844', 'mean perimeter <= 42.19000053405762', 'mean area <= 0.4535500109195709', 'ELSE', 'ELSE', 'ELSE', 'ELSE', 'ELSE', 'ELSE', 'ELSE', 'ELSE', 'ELSE', 'area error <= -2.0', 'ELSE', 'ELSE', 'ELSE', 'ELSE', 'ELSE', 'ELSE', 'ELSE', 'ELSE', 'ELSE', 'ELSE', 'ELSE', 'ELSE', 'ELSE', 'ELSE', 'ELSE', 'ELSE', 'ELSE'], ['mean radius <= 0.04891999997198582', 'mean texture <= 952.8999938964844', 'mean perimeter <= 42.19000053405762', 'mean area <= 0.4535500109195709', 'mean smoothness <= 30.145000457763672', 'mean compactness <= -2.0', 'ELSE', 'ELSE', 'ELSE', 'ELSE', 'ELSE', 'ELSE', 'ELSE', 'ELSE', 'ELSE', 'ELSE', 'ELSE', 'ELSE', 'ELSE', 'ELSE', 'ELSE', 'ELSE', 'ELSE', 'ELSE', 'ELSE', 'ELSE', 'ELSE', 'ELSE', 'ELSE', 'ELSE', 'ELSE'], ['mean radius <= 0.04891999997198582', 'mean texture <= 952.8999938964844', 'mean perimeter <= 42.19000053405762', 'mean area <= 0.4535500109195709', 'mean smoothness <= 30.145000457763672', 'ELSE', 'mean concavity <= 0.004223499912768602', 'ELSE', 'mean symmetry <= 23.199999809265137', 'ELSE', 'ELSE', 'ELSE', 'perimeter error <= -2.0', 'ELSE', 'ELSE', 'ELSE', 'ELSE', 'ELSE', 'ELSE', 'ELSE', 'ELSE', 'ELSE', 'ELSE', 'ELSE', 'ELSE', 'ELSE', 'ELSE', 'ELSE', 'ELSE', 'ELSE', 'ELSE'], ['mean radius <= 0.04891999997198582', 'mean texture <= 952.8999938964844', 'ELSE', 'ELSE', 'ELSE', 'ELSE', 'ELSE', 'ELSE', 'ELSE', 'ELSE', 'ELSE', 'ELSE', 'ELSE', 'ELSE', 'ELSE', 'ELSE', 'ELSE', 'concave points error <= 18.960000038146973', 'ELSE', 'fractal dimension error <= -2.0', 'ELSE', 'ELSE', 'ELSE', 'ELSE', 'ELSE', 'ELSE', 'ELSE', 'ELSE', 'ELSE', 'ELSE', 'ELSE'], ['mean radius <= 0.04891999997198582', 'ELSE', 'ELSE', 'ELSE', 'ELSE', 'ELSE', 'ELSE', 'ELSE', 'ELSE', 'ELSE', 'ELSE', 'ELSE', 'ELSE', 'ELSE', 'ELSE', 'ELSE', 'ELSE', 'ELSE', 'ELSE', 'ELSE', 'worst radius <= 785.7999877929688', 'ELSE', 'ELSE', 'ELSE', 'ELSE', 'ELSE', 'worst concavity <= 0.1918499991297722', 'ELSE', 'worst symmetry <= 0.18205000460147858', 'ELSE'], ['mean radius <= 0.04891999997198582', 'mean texture <= 952.8999938964844', 'mean perimeter <= 42.19000053405762', 'mean area <= 0.4535500109195709', 'mean smoothness <= 30.145000457763672', 'mean compactness <= -2.0', 'ELSE', 'ELSE', 'ELSE', 'ELSE', 'ELSE', 'ELSE', 'ELSE', 'ELSE', 'ELSE', 'ELSE', 'ELSE', 'ELSE', 'ELSE', 'ELSE', 'ELSE', 'ELSE', 'ELSE', 'ELSE', 'ELSE', 'ELSE', 'ELSE', 'ELSE', 'ELSE', 'ELSE', 'ELSE'], ['mean radius <= 0.04891999997198582', 'mean texture <= 952.8999938964844', 'mean perimeter <= 42.19000053405762', 'mean area <= 0.4535500109195709', 'mean smoothness <= 30.145000457763672', 'mean compactness <= -2.0', 'ELSE', 'ELSE', 'ELSE', 'ELSE', 'ELSE', 'ELSE', 'ELSE', 'ELSE', 'ELSE', 'ELSE', 'ELSE', 'ELSE', 'ELSE', 'ELSE', 'ELSE', 'ELSE', 'ELSE', 'ELSE', 'ELSE', 'ELSE', 'ELSE', 'ELSE', 'ELSE', 'ELSE', 'ELSE'], ['mean radius <= 0.04891999997198582', 'ELSE', 'ELSE', 'ELSE', 'ELSE', 'ELSE', 'ELSE', 'ELSE', 'ELSE', 'ELSE', 'ELSE', 'ELSE', 'ELSE', 'ELSE', 'ELSE', 'ELSE', 'ELSE', 'ELSE', 'ELSE', 'ELSE', 'worst radius <= 785.7999877929688', 'worst texture <= 23.739999771118164', 'worst perimeter <= -2.0', 'ELSE', 'ELSE', 'ELSE', 'ELSE', 'ELSE', 'ELSE', 'ELSE', 'ELSE'], ['mean radius <= 0.04891999997198582', 'ELSE', 'ELSE', 'ELSE', 'ELSE', 'ELSE', 'ELSE', 'ELSE', 'ELSE', 'ELSE', 'ELSE', 'ELSE', 'ELSE', 'ELSE', 'ELSE', 'ELSE', 'ELSE', 'ELSE', 'ELSE', 'ELSE', 'worst radius <= 785.7999877929688', 'ELSE', 'ELSE', 'ELSE', 'ELSE', 'ELSE', 'worst concavity <= 0.1918499991297722', 'ELSE', 'worst symmetry <= 0.18205000460147858', 'ELSE']]\n"
     ]
    }
   ],
   "source": [
    "# Convert the decision rules to a list of strings\n",
    "rules = []\n",
    "for i in range(decision_rules.shape[0]):\n",
    "    rule = []\n",
    "    for j in range(decision_rules.shape[1]):\n",
    "        try:\n",
    "            if decision_rules[i, j] == 1:\n",
    "                feature = data['feature_names'][j]\n",
    "                threshold = clf.tree_.threshold[j]\n",
    "                rule.append(f'{feature} <= {threshold}')\n",
    "            else:\n",
    "                rule.append('ELSE')\n",
    "        except IndexError:\n",
    "            pass\n",
    "    rules.append(rule)\n",
    "\n",
    "print(rules)"
   ]
  },
  {
   "cell_type": "code",
   "execution_count": 2,
   "id": "444c66cf-4d34-49e1-8648-a49800413784",
   "metadata": {},
   "outputs": [
    {
     "name": "stdout",
     "output_type": "stream",
     "text": [
      "Collecting carla-recourse\n",
      "  Cloning https://github.com/carla-recourse/carla.git to c:\\users\\hussaini_21000736\\appdata\\local\\temp\\pip-install-9531h_1w\\carla-recourse_6945ef977495485b9de6d0c3c1b78002\n",
      "  Resolved https://github.com/carla-recourse/carla.git to commit 24db00aa8616eb2faedea0d6edf6e307cee9d192\n",
      "  Preparing metadata (setup.py): started\n",
      "  Preparing metadata (setup.py): finished with status 'done'\n",
      "Collecting protobuf<=3.21\n",
      "  Using cached protobuf-3.20.3-cp39-cp39-win_amd64.whl (904 kB)\n",
      "Collecting lime==0.2.0.1\n",
      "  Using cached lime-0.2.0.1.tar.gz (275 kB)\n",
      "  Preparing metadata (setup.py): started\n",
      "  Preparing metadata (setup.py): finished with status 'done'\n",
      "Collecting mip==1.12.0\n",
      "  Using cached mip-1.12.0-py3-none-any.whl (47.1 MB)\n",
      "Collecting numpy==1.19.4\n",
      "  Using cached numpy-1.19.4-cp39-cp39-win_amd64.whl (13.0 MB)\n",
      "Collecting pandas==1.1.4\n",
      "  Using cached pandas-1.1.4-cp39-cp39-win_amd64.whl (8.9 MB)\n",
      "Collecting recourse==1.0.0\n",
      "  Using cached recourse-1.0.0-py3-none-any.whl (45 kB)\n",
      "Collecting scikit-learn==0.23.2\n",
      "  Using cached scikit-learn-0.23.2.tar.gz (7.2 MB)\n",
      "  Installing build dependencies: started\n",
      "  Installing build dependencies: finished with status 'done'\n",
      "  Getting requirements to build wheel: started\n",
      "  Getting requirements to build wheel: finished with status 'done'\n",
      "  Preparing metadata (pyproject.toml): started\n",
      "  Preparing metadata (pyproject.toml): finished with status 'done'\n",
      "Note: you may need to restart the kernel to use updated packages.\n"
     ]
    },
    {
     "name": "stderr",
     "output_type": "stream",
     "text": [
      "  Running command git clone --filter=blob:none --quiet https://github.com/carla-recourse/carla.git 'C:\\Users\\hussaini_21000736\\AppData\\Local\\Temp\\pip-install-9531h_1w\\carla-recourse_6945ef977495485b9de6d0c3c1b78002'\n",
      "ERROR: Could not find a version that satisfies the requirement tensorflow==1.14.0 (from carla-recourse) (from versions: 2.5.0, 2.5.1, 2.5.2, 2.5.3, 2.6.0rc0, 2.6.0rc1, 2.6.0rc2, 2.6.0, 2.6.1, 2.6.2, 2.6.3, 2.6.4, 2.6.5, 2.7.0rc0, 2.7.0rc1, 2.7.0, 2.7.1, 2.7.2, 2.7.3, 2.7.4, 2.8.0rc0, 2.8.0rc1, 2.8.0, 2.8.1, 2.8.2, 2.8.3, 2.8.4, 2.9.0rc0, 2.9.0rc1, 2.9.0rc2, 2.9.0, 2.9.1, 2.9.2, 2.9.3, 2.10.0rc0, 2.10.0rc1, 2.10.0rc2, 2.10.0rc3, 2.10.0, 2.10.1, 2.11.0rc0, 2.11.0rc1, 2.11.0rc2, 2.11.0, 2.11.1, 2.12.0rc0, 2.12.0rc1, 2.12.0, 2.13.0rc0)\n",
      "ERROR: No matching distribution found for tensorflow==1.14.0\n"
     ]
    }
   ],
   "source": [
    "pip install git+https://github.com/carla-recourse/carla.git#egg=carla-recourse"
   ]
  },
  {
   "cell_type": "code",
   "execution_count": null,
   "id": "80484e8c",
   "metadata": {},
   "outputs": [],
   "source": []
  }
 ],
 "metadata": {
  "kernelspec": {
   "display_name": "Python 3 (ipykernel)",
   "language": "python",
   "name": "python3"
  },
  "language_info": {
   "codemirror_mode": {
    "name": "ipython",
    "version": 3
   },
   "file_extension": ".py",
   "mimetype": "text/x-python",
   "name": "python",
   "nbconvert_exporter": "python",
   "pygments_lexer": "ipython3",
   "version": "3.9.15"
  }
 },
 "nbformat": 4,
 "nbformat_minor": 5
}
